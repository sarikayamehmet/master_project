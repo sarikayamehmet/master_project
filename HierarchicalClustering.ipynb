{
 "cells": [
  {
   "cell_type": "markdown",
   "metadata": {},
   "source": [
    "### Hierarchical clustering with Random Forest\n"
   ]
  },
  {
   "cell_type": "code",
   "execution_count": 1,
   "metadata": {
    "collapsed": true
   },
   "outputs": [],
   "source": [
    "import pandas as pd\n",
    "import matplotlib.pyplot as plt\n",
    "import numpy as np\n",
    "from matplotlib import pyplot as plt\n",
    "from sklearn.cluster import AgglomerativeClustering \n",
    "from scipy.spatial.distance import pdist, squareform\n",
    "from scipy.cluster.hierarchy import linkage, dendrogram"
   ]
  },
  {
   "cell_type": "code",
   "execution_count": 2,
   "metadata": {
    "collapsed": true
   },
   "outputs": [],
   "source": [
    "train = pd.read_csv(\"/home/ec2-user/Final/FinalTrainingSet.csv\")\n",
    "test = pd.read_csv(\"/home/ec2-user/Final/FinalTestSet.csv\")"
   ]
  },
  {
   "cell_type": "code",
   "execution_count": 3,
   "metadata": {
    "collapsed": false
   },
   "outputs": [
    {
     "data": {
      "text/plain": [
       "(495745, 56)"
      ]
     },
     "execution_count": 3,
     "metadata": {},
     "output_type": "execute_result"
    }
   ],
   "source": [
    "train.shape"
   ]
  },
  {
   "cell_type": "code",
   "execution_count": 4,
   "metadata": {
    "collapsed": false
   },
   "outputs": [
    {
     "name": "stdout",
     "output_type": "stream",
     "text": [
      "('We have', 80000, 'unique users in the training set')\n",
      "('new train shape', (121227, 56))\n"
     ]
    }
   ],
   "source": [
    "\"DownSample train \"\n",
    "import random\n",
    "random.seed(12)\n",
    "unique_users = train.user_id.unique()\n",
    "print(\"We have\", len(unique_users), \"unique users in the training set\")\n",
    "sel_user_ids = [unique_users[i] for i in sorted(random.sample(range(len(unique_users)), 20000)) ]\n",
    "train = train[train.user_id.isin(sel_user_ids)]\n",
    "print(\"new train shape\", train.shape)"
   ]
  },
  {
   "cell_type": "markdown",
   "metadata": {},
   "source": [
    "We will use hierarchial clustering to create some new features"
   ]
  },
  {
   "cell_type": "code",
   "execution_count": null,
   "metadata": {
    "collapsed": false
   },
   "outputs": [
    {
     "name": "stdout",
     "output_type": "stream",
     "text": [
      "('size of train after dropping duplicates', (311167, 54))\n"
     ]
    }
   ],
   "source": [
    "from matplotlib import pyplot as plt\n",
    "from sklearn.cluster import AgglomerativeClustering \n",
    "from scipy.spatial.distance import pdist, squareform\n",
    "from scipy.cluster.hierarchy import linkage, dendrogram\n",
    "\"Select var based on destination attributes: \"\n",
    "selectDestvar = ['srch_destination_id','user_location_region','season']\n",
    "tr =  train[selectDestvar]\n",
    "te =  test[selectDestvar]\n",
    "traintest = tr.append(te)\n",
    "traintest = traintest.drop_duplicates()\n",
    "print(\"size of train after dropping duplicates\", train.shape)\n",
    "data_dist = pdist(traintest[selectDestvar], 'cosine') # computing the distance\n",
    "data_link = linkage(data_dist, 'average') # computing the linkage\n",
    "dendrogram(data_link)\n",
    "plt.xlabel('data points')\n",
    "plt.ylabel('cosine Distance')\n",
    "plt.suptitle('clustering based on destination attribute', fontweight='bold', fontsize=14);"
   ]
  },
  {
   "cell_type": "code",
   "execution_count": null,
   "metadata": {
    "collapsed": true
   },
   "outputs": [],
   "source": [
    "#from scipy.spatial.distance import pdist, squareform\n",
    "#from scipy.cluster.hierarchy import linkage, dendrogram\n",
    "\"Select var based on hotel attributes: \"\n",
    "selectHotelvar = ['hotel_continent', 'hotel_country','hotel_market','month']\n",
    "tr =  train[selectHotelvar]\n",
    "te =  test[selectHotelvar]\n",
    "traintest = tr.append(te)\n",
    "traintest = traintest.drop_duplicates()\n",
    "data_dist = pdist(traintest[selectHotelvar], 'cosine') # computing the distance\n",
    "data_link = linkage(data_dist, 'average') # computing the linkage\n",
    "dendrogram(data_link)\n",
    "plt.xlabel('data points')\n",
    "plt.ylabel('cosine Distance')\n",
    "plt.suptitle('clustering based on hotel attribute', fontweight='bold', fontsize=14);"
   ]
  },
  {
   "cell_type": "code",
   "execution_count": null,
   "metadata": {
    "collapsed": true
   },
   "outputs": [],
   "source": [
    "\"Select var based on user attributes: \"\n",
    "selectUserVar = ['user_location_country', 'user_location_region', 'user_location_city' , 'site_name']\n",
    "tr =  train[selectUserVar]\n",
    "te =  test[selectUserVar]\n",
    "traintest = tr.append(te)\n",
    "traintest = traintest.drop_duplicates()\n",
    "data_dist = pdist(traintest[selectUserVar], 'cosine') # computing the distance\n",
    "data_link = linkage(data_dist, 'average') # computing the linkage\n",
    "dendrogram(data_link)\n",
    "plt.xlabel('data points')\n",
    "plt.ylabel('cosine Distance')\n",
    "plt.suptitle('clustering based on user attribute', fontweight='bold', fontsize=14);"
   ]
  },
  {
   "cell_type": "code",
   "execution_count": 5,
   "metadata": {
    "collapsed": false
   },
   "outputs": [
    {
     "name": "stdout",
     "output_type": "stream",
     "text": [
      "('train size before concatenating', (121227, 3))\n",
      "('test size before concatenating', (41597, 3))\n",
      "('size before dropping duplicates', (162824, 3))\n",
      "('size after dropping duplicates', (2612, 3))\n",
      "('train size before adding new feature', (121227, 56))\n",
      "('test size before adding new feature', (41597, 56))\n",
      "('train size after adding new feature', (121227, 57))\n",
      "('test size after adding new feature', (41597, 57))\n"
     ]
    }
   ],
   "source": [
    "\"Select var based on user attributes:\"\n",
    "selectUserVar = ['user_location_country', 'user_location_region', 'site_name']\n",
    "tr =  train[selectUserVar]\n",
    "print(\"train size before concatenating\", tr.shape)\n",
    "te =  test[selectUserVar]\n",
    "print(\"test size before concatenating\", te.shape)\n",
    "traintest = tr.append(te)\n",
    "print(\"size before dropping duplicates\", traintest.shape)\n",
    "traintest = traintest.drop_duplicates()\n",
    "print(\"size after dropping duplicates\", traintest.shape)\n",
    "\n",
    "\" Clustering Starts:\"\n",
    "from sklearn.cluster import AgglomerativeClustering \n",
    "hclust= AgglomerativeClustering(n_clusters=8, affinity='cosine',linkage='average')\n",
    "cluster_id = hclust.fit_predict(traintest) # get the ids\n",
    "\n",
    "\"Join Clusters\"\n",
    "traintest['cluster_U'] = pd.Series(cluster_id, index=traintest.index)\n",
    "print(\"train size before adding new feature\", train.shape)\n",
    "print(\"test size before adding new feature\", test.shape)\n",
    "train = train.merge(traintest, how='left', left_on=selectUserVar, \n",
    "                  right_on=selectUserVar)\n",
    "test = test.merge(traintest, how='left', left_on=selectUserVar, \n",
    "                  right_on=selectUserVar)\n",
    "print(\"train size after adding new feature\", train.shape)\n",
    "print(\"test size after adding new feature\", test.shape)"
   ]
  },
  {
   "cell_type": "code",
   "execution_count": 6,
   "metadata": {
    "collapsed": false
   },
   "outputs": [
    {
     "name": "stdout",
     "output_type": "stream",
     "text": [
      "('train size before concatenating', (121227, 4))\n",
      "('test size before concatenating', (41597, 4))\n",
      "('size before dropping duplicates', (162824, 4))\n",
      "('size after dropping duplicates', (13732, 4))\n",
      "('train size before adding new feature', (121227, 57))\n",
      "('test size before adding new feature', (41597, 57))\n",
      "('train size after adding new feature', (121227, 58))\n",
      "('test size after adding new feature', (41597, 58))\n"
     ]
    }
   ],
   "source": [
    "\"Select var based on hotel attributes: \"\n",
    "selectHotelvar = ['hotel_continent', 'hotel_country','hotel_market','month']\n",
    "tr =  train[selectHotelvar]\n",
    "print(\"train size before concatenating\", tr.shape)\n",
    "te =  test[selectHotelvar]\n",
    "print(\"test size before concatenating\", te.shape)\n",
    "traintest = tr.append(te)\n",
    "print(\"size before dropping duplicates\", traintest.shape)\n",
    "traintest = traintest.drop_duplicates()\n",
    "print(\"size after dropping duplicates\", traintest.shape)\n",
    "\n",
    "\" Clustering Starts: We are using cosine similarities\"\n",
    "from sklearn.cluster import AgglomerativeClustering \n",
    "hclust= AgglomerativeClustering(n_clusters=8, affinity='cosine',linkage='average')\n",
    "cluster_id = hclust.fit_predict(traintest) # get the ids\n",
    "\n",
    "\"Join Clusters\"\n",
    "traintest['cluster_H'] = pd.Series(cluster_id, index=traintest.index)\n",
    "print(\"train size before adding new feature\", train.shape)\n",
    "print(\"test size before adding new feature\", test.shape)\n",
    "train = train.merge(traintest, how='left', left_on=selectHotelvar, \n",
    "                  right_on=selectHotelvar)\n",
    "test = test.merge(traintest, how='left', left_on=selectHotelvar, \n",
    "                  right_on=selectHotelvar)\n",
    "print(\"train size after adding new feature\", train.shape)\n",
    "print(\"test size after adding new feature\", test.shape)"
   ]
  },
  {
   "cell_type": "code",
   "execution_count": 7,
   "metadata": {
    "collapsed": false
   },
   "outputs": [
    {
     "name": "stdout",
     "output_type": "stream",
     "text": [
      "('train size before concatenating', (121227, 2))\n",
      "('test size before concatenating', (41597, 2))\n",
      "('size before dropping duplicates', (162824, 2))\n",
      "('size after dropping duplicates', (2532, 2))\n",
      "('train size before adding new feature', (121227, 58))\n",
      "('test size before adding new feature', (41597, 58))\n",
      "('train size after adding new feature', (121227, 59))\n",
      "('test size after adding new feature', (41597, 59))\n"
     ]
    }
   ],
   "source": [
    "\"Select var based on destination attributes: \"\n",
    "selectDestvar = ['srch_destination_type_id', 'user_location_region']\n",
    "tr =  train[selectDestvar]\n",
    "print(\"train size before concatenating\", tr.shape)\n",
    "te =  test[selectDestvar]\n",
    "print(\"test size before concatenating\", te.shape)\n",
    "traintest = tr.append(te)\n",
    "print(\"size before dropping duplicates\", traintest.shape)\n",
    "traintest = traintest.drop_duplicates()\n",
    "print(\"size after dropping duplicates\", traintest.shape)\n",
    "\n",
    "\" Clustering Starts: We are using cosine similarities\"\n",
    "from sklearn.cluster import AgglomerativeClustering \n",
    "hclust= AgglomerativeClustering(n_clusters=8, affinity='cosine',linkage='average')\n",
    "cluster_id = hclust.fit_predict(traintest) # get the ids\n",
    "\n",
    "\"Join Clusters\"\n",
    "traintest['cluster_D'] = pd.Series(cluster_id, index=traintest.index)\n",
    "print(\"train size before adding new feature\", train.shape)\n",
    "print(\"test size before adding new feature\", test.shape)\n",
    "train = train.merge(traintest, how='left', left_on=selectDestvar, \n",
    "                  right_on=selectDestvar)\n",
    "test = test.merge(traintest, how='left', left_on=selectDestvar, \n",
    "                  right_on=selectDestvar)\n",
    "print(\"train size after adding new feature\", train.shape)\n",
    "print(\"test size after adding new feature\", test.shape)"
   ]
  },
  {
   "cell_type": "code",
   "execution_count": 8,
   "metadata": {
    "collapsed": false
   },
   "outputs": [
    {
     "name": "stdout",
     "output_type": "stream",
     "text": [
      "('test shape', (41597, 59))\n",
      "('train shape', (121227, 59))\n"
     ]
    }
   ],
   "source": [
    "print(\"test shape\", test.shape)\n",
    "print(\"train shape\", train.shape)"
   ]
  },
  {
   "cell_type": "code",
   "execution_count": 10,
   "metadata": {
    "collapsed": false
   },
   "outputs": [],
   "source": [
    "train.to_csv(\"~/Final/hclustDatTrain.csv\")\n",
    "test.to_csv(\"~/Final/hclustDatTest.csv\")\n",
    "# We downsample train data for test\n",
    "# Test data is same but we added cluster id features. "
   ]
  },
  {
   "cell_type": "code",
   "execution_count": 13,
   "metadata": {
    "collapsed": false
   },
   "outputs": [
    {
     "data": {
      "text/plain": [
       "array(['Unnamed: 0', 'Unnamed: 0.1', 'user_location_country',\n",
       "       'hotel_cluster', 'user_location_region', 'user_location_city',\n",
       "       'hotel_country', 'hotel_market', 'srch_destination_id', 'date_time',\n",
       "       'site_name', 'posa_continent', 'orig_destination_distance',\n",
       "       'user_id', 'is_mobile', 'is_package', 'channel', 'srch_ci',\n",
       "       'srch_co', 'srch_adults_cnt', 'srch_children_cnt', 'srch_rm_cnt',\n",
       "       'srch_destination_type_id', 'is_booking', 'cnt', 'hotel_continent',\n",
       "       'year', 'month', 'day', 'hour', 'part_of_day', 'type_of_day',\n",
       "       'season', 'is_alone', 'dest_feature_pc1', 'dest_feature_pc2',\n",
       "       'dest_feature_pc3', 'clickRate', 'bookRate', 'clickMRate',\n",
       "       'bookMRate', 'clickHCRate', 'bookHCRate', 'clickURate', 'bookURate',\n",
       "       'clickUCRRate', 'bookUCRRate', 'clickUCRate', 'bookUCRate',\n",
       "       'popScoreHmc_Count', 'popScoreU_Count', 'popScoreSite_Count',\n",
       "       'popScoreDest_Count', 'popScoreCityDest_Count',\n",
       "       'popScoreCityH_Count', 'duration_of_stay', 'cluster_U', 'cluster_H',\n",
       "       'cluster_D'], dtype=object)"
      ]
     },
     "execution_count": 13,
     "metadata": {},
     "output_type": "execute_result"
    }
   ],
   "source": [
    "train.columns.values"
   ]
  },
  {
   "cell_type": "code",
   "execution_count": 14,
   "metadata": {
    "collapsed": false,
    "scrolled": true
   },
   "outputs": [
    {
     "data": {
      "text/plain": [
       "array(['Unnamed: 0', 'Unnamed: 0.1', 'user_location_country',\n",
       "       'hotel_cluster', 'user_location_region', 'user_location_city',\n",
       "       'hotel_country', 'hotel_market', 'srch_destination_id', 'date_time',\n",
       "       'site_name', 'posa_continent', 'orig_destination_distance',\n",
       "       'user_id', 'is_mobile', 'is_package', 'channel', 'srch_ci',\n",
       "       'srch_co', 'srch_adults_cnt', 'srch_children_cnt', 'srch_rm_cnt',\n",
       "       'srch_destination_type_id', 'is_booking', 'cnt', 'hotel_continent',\n",
       "       'year', 'month', 'day', 'hour', 'part_of_day', 'type_of_day',\n",
       "       'season', 'is_alone', 'dest_feature_pc1', 'dest_feature_pc2',\n",
       "       'dest_feature_pc3', 'clickRate', 'bookRate', 'clickMRate',\n",
       "       'bookMRate', 'clickHCRate', 'bookHCRate', 'clickURate', 'bookURate',\n",
       "       'clickUCRRate', 'bookUCRRate', 'clickUCRate', 'bookUCRate',\n",
       "       'popScoreHmc_Count', 'popScoreU_Count', 'popScoreSite_Count',\n",
       "       'popScoreDest_Count', 'popScoreCityDest_Count',\n",
       "       'popScoreCityH_Count', 'duration_of_stay', 'cluster_U', 'cluster_H',\n",
       "       'cluster_D'], dtype=object)"
      ]
     },
     "execution_count": 14,
     "metadata": {},
     "output_type": "execute_result"
    }
   ],
   "source": [
    "test.columns.values"
   ]
  },
  {
   "cell_type": "markdown",
   "metadata": {},
   "source": [
    "#### Introduce these new feature and check weather it improves performance!"
   ]
  },
  {
   "cell_type": "code",
   "execution_count": 16,
   "metadata": {
    "collapsed": false
   },
   "outputs": [
    {
     "name": "stdout",
     "output_type": "stream",
     "text": [
      "('accuracy score for test - Model 6(in %) is:', 7.938072457148353)\n"
     ]
    }
   ],
   "source": [
    "from sklearn.ensemble import RandomForestClassifier\n",
    "from sklearn.cross_validation import KFold\n",
    "from itertools import chain\n",
    "model6_RF = RandomForestClassifier(n_estimators=50, min_weight_fraction_leaf=0.1, random_state=3)\n",
    "popularityVar = ['popScoreHmc_Count', 'popScoreU_Count', 'popScoreSite_Count',\n",
    "       'popScoreDest_Count', 'popScoreCityDest_Count',\n",
    "       'popScoreCityH_Count','cluster_U', 'cluster_H',\n",
    "       'cluster_D'] \n",
    "model6_RF.fit(train[popularityVar], train['hotel_cluster'])\n",
    "test_score = model6_RF.score(test[popularityVar], test['hotel_cluster'])\n",
    "print(\"accuracy score for test - Model 6(in %) is:\",test_score*100)"
   ]
  },
  {
   "cell_type": "code",
   "execution_count": 18,
   "metadata": {
    "collapsed": false
   },
   "outputs": [
    {
     "data": {
      "image/png": "[encoded data removed]",
      "text/plain": [
       "<matplotlib.figure.Figure at 0x7fd602355e90>"
      ]
     },
     "metadata": {},
     "output_type": "display_data"
    }
   ],
   "source": [
    "importances = model6_RF.feature_importances_\n",
    "std = np.std([tree.feature_importances_ for tree in model6_RF.estimators_],\n",
    "             axis=0)\n",
    "indices = np.argsort(importances)[::-1]\n",
    "\n",
    "plt.title(\"Feature importances\")\n",
    "plt.barh(range(len(popularityVar)), importances[indices], yerr=std[indices], align=\"center\", color='cornflowerblue')\n",
    "impFeatures=[]\n",
    "for i in indices:\n",
    "    impFeatures.append(popularityVar[i])\n",
    "    \n",
    "plt.yticks(range(len(popularityVar)), impFeatures)\n",
    "plt.ylim([-1, len(popularityVar)])\n",
    "plt.show()"
   ]
  },
  {
   "cell_type": "code",
   "execution_count": 17,
   "metadata": {
    "collapsed": false
   },
   "outputs": [
    {
     "name": "stdout",
     "output_type": "stream",
     "text": [
      "('accuracy score for test - Model 3(in %) is:', 7.1038776834867896)\n"
     ]
    }
   ],
   "source": [
    "from sklearn.ensemble import RandomForestClassifier\n",
    "from sklearn.cross_validation import KFold\n",
    "from itertools import chain\n",
    "model3_RF = RandomForestClassifier(n_estimators=50, min_weight_fraction_leaf=0.1, random_state=3)\n",
    "\n",
    "fatureEng1 = [    'part_of_day', 'type_of_day', 'season', \n",
    "                  'duration_of_stay', 'is_alone', \n",
    "                  'dest_feature_pc1', 'dest_feature_pc2', 'dest_feature_pc3','cluster_U', 'cluster_H',\n",
    "       'cluster_D' ]\n",
    "model3_RF.fit(train[fatureEng1], train['hotel_cluster'])\n",
    "test_score = model3_RF.score(test[fatureEng1], test['hotel_cluster'])\n",
    "print(\"accuracy score for test - Model 3(in %) is:\",test_score*100)"
   ]
  },
  {
   "cell_type": "code",
   "execution_count": 19,
   "metadata": {
    "collapsed": false
   },
   "outputs": [
    {
     "data": {
      "image/png": "[encoded data removed]",
      "text/plain": [
       "<matplotlib.figure.Figure at 0x7fd6022db610>"
      ]
     },
     "metadata": {},
     "output_type": "display_data"
    }
   ],
   "source": [
    "importances = model3_RF.feature_importances_\n",
    "std = np.std([tree.feature_importances_ for tree in model3_RF.estimators_],\n",
    "             axis=0)\n",
    "indices = np.argsort(importances)[::-1]\n",
    "\n",
    "plt.title(\"Feature importances\")\n",
    "plt.barh(range(len(fatureEng1)), importances[indices], yerr=std[indices], align=\"center\", color='cornflowerblue')\n",
    "impFeatures=[]\n",
    "for i in indices:\n",
    "    impFeatures.append(fatureEng1[i])\n",
    "    \n",
    "plt.yticks(range(len(fatureEng1)), impFeatures)\n",
    "plt.ylim([-1, len(fatureEng1)])\n",
    "plt.show()"
   ]
  },
  {
   "cell_type": "markdown",
   "metadata": {},
   "source": [
    "Cluster ids found significant and test score accuracy increased by 1-2%"
   ]
  },
  {
   "cell_type": "code",
   "execution_count": null,
   "metadata": {
    "collapsed": true
   },
   "outputs": [],
   "source": []
  }
 ],
 "metadata": {
  "anaconda-cloud": {},
  "kernelspec": {
   "display_name": "Python [conda root]",
   "language": "python",
   "name": "conda-root-py"
  },
  "language_info": {
   "codemirror_mode": {
    "name": "ipython",
    "version": 2
   },
   "file_extension": ".py",
   "mimetype": "text/x-python",
   "name": "python",
   "nbconvert_exporter": "python",
   "pygments_lexer": "ipython2",
   "version": "2.7.12"
  }
 },
 "nbformat": 4,
 "nbformat_minor": 1
}
