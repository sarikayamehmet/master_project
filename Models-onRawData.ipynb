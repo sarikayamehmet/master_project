{
 "cells": [
  {
   "cell_type": "markdown",
   "metadata": {
    "collapsed": true
   },
   "source": [
    "<h1 style=\"text-align: center;\" markdown=\"1\">Models on the raw data</h1>"
   ]
  },
  {
   "cell_type": "markdown",
   "metadata": {
    "collapsed": true
   },
   "source": [
    "First model is build using all the raw features except dates attributes. This model tells us how random\n",
    "forest model performs on the overall data. We evaluate importance scores for attributes to see \n",
    "which variables are importants in term of their predictive power"
   ]
  },
  {
   "cell_type": "code",
   "execution_count": 2,
   "metadata": {
    "collapsed": false
   },
   "outputs": [],
   "source": [
    "import pandas as pd\n",
    "import matplotlib.pyplot as plt"
   ]
  },
  {
   "cell_type": "markdown",
   "metadata": {},
   "source": [
    "### Configure path and load the data"
   ]
  },
  {
   "cell_type": "code",
   "execution_count": 3,
   "metadata": {
    "collapsed": true
   },
   "outputs": [],
   "source": [
    "#### Configure path\n",
    "trainPath = \"~/train14.csv\""
   ]
  },
  {
   "cell_type": "code",
   "execution_count": 4,
   "metadata": {
    "collapsed": false
   },
   "outputs": [],
   "source": [
    "train = pd.read_csv(trainPath)"
   ]
  },
  {
   "cell_type": "code",
   "execution_count": 5,
   "metadata": {
    "collapsed": false
   },
   "outputs": [
    {
     "name": "stdout",
     "output_type": "stream",
     "text": [
      "('train data size', (18200524, 37))\n"
     ]
    }
   ],
   "source": [
    "print(\"train data size\", train.shape)"
   ]
  },
  {
   "cell_type": "code",
   "execution_count": 6,
   "metadata": {
    "collapsed": false,
    "scrolled": true
   },
   "outputs": [
    {
     "data": {
      "text/plain": [
       "array(['Unnamed: 0', 'srch_destination_id', 'date_time', 'site_name',\n",
       "       'posa_continent', 'user_location_country', 'user_location_region',\n",
       "       'user_location_city', 'orig_destination_distance', 'user_id',\n",
       "       'is_mobile', 'is_package', 'channel', 'srch_ci', 'srch_co',\n",
       "       'srch_adults_cnt', 'srch_children_cnt', 'srch_rm_cnt',\n",
       "       'srch_destination_type_id', 'is_booking', 'cnt', 'hotel_continent',\n",
       "       'hotel_country', 'hotel_market', 'hotel_cluster', 'year', 'month',\n",
       "       'day', 'hour', 'part_of_day', 'type_of_day', 'season',\n",
       "       'duration_of_stay', 'is_alone', 'dest_feature_pc1',\n",
       "       'dest_feature_pc2', 'dest_feature_pc3'], dtype=object)"
      ]
     },
     "execution_count": 6,
     "metadata": {},
     "output_type": "execute_result"
    }
   ],
   "source": [
    "train.columns.values"
   ]
  },
  {
   "cell_type": "markdown",
   "metadata": {},
   "source": [
    "#### Select raw features !"
   ]
  },
  {
   "cell_type": "code",
   "execution_count": 7,
   "metadata": {
    "collapsed": true
   },
   "outputs": [],
   "source": [
    "rawPredictors = ['site_name', 'posa_continent', 'user_location_country', 'user_location_region',\n",
    "                 'user_location_city', 'orig_destination_distance', 'user_id','is_mobile', 'is_package', 'channel',\n",
    "                 'srch_adults_cnt', 'srch_children_cnt', 'srch_rm_cnt','srch_destination_id', 'srch_destination_type_id', 'is_booking',\n",
    "                  'cnt', 'hotel_continent', 'hotel_country', 'hotel_market', 'hotel_cluster']"
   ]
  },
  {
   "cell_type": "code",
   "execution_count": 8,
   "metadata": {
    "collapsed": false
   },
   "outputs": [
    {
     "data": {
      "text/html": [
       "<div>\n",
       "<table border=\"1\" class=\"dataframe\">\n",
       "  <thead>\n",
       "    <tr style=\"text-align: right;\">\n",
       "      <th></th>\n",
       "      <th>site_name</th>\n",
       "      <th>posa_continent</th>\n",
       "      <th>user_location_country</th>\n",
       "      <th>user_location_region</th>\n",
       "      <th>user_location_city</th>\n",
       "      <th>orig_destination_distance</th>\n",
       "      <th>user_id</th>\n",
       "      <th>is_mobile</th>\n",
       "      <th>is_package</th>\n",
       "      <th>channel</th>\n",
       "      <th>...</th>\n",
       "      <th>srch_children_cnt</th>\n",
       "      <th>srch_rm_cnt</th>\n",
       "      <th>srch_destination_id</th>\n",
       "      <th>srch_destination_type_id</th>\n",
       "      <th>is_booking</th>\n",
       "      <th>cnt</th>\n",
       "      <th>hotel_continent</th>\n",
       "      <th>hotel_country</th>\n",
       "      <th>hotel_market</th>\n",
       "      <th>hotel_cluster</th>\n",
       "    </tr>\n",
       "  </thead>\n",
       "  <tbody>\n",
       "    <tr>\n",
       "      <th>0</th>\n",
       "      <td>18</td>\n",
       "      <td>2</td>\n",
       "      <td>231</td>\n",
       "      <td>48</td>\n",
       "      <td>2982</td>\n",
       "      <td>NaN</td>\n",
       "      <td>1195632</td>\n",
       "      <td>0</td>\n",
       "      <td>0</td>\n",
       "      <td>5</td>\n",
       "      <td>...</td>\n",
       "      <td>0</td>\n",
       "      <td>6</td>\n",
       "      <td>1</td>\n",
       "      <td>3</td>\n",
       "      <td>0</td>\n",
       "      <td>2</td>\n",
       "      <td>5</td>\n",
       "      <td>76</td>\n",
       "      <td>1537</td>\n",
       "      <td>30</td>\n",
       "    </tr>\n",
       "    <tr>\n",
       "      <th>1</th>\n",
       "      <td>18</td>\n",
       "      <td>2</td>\n",
       "      <td>231</td>\n",
       "      <td>48</td>\n",
       "      <td>2982</td>\n",
       "      <td>NaN</td>\n",
       "      <td>1195632</td>\n",
       "      <td>0</td>\n",
       "      <td>1</td>\n",
       "      <td>5</td>\n",
       "      <td>...</td>\n",
       "      <td>0</td>\n",
       "      <td>6</td>\n",
       "      <td>1</td>\n",
       "      <td>3</td>\n",
       "      <td>0</td>\n",
       "      <td>1</td>\n",
       "      <td>5</td>\n",
       "      <td>76</td>\n",
       "      <td>1537</td>\n",
       "      <td>60</td>\n",
       "    </tr>\n",
       "    <tr>\n",
       "      <th>2</th>\n",
       "      <td>23</td>\n",
       "      <td>1</td>\n",
       "      <td>1</td>\n",
       "      <td>401</td>\n",
       "      <td>230</td>\n",
       "      <td>NaN</td>\n",
       "      <td>999935</td>\n",
       "      <td>0</td>\n",
       "      <td>0</td>\n",
       "      <td>3</td>\n",
       "      <td>...</td>\n",
       "      <td>0</td>\n",
       "      <td>2</td>\n",
       "      <td>1</td>\n",
       "      <td>3</td>\n",
       "      <td>0</td>\n",
       "      <td>4</td>\n",
       "      <td>5</td>\n",
       "      <td>76</td>\n",
       "      <td>1537</td>\n",
       "      <td>30</td>\n",
       "    </tr>\n",
       "  </tbody>\n",
       "</table>\n",
       "<p>3 rows × 21 columns</p>\n",
       "</div>"
      ],
      "text/plain": [
       "   site_name  posa_continent  user_location_country  user_location_region  \\\n",
       "0         18               2                    231                    48   \n",
       "1         18               2                    231                    48   \n",
       "2         23               1                      1                   401   \n",
       "\n",
       "   user_location_city  orig_destination_distance  user_id  is_mobile  \\\n",
       "0                2982                        NaN  1195632          0   \n",
       "1                2982                        NaN  1195632          0   \n",
       "2                 230                        NaN   999935          0   \n",
       "\n",
       "   is_package  channel      ...        srch_children_cnt  srch_rm_cnt  \\\n",
       "0           0        5      ...                        0            6   \n",
       "1           1        5      ...                        0            6   \n",
       "2           0        3      ...                        0            2   \n",
       "\n",
       "   srch_destination_id  srch_destination_type_id  is_booking  cnt  \\\n",
       "0                    1                         3           0    2   \n",
       "1                    1                         3           0    1   \n",
       "2                    1                         3           0    4   \n",
       "\n",
       "   hotel_continent  hotel_country  hotel_market  hotel_cluster  \n",
       "0                5             76          1537             30  \n",
       "1                5             76          1537             60  \n",
       "2                5             76          1537             30  \n",
       "\n",
       "[3 rows x 21 columns]"
      ]
     },
     "execution_count": 8,
     "metadata": {},
     "output_type": "execute_result"
    }
   ],
   "source": [
    "train = train[rawPredictors]\n",
    "train.head(3)"
   ]
  },
  {
   "cell_type": "markdown",
   "metadata": {},
   "source": [
    "#### DownSample Data Due to computational limitation & large size of data"
   ]
  },
  {
   "cell_type": "code",
   "execution_count": 9,
   "metadata": {
    "collapsed": false
   },
   "outputs": [
    {
     "name": "stdout",
     "output_type": "stream",
     "text": [
      "('We have data for', 922876, 'users')\n",
      "('Randomly selecting data for', 9228, 'users')\n",
      "('new sample contains', 180119, 'rows and', 21, 'columns')\n"
     ]
    }
   ],
   "source": [
    "import random\n",
    "random.seed(24)\n",
    "unique_users = train.user_id.unique()\n",
    "print(\"We have data for\", len(unique_users), \"users\")\n",
    "usr_cnt = int(len(unique_users) * 0.01) # select random users\n",
    "print(\"Randomly selecting data for\", usr_cnt, \"users\")\n",
    "sel_user_ids = [unique_users[i] for i in sorted(random.sample(range(len(unique_users)), usr_cnt)) ]\n",
    "rf_dat = train[train.user_id.isin(sel_user_ids)]\n",
    "print(\"new sample contains\", rf_dat.shape[0], \"rows and\", rf_dat.shape[1], \"columns\")"
   ]
  },
  {
   "cell_type": "code",
   "execution_count": 10,
   "metadata": {
    "collapsed": true
   },
   "outputs": [],
   "source": [
    "test = pd.read_csv(\"~/test14.csv\")\n",
    "#Select data for selected user from test set\n",
    "test = test[test.user_id.isin(sel_user_ids)]"
   ]
  },
  {
   "cell_type": "code",
   "execution_count": 11,
   "metadata": {
    "collapsed": true
   },
   "outputs": [],
   "source": [
    "test = test[rawPredictors]"
   ]
  },
  {
   "cell_type": "code",
   "execution_count": 19,
   "metadata": {
    "collapsed": true
   },
   "outputs": [],
   "source": [
    "train = rf_dat"
   ]
  },
  {
   "cell_type": "code",
   "execution_count": 20,
   "metadata": {
    "collapsed": false
   },
   "outputs": [
    {
     "name": "stdout",
     "output_type": "stream",
     "text": [
      "('Train size:', (180119, 21))\n",
      "('Test size:', (4370, 21))\n"
     ]
    }
   ],
   "source": [
    "print(\"Train size:\", train.shape)\n",
    "print(\"Test size:\", test.shape)"
   ]
  },
  {
   "cell_type": "markdown",
   "metadata": {},
   "source": [
    "### 3. Missing Values"
   ]
  },
  {
   "cell_type": "code",
   "execution_count": 21,
   "metadata": {
    "collapsed": false
   },
   "outputs": [
    {
     "data": {
      "text/plain": [
       "site_name                    180119\n",
       "posa_continent               180119\n",
       "user_location_country        180119\n",
       "user_location_region         180119\n",
       "user_location_city           180119\n",
       "orig_destination_distance    118146\n",
       "user_id                      180119\n",
       "is_mobile                    180119\n",
       "is_package                   180119\n",
       "channel                      180119\n",
       "srch_adults_cnt              180119\n",
       "srch_children_cnt            180119\n",
       "srch_rm_cnt                  180119\n",
       "srch_destination_id          180119\n",
       "srch_destination_type_id     180119\n",
       "is_booking                   180119\n",
       "cnt                          180119\n",
       "hotel_continent              180119\n",
       "hotel_country                180119\n",
       "hotel_market                 180119\n",
       "hotel_cluster                180119\n",
       "dtype: int64"
      ]
     },
     "execution_count": 21,
     "metadata": {},
     "output_type": "execute_result"
    }
   ],
   "source": [
    "missing_count = train.count(axis=0)\n",
    "missing_count"
   ]
  },
  {
   "cell_type": "code",
   "execution_count": 22,
   "metadata": {
    "collapsed": false
   },
   "outputs": [
    {
     "data": {
      "text/plain": [
       "site_name                    4370\n",
       "posa_continent               4370\n",
       "user_location_country        4370\n",
       "user_location_region         4370\n",
       "user_location_city           4370\n",
       "orig_destination_distance    2956\n",
       "user_id                      4370\n",
       "is_mobile                    4370\n",
       "is_package                   4370\n",
       "channel                      4370\n",
       "srch_adults_cnt              4370\n",
       "srch_children_cnt            4370\n",
       "srch_rm_cnt                  4370\n",
       "srch_destination_id          4370\n",
       "srch_destination_type_id     4370\n",
       "is_booking                   4370\n",
       "cnt                          4370\n",
       "hotel_continent              4370\n",
       "hotel_country                4370\n",
       "hotel_market                 4370\n",
       "hotel_cluster                4370\n",
       "dtype: int64"
      ]
     },
     "execution_count": 22,
     "metadata": {},
     "output_type": "execute_result"
    }
   ],
   "source": [
    "missing_count = test.count(axis=0)\n",
    "missing_count"
   ]
  },
  {
   "cell_type": "markdown",
   "metadata": {},
   "source": [
    "##### As of now, we will fill NA with -1:\n",
    "TODO: better way to impute missing values"
   ]
  },
  {
   "cell_type": "code",
   "execution_count": 23,
   "metadata": {
    "collapsed": true
   },
   "outputs": [],
   "source": [
    "## replace NA's in orig_destination_distance by -1\n",
    "train.fillna(-1, inplace=True)"
   ]
  },
  {
   "cell_type": "code",
   "execution_count": 24,
   "metadata": {
    "collapsed": true
   },
   "outputs": [],
   "source": [
    "## replace NA's in orig_destination_distance by -1\n",
    "test.fillna(-1, inplace=True)"
   ]
  },
  {
   "cell_type": "code",
   "execution_count": 25,
   "metadata": {
    "collapsed": true
   },
   "outputs": [],
   "source": [
    "# Exclude Target and Predictors\n",
    "predictors = [c for c in rawPredictors if c not in ['hotel_cluster']]"
   ]
  },
  {
   "cell_type": "markdown",
   "metadata": {},
   "source": [
    "# Models"
   ]
  },
  {
   "cell_type": "markdown",
   "metadata": {},
   "source": [
    "# Random Forest On Raw Data"
   ]
  },
  {
   "cell_type": "code",
   "execution_count": 26,
   "metadata": {
    "collapsed": false
   },
   "outputs": [
    {
     "data": {
      "text/plain": [
       "array([ 0.05195741,  0.05649592,  0.05691441,  0.05207899,  0.05404129])"
      ]
     },
     "execution_count": 26,
     "metadata": {},
     "output_type": "execute_result"
    }
   ],
   "source": [
    "from sklearn import cross_validation\n",
    "from sklearn.ensemble import RandomForestClassifier\n",
    "\n",
    "model1_RF = RandomForestClassifier(n_estimators=5, min_weight_fraction_leaf=0.1)\n",
    "scores = cross_validation.cross_val_score(model1_RF, train[predictors], train['hotel_cluster'], cv=5)\n",
    "scores"
   ]
  },
  {
   "cell_type": "markdown",
   "metadata": {},
   "source": [
    "## Naive Bayes Model on Raw Data"
   ]
  },
  {
   "cell_type": "code",
   "execution_count": 27,
   "metadata": {
    "collapsed": false
   },
   "outputs": [
    {
     "data": {
      "text/plain": [
       "array([ 0.04211489,  0.04478606,  0.04944613,  0.04838486,  0.03500875])"
      ]
     },
     "execution_count": 27,
     "metadata": {},
     "output_type": "execute_result"
    }
   ],
   "source": [
    "from sklearn.naive_bayes import GaussianNB\n",
    "model4_NB = GaussianNB()\n",
    "scorescvNB = cross_validation.cross_val_score(model4_NB, train[predictors], train['hotel_cluster'], cv=5)\n",
    "scorescvNB"
   ]
  },
  {
   "cell_type": "markdown",
   "metadata": {},
   "source": [
    "# Support Vector Model on Raw Data"
   ]
  },
  {
   "cell_type": "code",
   "execution_count": 28,
   "metadata": {
    "collapsed": false
   },
   "outputs": [
    {
     "data": {
      "text/plain": [
       "array([ 0.04788178,  0.05361008,  0.04794692,  0.03838569,  0.03448084])"
      ]
     },
     "execution_count": 28,
     "metadata": {},
     "output_type": "execute_result"
    }
   ],
   "source": [
    "from sklearn.svm import SVC\n",
    "model3_SVC = SVC(C=1.0, kernel='rbf', \n",
    "                 degree=3, gamma='auto', coef0=0.0, shrinking=True, \n",
    "                 probability=False, tol=0.001, cache_size=200, class_weight=None, verbose=False, \n",
    "                 max_iter=-1, decision_function_shape=None, \n",
    "                 random_state=24)\n",
    "scorescvSVC = cross_validation.cross_val_score(model3_SVC, train[predictors], train['hotel_cluster'], cv=5)\n",
    "scorescvSVC"
   ]
  },
  {
   "cell_type": "markdown",
   "metadata": {},
   "source": [
    "# Multinomial Logistic Regression"
   ]
  },
  {
   "cell_type": "code",
   "execution_count": 29,
   "metadata": {
    "collapsed": false
   },
   "outputs": [
    {
     "data": {
      "text/plain": [
       "array([ 0.01755018,  0.03526833,  0.03920153,  0.03785796,  0.02381151])"
      ]
     },
     "execution_count": 29,
     "metadata": {},
     "output_type": "execute_result"
    }
   ],
   "source": [
    "from sklearn.linear_model import LogisticRegression\n",
    "model5_MLR = LogisticRegression()\n",
    "scorescvMLR = cross_validation.cross_val_score(model5_MLR, train[predictors], train['hotel_cluster'], cv=5)\n",
    "scorescvMLR "
   ]
  },
  {
   "cell_type": "markdown",
   "metadata": {},
   "source": [
    "# Gradient Boosting Model on Raw Data"
   ]
  },
  {
   "cell_type": "code",
   "execution_count": 30,
   "metadata": {
    "collapsed": false
   },
   "outputs": [
    {
     "data": {
      "text/plain": [
       "array([ 0.03815016,  0.05366558,  0.0478081 ,  0.04727384,  0.03078547])"
      ]
     },
     "execution_count": 30,
     "metadata": {},
     "output_type": "execute_result"
    }
   ],
   "source": [
    "from sklearn.ensemble import GradientBoostingClassifier\n",
    "model6_GB = GradientBoostingClassifier()\n",
    "scorescvGB = cross_validation.cross_val_score(model6_GB, train[predictors], train['hotel_cluster'], cv=5)\n",
    "scorescvGB"
   ]
  },
  {
   "cell_type": "markdown",
   "metadata": {},
   "source": [
    "# AdaBoost Classifier on Raw Data"
   ]
  },
  {
   "cell_type": "code",
   "execution_count": 31,
   "metadata": {
    "collapsed": false
   },
   "outputs": [
    {
     "data": {
      "text/plain": [
       "array([ 0.02498059,  0.04575726,  0.0308726 ,  0.04082993,  0.01425356])"
      ]
     },
     "execution_count": 31,
     "metadata": {},
     "output_type": "execute_result"
    }
   ],
   "source": [
    "from sklearn.ensemble import AdaBoostClassifier\n",
    "model7_AB = AdaBoostClassifier()\n",
    "scorescvAB = cross_validation.cross_val_score(model7_AB, train[predictors], train['hotel_cluster'], cv=5)\n",
    "scorescvAB"
   ]
  },
  {
   "cell_type": "markdown",
   "metadata": {},
   "source": [
    "### Plot Testing scores"
   ]
  },
  {
   "cell_type": "code",
   "execution_count": null,
   "metadata": {
    "collapsed": true
   },
   "outputs": [],
   "source": [
    "## Plot Testing scores\n",
    "import matplotlib.pyplot as plt\n",
    "test_scoreRF  = model1_RF.score(test[predictors], test['hotel_cluster'])\n",
    "test_scoreKNN = model2_KNN.score(test[predictors], test['hotel_cluster'])\n",
    "test_scoreSVC = model3_SVC.score(test[predictors], test['hotel_cluster'])\n",
    "test_scoreNB = model4_NB.score(test[predictors], test['hotel_cluster'])\n",
    "test_scoreGB = model6_GB.score(test[predictors], test['hotel_cluster'])\n",
    "test_scoreAB = model7_AB.score(test[predictors], test['hotel_cluster'])\n",
    "keys = ['RF','KNN', 'SVC' 'NB', 'GB', 'AB']\n",
    "testscores = [test_scoreRF, test_scoreKNN, test_scoreSVC, test_scoreNB, test_scoreGB, test_scoreAB]\n",
    "accuracyInPercent = [x * 100 for x in testscores]\n",
    "testAccuracy = dict(zip(keys, accuracyInPercent))\n",
    "print(testAccuracy)\n",
    "plt.bar(range(len(testAccuracy)), testAccuracy.values(), align=\"center\")\n",
    "plt.xticks(range(len(testAccuracy)), list(testAccuracy.keys()))"
   ]
  },
  {
   "cell_type": "code",
   "execution_count": 2,
   "metadata": {
    "collapsed": false
   },
   "outputs": [],
   "source": [
    "import numpy as np\n",
    "scorescvRF = np.array([ 0.05195741,  0.05649592,  0.05691441,  0.05207899,  0.05404129])\n",
    "scorescvNB = np.array([ 0.04211489,  0.04478606,  0.04944613,  0.04838486,  0.03500875])\n",
    "scorescvSVC = np.array([ 0.04788178,  0.05361008,  0.04794692,  0.03838569,  0.03448084])\n",
    "scorescvMLR = np.array([ 0.01755018,  0.03526833,  0.03920153,  0.03785796,  0.02381151])\n",
    "scorescvGB = np.array([ 0.03815016,  0.05366558,  0.0478081 ,  0.04727384,  0.03078547])\n",
    "scorescvAB = np.array([ 0.02498059,  0.04575726,  0.0308726 ,  0.04082993,  0.01425356])"
   ]
  },
  {
   "cell_type": "code",
   "execution_count": 2,
   "metadata": {
    "collapsed": false
   },
   "outputs": [
    {
     "name": "stdout",
     "output_type": "stream",
     "text": [
      "We observe random forest slightly performs well as compared to other algorithm\n"
     ]
    },
    {
     "data": {
      "image/png": "[encoded data removed]",
      "text/plain": [
       "<matplotlib.figure.Figure at 0x7f01185faef0>"
      ]
     },
     "metadata": {},
     "output_type": "display_data"
    }
   ],
   "source": [
    "'Cross Validation Score Plot for the Models'\n",
    "print(\"We observe random forest slightly performs well as compared to other algorithm\")\n",
    "#Plot Cross Validation Score\n",
    "import matplotlib.pyplot as plt\n",
    "plt.xlim(*(0,7))\n",
    "ylim=(0, 10)\n",
    "plt.ylim(*ylim)\n",
    "crossValScores = [scorescvRF, scorescvNB, scorescvSVC, scorescvMLR, scorescvGB, scorescvAB]\n",
    "labels = ['RF', 'NB', 'SVC', 'MLR', 'GB', 'AB']\n",
    "crossValInPercent = [x * 100 for x in crossValScores]\n",
    "for value, label in zip(crossValInPercent, labels):\n",
    "    plt.plot([1, 2, 3, 4, 5],value, '.-', label=label)\n",
    "plt.grid()\n",
    "plt.ylabel('Cross-Validation Score in %')\n",
    "plt.xlabel('5-Fold cross Validation')\n",
    "plt.legend()\n",
    "plt.show()"
   ]
  }
 ],
 "metadata": {
  "anaconda-cloud": {},
  "kernelspec": {
   "display_name": "Python [conda root]",
   "language": "python",
   "name": "conda-root-py"
  },
  "language_info": {
   "codemirror_mode": {
    "name": "ipython",
    "version": 3
   },
   "file_extension": ".py",
   "mimetype": "text/x-python",
   "name": "python",
   "nbconvert_exporter": "python",
   "pygments_lexer": "ipython3",
   "version": "3.5.2"
  }
 },
 "nbformat": 4,
 "nbformat_minor": 1
}
