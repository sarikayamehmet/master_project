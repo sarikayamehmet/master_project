{
 "cells": [
  {
   "cell_type": "markdown",
   "metadata": {},
   "source": [
    "### Model Ensemble For Final Output"
   ]
  },
  {
   "cell_type": "code",
   "execution_count": 1,
   "metadata": {
    "collapsed": false
   },
   "outputs": [
    {
     "name": "stdout",
     "output_type": "stream",
     "text": [
      "imported libraries . . . \n"
     ]
    }
   ],
   "source": [
    "import numpy as np\n",
    "import matplotlib.pyplot as plt\n",
    "import pandas as pd\n",
    "import seaborn as sns\n",
    "%matplotlib inline\n",
    "from sklearn import cross_validation\n",
    "print(\"imported libraries . . . \")"
   ]
  },
  {
   "cell_type": "code",
   "execution_count": 2,
   "metadata": {
    "collapsed": false
   },
   "outputs": [
    {
     "name": "stdout",
     "output_type": "stream",
     "text": [
      "('size of train', (495745, 56))\n",
      "('size of train', (41597, 56))\n"
     ]
    },
    {
     "data": {
      "text/plain": [
       "array(['user_location_country', 'hotel_cluster', 'user_location_region',\n",
       "       'user_location_city', 'hotel_country', 'hotel_market',\n",
       "       'srch_destination_id', 'date_time', 'site_name', 'posa_continent',\n",
       "       'orig_destination_distance', 'user_id', 'is_mobile', 'is_package',\n",
       "       'channel', 'srch_ci', 'srch_co', 'srch_adults_cnt',\n",
       "       'srch_children_cnt', 'srch_rm_cnt', 'srch_destination_type_id',\n",
       "       'is_booking', 'cnt', 'hotel_continent', 'year', 'month', 'day',\n",
       "       'hour', 'part_of_day', 'type_of_day', 'season', 'is_alone',\n",
       "       'dest_feature_pc1', 'dest_feature_pc2', 'dest_feature_pc3',\n",
       "       'clickRate', 'bookRate', 'clickMRate', 'bookMRate', 'clickHCRate',\n",
       "       'bookHCRate', 'clickURate', 'bookURate', 'clickUCRRate',\n",
       "       'bookUCRRate', 'clickUCRate', 'bookUCRate', 'popScoreHmc_Count',\n",
       "       'popScoreU_Count', 'popScoreSite_Count', 'popScoreDest_Count',\n",
       "       'popScoreCityDest_Count', 'popScoreCityH_Count', 'duration_of_stay'], dtype=object)"
      ]
     },
     "execution_count": 2,
     "metadata": {},
     "output_type": "execute_result"
    }
   ],
   "source": [
    "trainPath = \"~/Final/FinalTrainingSet.csv\"\n",
    "testPath = \"~/Final/FinalTestSet.csv\"\n",
    "train = pd.read_csv(trainPath)\n",
    "test = pd.read_csv(testPath)\n",
    "print(\"size of train\", train.shape)\n",
    "print(\"size of train\", test.shape)\n",
    "train.columns.values[2:]"
   ]
  },
  {
   "cell_type": "code",
   "execution_count": 3,
   "metadata": {
    "collapsed": false
   },
   "outputs": [
    {
     "data": {
      "text/plain": [
       "(495745, 56)"
      ]
     },
     "execution_count": 3,
     "metadata": {},
     "output_type": "execute_result"
    }
   ],
   "source": [
    "train.shape"
   ]
  },
  {
   "cell_type": "code",
   "execution_count": 5,
   "metadata": {
    "collapsed": false
   },
   "outputs": [
    {
     "data": {
      "text/plain": [
       "297447.0"
      ]
     },
     "execution_count": 5,
     "metadata": {},
     "output_type": "execute_result"
    }
   ],
   "source": [
    "495745 * 0.60"
   ]
  },
  {
   "cell_type": "code",
   "execution_count": 4,
   "metadata": {
    "collapsed": false
   },
   "outputs": [
    {
     "data": {
      "text/plain": [
       "(41597, 56)"
      ]
     },
     "execution_count": 4,
     "metadata": {},
     "output_type": "execute_result"
    }
   ],
   "source": [
    "test.shape"
   ]
  },
  {
   "cell_type": "code",
   "execution_count": 6,
   "metadata": {
    "collapsed": true
   },
   "outputs": [],
   "source": [
    "### We further downsample data as we are applying ensebling"
   ]
  },
  {
   "cell_type": "code",
   "execution_count": 7,
   "metadata": {
    "collapsed": true
   },
   "outputs": [],
   "source": [
    "train_sample = train.sample(frac=0.6, replace=False)"
   ]
  },
  {
   "cell_type": "code",
   "execution_count": 8,
   "metadata": {
    "collapsed": false
   },
   "outputs": [
    {
     "data": {
      "text/plain": [
       "(297447, 56)"
      ]
     },
     "execution_count": 8,
     "metadata": {},
     "output_type": "execute_result"
    }
   ],
   "source": [
    "train_sample.shape"
   ]
  },
  {
   "cell_type": "code",
   "execution_count": 9,
   "metadata": {
    "collapsed": true
   },
   "outputs": [],
   "source": [
    "train = train_sample"
   ]
  },
  {
   "cell_type": "markdown",
   "metadata": {},
   "source": [
    "#### Categorical data transformation"
   ]
  },
  {
   "cell_type": "code",
   "execution_count": 10,
   "metadata": {
    "collapsed": true
   },
   "outputs": [],
   "source": [
    "from sklearn.preprocessing import LabelEncoder, OneHotEncoder\n",
    "var_mod = ['user_location_region',  'hotel_continent', 'hotel_country', 'hotel_market', 'srch_destination_type_id']\n",
    "var_mod1 = ['type_of_day',  'season', 'is_alone', 'type_of_day', 'is_package', 'part_of_day']\n",
    "le = LabelEncoder()\n",
    "for i in var_mod:\n",
    "    train[i] = le.fit_transform(train[i])\n",
    "    test[i] = le.fit_transform(test[i])\n",
    "#ohe = OneHotEncoder()    \n",
    "for name in var_mod1:\n",
    "    train[name]=le.fit_transform(train[name])\n",
    "    test[name]=le.fit_transform(test[name])"
   ]
  },
  {
   "cell_type": "markdown",
   "metadata": {},
   "source": [
    "Model ensemble to predict the final outcome!"
   ]
  },
  {
   "cell_type": "markdown",
   "metadata": {},
   "source": [
    "# NEXT"
   ]
  },
  {
   "cell_type": "markdown",
   "metadata": {},
   "source": [
    "### We first start with Random forest Models:"
   ]
  },
  {
   "cell_type": "code",
   "execution_count": 11,
   "metadata": {
    "collapsed": true
   },
   "outputs": [],
   "source": [
    "from sklearn.ensemble import RandomForestClassifier, ExtraTreesClassifier"
   ]
  },
  {
   "cell_type": "code",
   "execution_count": 12,
   "metadata": {
    "collapsed": false
   },
   "outputs": [
    {
     "name": "stdout",
     "output_type": "stream",
     "text": [
      "('accuracy score for test final Random Forest M1:', 7.9428804961896287)\n"
     ]
    }
   ],
   "source": [
    "rf1 = RandomForestClassifier(n_estimators=50, min_weight_fraction_leaf=0.1, random_state=3)\n",
    "popularityVar = ['popScoreHmc_Count', 'popScoreU_Count', 'popScoreSite_Count',\n",
    "       'popScoreDest_Count', 'popScoreCityDest_Count',\n",
    "       'popScoreCityH_Count'] \n",
    "rf1.fit(train[popularityVar], train['hotel_cluster'])\n",
    "test_score = rf1.score(test[popularityVar], test['hotel_cluster'])\n",
    "print(\"accuracy score for test final Random Forest M1:\",test_score*100)"
   ]
  },
  {
   "cell_type": "code",
   "execution_count": 13,
   "metadata": {
    "collapsed": false
   },
   "outputs": [
    {
     "name": "stdout",
     "output_type": "stream",
     "text": [
      "('accuracy score for Extreame Randomized trees:', 9.8805202298242669)\n"
     ]
    }
   ],
   "source": [
    "erf = ExtraTreesClassifier(n_estimators=70, min_weight_fraction_leaf=0.1, random_state=3)\n",
    "popularityVar = ['popScoreHmc_Count', 'popScoreU_Count', 'popScoreSite_Count',\n",
    "       'popScoreDest_Count', 'popScoreCityDest_Count',\n",
    "       'popScoreCityH_Count'] \n",
    "erf.fit(train[popularityVar], train['hotel_cluster'])\n",
    "test_score = erf.score(test[popularityVar], test['hotel_cluster'])\n",
    "print(\"accuracy score for Extreame Randomized trees:\",test_score*100)"
   ]
  },
  {
   "cell_type": "code",
   "execution_count": 15,
   "metadata": {
    "collapsed": false
   },
   "outputs": [
    {
     "name": "stdout",
     "output_type": "stream",
     "text": [
      "('final Random Forest M2 is:', 6.5221049594922711)\n",
      "('accuracy score for taccuracy score for Extreame Randomized trees:', 8.8948722263624784)\n"
     ]
    }
   ],
   "source": [
    "rf2 = RandomForestClassifier(n_estimators=50, min_weight_fraction_leaf=0.1, random_state=3)\n",
    "\n",
    "fatureEng1 = [    'part_of_day', 'type_of_day', 'season', \n",
    "                  'duration_of_stay', 'is_alone', \n",
    "                  'dest_feature_pc1', 'dest_feature_pc2', 'dest_feature_pc3' ]\n",
    "rf2.fit(train[fatureEng1], train['hotel_cluster'])\n",
    "test_score = rf2.score(test[fatureEng1], test['hotel_cluster'])\n",
    "print(\"final Random Forest M2 is:\",test_score*100)\n",
    "\n",
    "\n",
    "erf2 = ExtraTreesClassifier(n_estimators=70, min_weight_fraction_leaf=0.1, random_state=3)\n",
    "\n",
    "fatureEng1 = [    'part_of_day', 'type_of_day', 'season', \n",
    "                  'duration_of_stay', 'is_alone', \n",
    "                  'dest_feature_pc1', 'dest_feature_pc2', 'dest_feature_pc3' ]\n",
    "erf2.fit(train[fatureEng1], train['hotel_cluster'])\n",
    "test_score = erf2.score(test[fatureEng1], test['hotel_cluster'])\n",
    "print(\"accuracy score for taccuracy score for Extreame Randomized trees:\",test_score*100)"
   ]
  },
  {
   "cell_type": "markdown",
   "metadata": {},
   "source": [
    "### Based on thier result we will use ensebling technique"
   ]
  },
  {
   "cell_type": "code",
   "execution_count": null,
   "metadata": {
    "collapsed": true
   },
   "outputs": [],
   "source": [
    "from sklearn.ensemble import VotingClassifier\n",
    "rf1 = RandomForestClassifier(n_estimators=50, min_weight_fraction_leaf=0.1, random_state=3)\n",
    "erf = ExtraTreesClassifier(n_estimators=70, min_weight_fraction_leaf=0.1, random_state=3)\n",
    "ensebleRF = VotingClassifier(estimators=[('rf1', rf1), ('erf', erf)], voting='soft')\n",
    "ensebleRF.fit(train[popularityVar], train['hotel_cluster'])"
   ]
  },
  {
   "cell_type": "code",
   "execution_count": 22,
   "metadata": {
    "collapsed": false
   },
   "outputs": [
    {
     "name": "stdout",
     "output_type": "stream",
     "text": [
      "('Ensembling Accuaracy Random Forest and Extream tree Classifiers: ', 0.10354112075390053)\n"
     ]
    }
   ],
   "source": [
    "ensembleRF_Score = ensebleRF.score(test[popularityVar],test['hotel_cluster'] )\n",
    "print(\"Ensembling Accuaracy Random Forest and Extream tree Classifiers: \",  ensembleRF_Score) \n",
    "prediction_m1 = ensebleRF.predict(test[popularityVar])"
   ]
  },
  {
   "cell_type": "code",
   "execution_count": 24,
   "metadata": {
    "collapsed": false
   },
   "outputs": [
    {
     "data": {
      "text/plain": [
       "10.354112075390052"
      ]
     },
     "execution_count": 24,
     "metadata": {},
     "output_type": "execute_result"
    }
   ],
   "source": [
    "ensembleRF_Score*100"
   ]
  },
  {
   "cell_type": "code",
   "execution_count": 46,
   "metadata": {
    "collapsed": false
   },
   "outputs": [
    {
     "name": "stdout",
     "output_type": "stream",
     "text": [
      "('Ensembling Accuaracy Random Forest and Extream tree Classifiers: ', 0.093588479938457106)\n"
     ]
    }
   ],
   "source": [
    "from sklearn.ensemble import VotingClassifier\n",
    "rf2 = RandomForestClassifier(n_estimators=50, min_weight_fraction_leaf=0.1, random_state=3)\n",
    "erf2 = ExtraTreesClassifier(n_estimators=70, min_weight_fraction_leaf=0.1, random_state=3)\n",
    "ensebleRF = VotingClassifier(estimators=[('rf2', rf2), ('erf2', erf2)], voting='soft')\n",
    "ensebleRF.fit(train[fatureEng1], train['hotel_cluster'])\n",
    "ensembleRF_Score = ensebleRF.score(test[fatureEng1],test['hotel_cluster'] )\n",
    "print(\"Ensembling Accuaracy Random Forest and Extream tree Classifiers: \",  ensembleRF_Score) \n",
    "prediction_m2 = ensebleRF.predict(test[fatureEng1])"
   ]
  },
  {
   "cell_type": "markdown",
   "metadata": {},
   "source": [
    "# NEXT "
   ]
  },
  {
   "cell_type": "markdown",
   "metadata": {},
   "source": [
    "#### KNN Model ensemble:"
   ]
  },
  {
   "cell_type": "code",
   "execution_count": 25,
   "metadata": {
    "collapsed": true
   },
   "outputs": [],
   "source": [
    "Predset_var = ['popScoreHmc_Count', 'popScoreU_Count', 'popScoreSite_Count',\n",
    "       'popScoreDest_Count', 'popScoreCityDest_Count',\n",
    "       'popScoreCityH_Count']"
   ]
  },
  {
   "cell_type": "code",
   "execution_count": 26,
   "metadata": {
    "collapsed": false
   },
   "outputs": [
    {
     "name": "stdout",
     "output_type": "stream",
     "text": [
      "('Accuracy in % is: using KNN model with features using book clicks rate is:', 7.0798374882804049)\n"
     ]
    }
   ],
   "source": [
    "from sklearn.neighbors import KNeighborsClassifier\n",
    "knn = KNeighborsClassifier(n_neighbors=15)\n",
    "\n",
    "knn.fit(train[Predset_var], train['hotel_cluster']) \n",
    "testScore = knn.score(test[Predset_var], test['hotel_cluster'])\n",
    "print(\"Accuracy in % is: using KNN model with features using book clicks rate is:\", testScore*100)"
   ]
  },
  {
   "cell_type": "markdown",
   "metadata": {},
   "source": [
    "#### We will conisider bagging to aggregate result for knn"
   ]
  },
  {
   "cell_type": "code",
   "execution_count": 27,
   "metadata": {
    "collapsed": false
   },
   "outputs": [
    {
     "name": "stdout",
     "output_type": "stream",
     "text": [
      "('Accuracy in % is: bagged KNN is:', 7.3803399283602191)\n"
     ]
    }
   ],
   "source": [
    "#TODO:\n",
    "from sklearn.ensemble import BaggingClassifier\n",
    "knn = KNeighborsClassifier(n_neighbors=15)\n",
    "baggedKnn = BaggingClassifier(base_estimator = knn,  n_estimators=30, random_state = 3 )\n",
    "baggedKnn.fit(train[Predset_var], train['hotel_cluster']) \n",
    "bagggedknntestScore = baggedKnn.score(test[Predset_var], test['hotel_cluster'])\n",
    "print(\"Accuracy in % is: bagged KNN is:\", bagggedknntestScore*100)\n",
    "prediction_m5 = baggedKnn.predict(test[popularityVar])"
   ]
  },
  {
   "cell_type": "code",
   "execution_count": 49,
   "metadata": {
    "collapsed": false
   },
   "outputs": [],
   "source": [
    "prediction_m5 = baggedKnn.predict(test[popularityVar])"
   ]
  },
  {
   "cell_type": "markdown",
   "metadata": {},
   "source": [
    "# NEXT"
   ]
  },
  {
   "cell_type": "markdown",
   "metadata": {},
   "source": [
    "### Naive Bayes:"
   ]
  },
  {
   "cell_type": "code",
   "execution_count": null,
   "metadata": {
    "collapsed": true
   },
   "outputs": [],
   "source": [
    "final_set = [ 'user_location_region', 'season', 'hotel_continent', 'hotel_country','hotel_market', \n",
    "              'type_of_day', 'is_alone','dest_feature_pc1',\n",
    "              'dest_feature_pc2','dest_feature_pc3','duration_of_stay', 'orig_destination_distance']\n",
    "\n",
    "from sklearn.naive_bayes import GaussianNB\n",
    "from sklearn import cross_validation\n",
    "nb = GaussianNB()\n",
    "nb.fit(train[final_set], train['hotel_cluster'])"
   ]
  },
  {
   "cell_type": "code",
   "execution_count": 29,
   "metadata": {
    "collapsed": false
   },
   "outputs": [
    {
     "name": "stdout",
     "output_type": "stream",
     "text": [
      "('Naive Bayes Test score:', 6.9452123951246492)\n"
     ]
    }
   ],
   "source": [
    "nb_Score = nb.score(test[final_set], test['hotel_cluster'])\n",
    "print(\"Naive Bayes Test score:\", nb_Score*100)"
   ]
  },
  {
   "cell_type": "code",
   "execution_count": null,
   "metadata": {
    "collapsed": true
   },
   "outputs": [],
   "source": [
    "final_set = [ 'user_location_region', 'season', 'hotel_continent', 'hotel_country','hotel_market', \n",
    "              'type_of_day', 'is_alone','dest_feature_pc1',\n",
    "              'dest_feature_pc2','dest_feature_pc3','duration_of_stay', 'orig_destination_distance']\n",
    "\n",
    "from sklearn.ensemble import AdaBoostClassifier\n",
    "ab = AdaBoostClassifier()\n",
    "ab.fit(train[final_set], train['hotel_cluster'])"
   ]
  },
  {
   "cell_type": "code",
   "execution_count": 31,
   "metadata": {
    "collapsed": false
   },
   "outputs": [
    {
     "name": "stdout",
     "output_type": "stream",
     "text": [
      "('Adaboost Test score:', 4.298386902901651)\n"
     ]
    }
   ],
   "source": [
    "ab_score = ab.score(test[final_set], test['hotel_cluster'])\n",
    "print(\"Adaboost Test score:\", ab_score*100)"
   ]
  },
  {
   "cell_type": "code",
   "execution_count": null,
   "metadata": {
    "collapsed": true
   },
   "outputs": [],
   "source": [
    "#TODO: enseble using majority voting NB + AB\n",
    "\n",
    "from sklearn.ensemble import VotingClassifier\n",
    "nb = GaussianNB()\n",
    "ab = AdaBoostClassifier()\n",
    "ensebleNb_ab = VotingClassifier(estimators=[('nb', nb), ('ab', ab)], voting='soft')\n",
    "ensebleNb_ab.fit(train[final_set], train['hotel_cluster'])\n"
   ]
  },
  {
   "cell_type": "code",
   "execution_count": 40,
   "metadata": {
    "collapsed": false
   },
   "outputs": [
    {
     "name": "stdout",
     "output_type": "stream",
     "text": [
      "('Naive Bayes and Adaboosting: ', 0.069524244536865634)\n"
     ]
    }
   ],
   "source": [
    "ensebleNb_ab_Score = ensebleNb_ab.score(test[final_set],test['hotel_cluster'])\n",
    "print(\"Naive Bayes and Adaboosting: \", ensebleNb_ab_Score) \n",
    "prediction_m3 = ensebleNb_ab.predict(test[final_set])"
   ]
  },
  {
   "cell_type": "code",
   "execution_count": 41,
   "metadata": {
    "collapsed": false
   },
   "outputs": [
    {
     "data": {
      "text/plain": [
       "6.9524244536865636"
      ]
     },
     "execution_count": 41,
     "metadata": {},
     "output_type": "execute_result"
    }
   ],
   "source": [
    "ensebleNb_ab_Score*100"
   ]
  },
  {
   "cell_type": "markdown",
   "metadata": {},
   "source": [
    "# NEXT "
   ]
  },
  {
   "cell_type": "markdown",
   "metadata": {},
   "source": [
    "### Binary logistic"
   ]
  },
  {
   "cell_type": "code",
   "execution_count": null,
   "metadata": {
    "collapsed": true
   },
   "outputs": [],
   "source": [
    "final_set = [ 'user_location_region', 'season', 'hotel_continent', 'hotel_country','hotel_market', \n",
    "              'type_of_day', 'is_alone','dest_feature_pc1',\n",
    "              'dest_feature_pc2','dest_feature_pc3','duration_of_stay', 'orig_destination_distance']\n",
    "\n",
    "from sklearn.linear_model import LogisticRegression\n",
    "Blr = LogisticRegression(penalty = 'l2', max_iter = 100, random_state = 3, multi_class = 'ovr',\n",
    "                               n_jobs=-1)\n",
    "Blr.fit(train[final_set], train['hotel_cluster'])\n",
    "Blr_score = Blr.score(test[final_set], test['hotel_cluster'])\n"
   ]
  },
  {
   "cell_type": "code",
   "execution_count": 44,
   "metadata": {
    "collapsed": false
   },
   "outputs": [
    {
     "name": "stdout",
     "output_type": "stream",
     "text": [
      "('Binary Logistic Regression Test score:', 8.8179436017020461)\n"
     ]
    }
   ],
   "source": [
    "print(\"Binary Logistic Regression Test score:\", Blr_score*100)\n",
    "prediction_m4 = Blr.predict(test[final_set])"
   ]
  },
  {
   "cell_type": "markdown",
   "metadata": {},
   "source": [
    "# NEXT"
   ]
  },
  {
   "cell_type": "markdown",
   "metadata": {},
   "source": [
    "### Gradient Boosting"
   ]
  },
  {
   "cell_type": "code",
   "execution_count": 64,
   "metadata": {
    "collapsed": false
   },
   "outputs": [
    {
     "name": "stdout",
     "output_type": "stream",
     "text": [
      "('Gradient Boosting Test score:', 8.2602110729139113)\n"
     ]
    }
   ],
   "source": [
    "from sklearn.ensemble import GradientBoostingClassifier\n",
    "from sklearn import cross_validation\n",
    "gb = GradientBoostingClassifier(learning_rate = 0.1, n_estimators = 10, max_depth = 3, min_samples_split = 3, \n",
    "                                       random_state=3)\n",
    "#gb_score = cross_validation.cross_val_score(gb, train[final_set], train['hotel_cluster'], cv=5)\n",
    "\n",
    "#print(\"CV Score of GradientBoostingClassifer:\",scorescvGB*100)\n",
    "gb.fit(train[final_set], train['hotel_cluster'])\n",
    "gb_score = gb.score(test[final_set], test['hotel_cluster'])\n",
    "print(\"Gradient Boosting Test score:\", gb_score*100)\n"
   ]
  },
  {
   "cell_type": "code",
   "execution_count": 65,
   "metadata": {
    "collapsed": false
   },
   "outputs": [
    {
     "name": "stdout",
     "output_type": "stream",
     "text": [
      "('Gradient Boosting Test score:', 9.7867634685193643)\n"
     ]
    }
   ],
   "source": [
    "from sklearn.ensemble import GradientBoostingClassifier\n",
    "from sklearn import cross_validation\n",
    "gb1 = GradientBoostingClassifier(learning_rate = 0.1, n_estimators = 40, max_depth = 3, min_samples_split = 3, \n",
    "                                       random_state=3)\n",
    "#gb_score = cross_validation.cross_val_score(gb, train[final_set], train['hotel_cluster'], cv=5)\n",
    "\n",
    "#print(\"CV Score of GradientBoostingClassifer:\",scorescvGB*100)\n",
    "gb1.fit(train[final_set], train['hotel_cluster'])\n",
    "gb1_score = gb1.score(test[final_set], test['hotel_cluster'])\n",
    "print(\"Gradient Boosting Test score:\", gb1_score*100)\n"
   ]
  },
  {
   "cell_type": "code",
   "execution_count": 66,
   "metadata": {
    "collapsed": true
   },
   "outputs": [],
   "source": [
    "prediction_mGB = gb1.predict(test[final_set])"
   ]
  },
  {
   "cell_type": "markdown",
   "metadata": {
    "collapsed": true
   },
   "source": [
    "### Final Prediction:"
   ]
  },
  {
   "cell_type": "code",
   "execution_count": 50,
   "metadata": {
    "collapsed": false
   },
   "outputs": [],
   "source": [
    "import itertools\n",
    "from operator import itemgetter\n",
    "final_predction = []\n",
    "for testrow in range(len(test)):\n",
    "        pred_final = [prediction_m1[testrow],\n",
    "                                  prediction_m2[testrow], \n",
    "                                  prediction_m3[testrow], \n",
    "                                  prediction_m4[testrow],\n",
    "                                  prediction_m5[testrow]]\n",
    "        final_predction.append(pred_final)  "
   ]
  },
  {
   "cell_type": "code",
   "execution_count": 51,
   "metadata": {
    "collapsed": false
   },
   "outputs": [
    {
     "name": "stdout",
     "output_type": "stream",
     "text": [
      "('Mean accuracy Precison @5 for Test set is (in %): ', 16.500268448846473)\n"
     ]
    }
   ],
   "source": [
    "import ml_metrics as metrics\n",
    "target = [[l] for l in test['hotel_cluster']]\n",
    "score = metrics.mapk(target, final_predction, k=5) \n",
    "accuracy = score*100\n",
    "print (\"Mean accuracy Precison @5 for Test set is (in %): \",accuracy) "
   ]
  },
  {
   "cell_type": "code",
   "execution_count": 59,
   "metadata": {
    "collapsed": false
   },
   "outputs": [],
   "source": [
    "predictedCluster = pd.Series(final_predction)\n",
    "expectedCluster =  test['hotel_cluster']"
   ]
  },
  {
   "cell_type": "code",
   "execution_count": 60,
   "metadata": {
    "collapsed": true
   },
   "outputs": [],
   "source": [
    "final_outcome = pd.concat([predictedCluster, expectedCluster], axis=1)"
   ]
  },
  {
   "cell_type": "code",
   "execution_count": 61,
   "metadata": {
    "collapsed": false
   },
   "outputs": [
    {
     "data": {
      "text/html": [
       "<div>\n",
       "<table border=\"1\" class=\"dataframe\">\n",
       "  <thead>\n",
       "    <tr style=\"text-align: right;\">\n",
       "      <th></th>\n",
       "      <th>0</th>\n",
       "      <th>hotel_cluster</th>\n",
       "    </tr>\n",
       "  </thead>\n",
       "  <tbody>\n",
       "    <tr>\n",
       "      <th>1</th>\n",
       "      <td>[86, 81, 91, 91, 86]</td>\n",
       "      <td>82</td>\n",
       "    </tr>\n",
       "    <tr>\n",
       "      <th>2</th>\n",
       "      <td>[48, 68, 9, 9, 47]</td>\n",
       "      <td>99</td>\n",
       "    </tr>\n",
       "    <tr>\n",
       "      <th>3</th>\n",
       "      <td>[13, 63, 74, 63, 67]</td>\n",
       "      <td>9</td>\n",
       "    </tr>\n",
       "    <tr>\n",
       "      <th>4</th>\n",
       "      <td>[2, 81, 91, 91, 2]</td>\n",
       "      <td>2</td>\n",
       "    </tr>\n",
       "  </tbody>\n",
       "</table>\n",
       "</div>"
      ],
      "text/plain": [
       "                      0  hotel_cluster\n",
       "1  [86, 81, 91, 91, 86]             82\n",
       "2    [48, 68, 9, 9, 47]             99\n",
       "3  [13, 63, 74, 63, 67]              9\n",
       "4    [2, 81, 91, 91, 2]              2"
      ]
     },
     "execution_count": 61,
     "metadata": {},
     "output_type": "execute_result"
    }
   ],
   "source": [
    "\n",
    "final_outcome.iloc[1:5, ]                           "
   ]
  },
  {
   "cell_type": "code",
   "execution_count": 62,
   "metadata": {
    "collapsed": true
   },
   "outputs": [],
   "source": [
    "final_outcome.to_csv(\"/home/ec2-user/Final/final_predicted.csv\")"
   ]
  },
  {
   "cell_type": "markdown",
   "metadata": {},
   "source": [
    "### Result:Our mean precision accuracy score after ensembling is 16.50%"
   ]
  },
  {
   "cell_type": "code",
   "execution_count": 68,
   "metadata": {
    "collapsed": false
   },
   "outputs": [
    {
     "name": "stdout",
     "output_type": "stream",
     "text": [
      "('Mean accuracy Precison @5 for Test set is using ensemble of gb, rf, erf, knn(in %): ', 16.753451771361718)\n"
     ]
    }
   ],
   "source": [
    "import itertools\n",
    "from operator import itemgetter\n",
    "final_predction1 = []\n",
    "for testrow in range(len(test)):\n",
    "        pred_final = [prediction_m1[testrow],\n",
    "                                  prediction_m2[testrow], \n",
    "                                  prediction_mGB[testrow], \n",
    "                                  prediction_m4[testrow],\n",
    "                                  prediction_m5[testrow]]\n",
    "        final_predction1.append(pred_final)  \n",
    "import ml_metrics as metrics\n",
    "target = [[l] for l in test['hotel_cluster']]\n",
    "GB_score = metrics.mapk(target, final_predction1, k=5) \n",
    "Ensemble_accuracy = GB_score*100\n",
    "print (\"Mean accuracy Precison @5 for Test set is using ensemble of gb, rf, erf, knn(in %): \",Ensemble_accuracy)        "
   ]
  },
  {
   "cell_type": "code",
   "execution_count": 69,
   "metadata": {
    "collapsed": true
   },
   "outputs": [],
   "source": [
    "predictedCluster = pd.Series(final_predction1)\n",
    "expectedCluster =  test['hotel_cluster']\n",
    "final_outcome1 = pd.concat([predictedCluster, expectedCluster], axis=1)\n",
    "final_outcome1.to_csv(\"/home/ec2-user/Final/final_predicted_Set2.csv\")"
   ]
  },
  {
   "cell_type": "markdown",
   "metadata": {},
   "source": [
    "### Conclusion : Using GBM for ensemble, we get 16.75 test accuracy!"
   ]
  }
 ],
 "metadata": {
  "anaconda-cloud": {},
  "kernelspec": {
   "display_name": "Python [conda root]",
   "language": "python",
   "name": "conda-root-py"
  },
  "language_info": {
   "codemirror_mode": {
    "name": "ipython",
    "version": 2
   },
   "file_extension": ".py",
   "mimetype": "text/x-python",
   "name": "python",
   "nbconvert_exporter": "python",
   "pygments_lexer": "ipython2",
   "version": "2.7.12"
  }
 },
 "nbformat": 4,
 "nbformat_minor": 1
}
