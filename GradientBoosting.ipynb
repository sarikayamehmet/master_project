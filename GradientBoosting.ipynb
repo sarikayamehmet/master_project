{
 "cells": [
  {
   "cell_type": "code",
   "execution_count": 2,
   "metadata": {
    "collapsed": true
   },
   "outputs": [],
   "source": [
    "import pandas as pd\n",
    "import matplotlib.pyplot as plt"
   ]
  },
  {
   "cell_type": "code",
   "execution_count": 3,
   "metadata": {
    "collapsed": false
   },
   "outputs": [
    {
     "name": "stdout",
     "output_type": "stream",
     "text": [
      "('size of train', (495745, 56))\n",
      "('size of train', (41597, 56))\n"
     ]
    },
    {
     "data": {
      "text/plain": [
       "array(['user_location_country', 'hotel_cluster', 'user_location_region',\n",
       "       'user_location_city', 'hotel_country', 'hotel_market',\n",
       "       'srch_destination_id', 'date_time', 'site_name', 'posa_continent',\n",
       "       'orig_destination_distance', 'user_id', 'is_mobile', 'is_package',\n",
       "       'channel', 'srch_ci', 'srch_co', 'srch_adults_cnt',\n",
       "       'srch_children_cnt', 'srch_rm_cnt', 'srch_destination_type_id',\n",
       "       'is_booking', 'cnt', 'hotel_continent', 'year', 'month', 'day',\n",
       "       'hour', 'part_of_day', 'type_of_day', 'season', 'is_alone',\n",
       "       'dest_feature_pc1', 'dest_feature_pc2', 'dest_feature_pc3',\n",
       "       'clickRate', 'bookRate', 'clickMRate', 'bookMRate', 'clickHCRate',\n",
       "       'bookHCRate', 'clickURate', 'bookURate', 'clickUCRRate',\n",
       "       'bookUCRRate', 'clickUCRate', 'bookUCRate', 'popScoreHmc_Count',\n",
       "       'popScoreU_Count', 'popScoreSite_Count', 'popScoreDest_Count',\n",
       "       'popScoreCityDest_Count', 'popScoreCityH_Count', 'duration_of_stay'], dtype=object)"
      ]
     },
     "execution_count": 3,
     "metadata": {},
     "output_type": "execute_result"
    }
   ],
   "source": [
    "trainPath = \"/home/ec2-user/Final/FinalTrainingSet.csv\"\n",
    "testPath = \"/home/ec2-user/Final/FinalTestSet.csv\"\n",
    "train = pd.read_csv(trainPath)\n",
    "test = pd.read_csv(testPath)\n",
    "print(\"size of train\", train.shape)\n",
    "print(\"size of train\", test.shape)\n",
    "train.columns.values[2:]"
   ]
  },
  {
   "cell_type": "code",
   "execution_count": 4,
   "metadata": {
    "collapsed": true
   },
   "outputs": [],
   "source": [
    "train_sample = train.sample(frac=0.6, replace=False)"
   ]
  },
  {
   "cell_type": "code",
   "execution_count": 5,
   "metadata": {
    "collapsed": false
   },
   "outputs": [
    {
     "data": {
      "text/plain": [
       "(297447, 56)"
      ]
     },
     "execution_count": 5,
     "metadata": {},
     "output_type": "execute_result"
    }
   ],
   "source": [
    "train_sample.shape"
   ]
  },
  {
   "cell_type": "code",
   "execution_count": 6,
   "metadata": {
    "collapsed": true
   },
   "outputs": [],
   "source": [
    "train = train_sample"
   ]
  },
  {
   "cell_type": "code",
   "execution_count": 7,
   "metadata": {
    "collapsed": true
   },
   "outputs": [],
   "source": [
    "final_set = [ 'user_location_region', 'season', 'hotel_continent', 'hotel_country','hotel_market', \n",
    "              'type_of_day', 'is_alone','dest_feature_pc1',\n",
    "              'dest_feature_pc2','dest_feature_pc3','duration_of_stay', 'orig_destination_distance',\n",
    "            'srch_destination_type_id', 'popScoreCityDest_Count', 'popScoreDest_Count', 'is_package']"
   ]
  },
  {
   "cell_type": "code",
   "execution_count": 8,
   "metadata": {
    "collapsed": false
   },
   "outputs": [],
   "source": [
    "from sklearn.preprocessing import LabelEncoder, OneHotEncoder\n",
    "var_mod = ['user_location_region',  'hotel_continent', 'hotel_country', 'hotel_market', 'srch_destination_type_id']\n",
    "var_mod1 = ['type_of_day',  'season', 'is_alone', 'type_of_day', 'is_package']\n",
    "le = LabelEncoder()\n",
    "for i in var_mod:\n",
    "    train[i] = le.fit_transform(train[i])\n",
    "    test[i] = le.fit_transform(test[i])\n",
    "#ohe = OneHotEncoder()    \n",
    "for name in var_mod1:\n",
    "    train[name]=le.fit_transform(train[name])\n",
    "    test[name]=le.fit_transform(test[name])"
   ]
  },
  {
   "cell_type": "code",
   "execution_count": null,
   "metadata": {
    "collapsed": false
   },
   "outputs": [],
   "source": [
    "from sklearn.ensemble import GradientBoostingClassifier\n",
    "from sklearn import cross_validation\n",
    "model6_GB = GradientBoostingClassifier(learning_rate = 0.1, n_estimators = 100, max_depth = 3, min_samples_split = 3, \n",
    "                                       random_state=3)\n",
    "scorescvGB = cross_validation.cross_val_score(model6_GB, train[final_set], train['hotel_cluster'], cv=5)\n",
    "\n",
    "print(\"CV Score of GradientBoostingClassifer:\",scorescvGB*100)\n",
    "model6_GB.fit(train[final_set], train['hotel_cluster'])\n",
    "testScoreGB = model6_GB.score(test[final_set], test['hotel_cluster'])\n",
    "print(\"Gradient Boosting Test score:\", testScoreGB*100)\n"
   ]
  }
 ],
 "metadata": {
  "anaconda-cloud": {},
  "kernelspec": {
   "display_name": "Python [conda root]",
   "language": "python",
   "name": "conda-root-py"
  },
  "language_info": {
   "codemirror_mode": {
    "name": "ipython",
    "version": 2
   },
   "file_extension": ".py",
   "mimetype": "text/x-python",
   "name": "python",
   "nbconvert_exporter": "python",
   "pygments_lexer": "ipython2",
   "version": "2.7.12"
  }
 },
 "nbformat": 4,
 "nbformat_minor": 1
}
