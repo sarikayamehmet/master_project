{
 "cells": [
  {
   "cell_type": "markdown",
   "metadata": {},
   "source": [
    "# K Nearest Neighbor "
   ]
  },
  {
   "cell_type": "code",
   "execution_count": 1,
   "metadata": {
    "collapsed": true
   },
   "outputs": [],
   "source": [
    "import pandas as pd\n",
    "import matplotlib.pyplot as plt\n",
    "import numpy as np"
   ]
  },
  {
   "cell_type": "code",
   "execution_count": 2,
   "metadata": {
    "collapsed": false
   },
   "outputs": [],
   "source": [
    "testPath = \"~/sampledTestset2014.csv\"\n",
    "trainPath = \"~/sampledTrainSet2013.csv\"\n",
    "train = pd.read_csv(trainPath)\n",
    "test = pd.read_csv(testPath)"
   ]
  },
  {
   "cell_type": "code",
   "execution_count": 6,
   "metadata": {
    "collapsed": false
   },
   "outputs": [
    {
     "data": {
      "text/plain": [
       "(619172, 55)"
      ]
     },
     "execution_count": 6,
     "metadata": {},
     "output_type": "execute_result"
    }
   ],
   "source": [
    "train.shape"
   ]
  },
  {
   "cell_type": "code",
   "execution_count": 7,
   "metadata": {
    "collapsed": false
   },
   "outputs": [
    {
     "data": {
      "text/plain": [
       "(51481, 55)"
      ]
     },
     "execution_count": 7,
     "metadata": {},
     "output_type": "execute_result"
    }
   ],
   "source": [
    "test.shape"
   ]
  },
  {
   "cell_type": "markdown",
   "metadata": {},
   "source": [
    "Applying KNN on large Dataset always create problem. So , \n",
    "we will try to reduce the size of dataset by removing any duplicate rows"
   ]
  },
  {
   "cell_type": "code",
   "execution_count": 8,
   "metadata": {
    "collapsed": false
   },
   "outputs": [
    {
     "name": "stdout",
     "output_type": "stream",
     "text": [
      "('We have', 619172, 'rows in our trainings set')\n"
     ]
    }
   ],
   "source": [
    "print(\"We have\", train.shape[0], \"rows in our trainings set\")"
   ]
  },
  {
   "cell_type": "code",
   "execution_count": 9,
   "metadata": {
    "collapsed": false
   },
   "outputs": [
    {
     "name": "stdout",
     "output_type": "stream",
     "text": [
      "('We have', 619172, 'rows after dropping duplicate enteries')\n"
     ]
    }
   ],
   "source": [
    "trainSample = train.drop_duplicates()\n",
    "print(\"We have\", trainSample.shape[0], \"rows after dropping duplicate enteries\")"
   ]
  },
  {
   "cell_type": "code",
   "execution_count": 11,
   "metadata": {
    "collapsed": true
   },
   "outputs": [],
   "source": [
    "#looks likes we do not have any duplicates. So we will use train as it\n",
    "del trainSample"
   ]
  },
  {
   "cell_type": "code",
   "execution_count": 10,
   "metadata": {
    "collapsed": false
   },
   "outputs": [
    {
     "data": {
      "text/plain": [
       "Unnamed: 0                        0\n",
       "Unnamed: 0.1                      0\n",
       "user_location_country             0\n",
       "hotel_cluster                     0\n",
       "user_location_region              0\n",
       "user_location_city                0\n",
       "hotel_country                     0\n",
       "hotel_market                      0\n",
       "srch_destination_id               0\n",
       "date_time                         0\n",
       "site_name                         0\n",
       "posa_continent                    0\n",
       "orig_destination_distance    223367\n",
       "user_id                           0\n",
       "is_mobile                         0\n",
       "is_package                        0\n",
       "channel                           0\n",
       "srch_ci                        1492\n",
       "srch_co                        1492\n",
       "srch_adults_cnt                   0\n",
       "srch_children_cnt                 0\n",
       "srch_rm_cnt                       0\n",
       "srch_destination_type_id          0\n",
       "is_booking                        0\n",
       "cnt                               0\n",
       "hotel_continent                   0\n",
       "year                              0\n",
       "month                             0\n",
       "day                               0\n",
       "hour                              0\n",
       "part_of_day                   11211\n",
       "type_of_day                       0\n",
       "season                            0\n",
       "is_alone                       1159\n",
       "dest_feature_pc1               1798\n",
       "dest_feature_pc2               1798\n",
       "dest_feature_pc3               1798\n",
       "clickRate                      4456\n",
       "bookRate                       4612\n",
       "clickMRate                       71\n",
       "bookMRate                       104\n",
       "clickHCRate                       3\n",
       "bookHCRate                       19\n",
       "clickURate                     9803\n",
       "bookURate                      8589\n",
       "clickUCRRate                    419\n",
       "bookUCRRate                     230\n",
       "clickUCRate                      42\n",
       "bookUCRate                       20\n",
       "popScoreHmc_Count                 0\n",
       "popScoreU_Count                   0\n",
       "popScoreSite_Count                0\n",
       "popScoreDest_Count                0\n",
       "popScoreCityDest_Count            0\n",
       "popScoreCityH_Count               0\n",
       "dtype: int64"
      ]
     },
     "execution_count": 10,
     "metadata": {},
     "output_type": "execute_result"
    }
   ],
   "source": [
    "train.apply(lambda x: sum(x.isnull()),axis=0) "
   ]
  },
  {
   "cell_type": "code",
   "execution_count": 12,
   "metadata": {
    "collapsed": true
   },
   "outputs": [],
   "source": [
    "rf_dat = train"
   ]
  },
  {
   "cell_type": "markdown",
   "metadata": {},
   "source": [
    "We will deal with missing as we build new model based on KNN"
   ]
  },
  {
   "cell_type": "markdown",
   "metadata": {},
   "source": [
    "# MODEL 1: Similarity based on user locations"
   ]
  },
  {
   "cell_type": "code",
   "execution_count": 13,
   "metadata": {
    "collapsed": false
   },
   "outputs": [
    {
     "name": "stdout",
     "output_type": "stream",
     "text": [
      "('size of train set before removal of duplicates:', (619172, 5))\n",
      "('size of train set after removal of duplicates:', (271027, 5))\n",
      "('Overall accuracy using 3 fold Cross validation', array([ 0.98040301,  0.98399486,  0.8371166 ]))\n",
      "('Individual accuracy score: ', 0.58662419144927258)\n"
     ]
    }
   ],
   "source": [
    "from sklearn.preprocessing import LabelEncoder\n",
    "from sklearn.neighbors import KNeighborsClassifier\n",
    "from sklearn.neighbors import DistanceMetric\n",
    "from sklearn import cross_validation\n",
    "import ml_metrics as metrics # for map@5 accuracy \n",
    "\n",
    "predictor_set1 = [c for c in rf_dat.columns if c in \n",
    "                  ['user_location_city', 'user_location_country', 'user_location_region', 'season', 'hotel_cluster']]\n",
    "train_noDup  = rf_dat[predictor_set1] \n",
    "print(\"size of train set before removal of duplicates:\", train_noDup.shape)\n",
    "# We are dropping duplicate rows from training set \n",
    "train_noDup = train_noDup.drop_duplicates(subset=predictor_set1)\n",
    "print(\"size of train set after removal of duplicates:\", train_noDup.shape)\n",
    "le = LabelEncoder()\n",
    "train_noDup['season'] = le.fit_transform(train_noDup['season'])\n",
    "predictors = [c for c in train_noDup.columns if c in ['user_location_city', 'user_location_country','user_location_region', 'season']]\n",
    "train_dat = train_noDup[predictors]\n",
    "train_label = train_noDup['hotel_cluster']\n",
    "\n",
    "model1 = KNeighborsClassifier(n_neighbors=10, weights='uniform',algorithm='auto', leaf_size=50, metric = 'sokalsneath')\n",
    "#fit the model\n",
    "model1.fit(train_dat, train_label) \n",
    "\n",
    "from sklearn import cross_validation\n",
    "scores = cross_validation.cross_val_score(model1, train_dat, train_label, cv=3)\n",
    "print(\"Overall accuracy using 3 fold Cross validation\", scores*100)\n",
    "\n",
    "test['season'] = le.fit_transform(test['season'])\n",
    "predictors = [c for c in train_noDup.columns if c in ['user_location_city', 'user_location_country','user_location_region', 'season']]\n",
    "test_dat = test[predictors]\n",
    "test_label = test['hotel_cluster']\n",
    "ind_score  = model1.score(test_dat,test['hotel_cluster'])\n",
    "print(\"Individual accuracy score: \", ind_score*100)\n",
    "\n",
    "prediction_m1 = model1.predict(test_dat)"
   ]
  },
  {
   "cell_type": "markdown",
   "metadata": {},
   "source": [
    "# Model 2: Similarity based on hotel parameters"
   ]
  },
  {
   "cell_type": "code",
   "execution_count": 14,
   "metadata": {
    "collapsed": false
   },
   "outputs": [
    {
     "name": "stdout",
     "output_type": "stream",
     "text": [
      "('size of train set before removal of duplicates:', (619172, 5))\n",
      "('size of train set after removal of duplicates:', (133853, 5))\n",
      "('Overall accuracy using 3 fold Cross validation-Model2', array([ 1.30550642,  1.93876636,  1.72274563]))\n"
     ]
    },
    {
     "name": "stderr",
     "output_type": "stream",
     "text": [
      "/home/ec2-user/anaconda2/lib/python2.7/site-packages/ipykernel/__main__.py:28: SettingWithCopyWarning: \n",
      "A value is trying to be set on a copy of a slice from a DataFrame.\n",
      "Try using .loc[row_indexer,col_indexer] = value instead\n",
      "\n",
      "See the caveats in the documentation: http://pandas.pydata.org/pandas-docs/stable/indexing.html#indexing-view-versus-copy\n"
     ]
    },
    {
     "name": "stdout",
     "output_type": "stream",
     "text": [
      "('Individual accuracy score for model 2: ', 0.80612264719022542)\n"
     ]
    }
   ],
   "source": [
    "from sklearn.neighbors import KNeighborsClassifier\n",
    "from sklearn.neighbors import DistanceMetric\n",
    "import ml_metrics as metrics\n",
    "from sklearn import cross_validation\n",
    "\n",
    "predictor_set2 = [c for c in rf_dat.columns if c in \n",
    "                  ['hotel_continent', 'hotel_country', 'hotel_cluster','season', 'day']]\n",
    "train_noDup  = rf_dat[predictor_set2] \n",
    "print(\"size of train set before removal of duplicates:\", train_noDup.shape)\n",
    "\n",
    "# We are dropping duplicate rows from training set \n",
    "train_noDup = train_noDup.drop_duplicates(subset=predictor_set2)\n",
    "print(\"size of train set after removal of duplicates:\", train_noDup.shape)\n",
    "\n",
    "le = LabelEncoder()\n",
    "train_noDup['season'] = le.fit_transform(train_noDup['season'])\n",
    "\n",
    "predictors = [c for c in train_noDup.columns if c in ['hotel_continent', 'hotel_country','season', 'day']]\n",
    "train_dat = train_noDup[predictors]\n",
    "train_label = train_noDup['hotel_cluster']\n",
    "\n",
    "model2 = KNeighborsClassifier(n_neighbors=10, weights='uniform',algorithm='auto', leaf_size=60, metric = 'sokalsneath')\n",
    "model2.fit(train_dat, train_label) \n",
    "scores = cross_validation.cross_val_score(model2, train_dat, train_label, cv=3)\n",
    "print(\"Overall accuracy using 3 fold Cross validation-Model2\", scores*100)\n",
    "\n",
    "test_dat = test[predictors]\n",
    "test_dat['season'] = le.fit_transform(test_dat['season'])\n",
    "test_label = test['hotel_cluster']\n",
    "\n",
    "#individual accuracy score\n",
    "ind_score  = model2.score(test_dat,test['hotel_cluster'])\n",
    "print(\"Individual accuracy score for model 2: \", ind_score*100)\n",
    "prediction_m2 = model2.predict(test_dat)"
   ]
  },
  {
   "cell_type": "markdown",
   "metadata": {},
   "source": [
    "# Model 3: based on hotel_market"
   ]
  },
  {
   "cell_type": "code",
   "execution_count": null,
   "metadata": {
    "collapsed": false
   },
   "outputs": [
    {
     "name": "stdout",
     "output_type": "stream",
     "text": [
      "('size of train set before removal of duplicates:', (619172, 4))\n",
      "('size of train set after removal of duplicates:', (83395, 4))\n",
      "('Overall accuracy using 3 fold Cross validation-Model 3', array([ 1.17139777,  1.00363322,  1.61708564]))\n",
      "('Individual accuracy score: ', 2.1541928089974944)\n"
     ]
    }
   ],
   "source": [
    "from sklearn.neighbors import KNeighborsClassifier\n",
    "from sklearn.neighbors import DistanceMetric\n",
    "import ml_metrics as metrics\n",
    "\n",
    "predictor_set3 = [c for c in rf_dat.columns if c in \n",
    "                  ['hotel_continent', 'hotel_market', 'srch_destination_id', 'hotel_cluster']]\n",
    "train_noDup  = rf_dat[predictor_set3] \n",
    "print(\"size of train set before removal of duplicates:\", train_noDup.shape)\n",
    "\n",
    "# We are dropping duplicate rows from training set \n",
    "train_noDup = train_noDup.drop_duplicates(subset=predictor_set3)\n",
    "print(\"size of train set after removal of duplicates:\", train_noDup.shape)\n",
    "\n",
    "predictors = [c for c in train_noDup.columns if c in ['hotel_continent', 'hotel_market', 'srch_destination_id']]\n",
    "train_dat = train_noDup[predictors]\n",
    "train_label = train_noDup['hotel_cluster']\n",
    "\n",
    "test_dat = test[predictors]\n",
    "test_label = test['hotel_cluster']\n",
    "\n",
    "\n",
    "model3 = KNeighborsClassifier(n_neighbors=10, weights='uniform',algorithm='auto', leaf_size=60, metric = 'sokalsneath')\n",
    "model3.fit(train_dat, train_label) \n",
    "\n",
    "scores = cross_validation.cross_val_score(model3, train_dat, train_label, cv=3)\n",
    "print(\"Overall accuracy using 3 fold Cross validation-Model 3\", scores*100)\n",
    "\n",
    "#individual accuracy score\n",
    "ind_score  = model3.score(test_dat,test[\"hotel_cluster\"])\n",
    "print(\"Individual accuracy score: \", ind_score*100)\n",
    "prediction_m3 = model3.predict(test_dat)"
   ]
  },
  {
   "cell_type": "markdown",
   "metadata": {},
   "source": [
    "# Model 4 : based on user and hotel srch parameters"
   ]
  },
  {
   "cell_type": "code",
   "execution_count": null,
   "metadata": {
    "collapsed": false
   },
   "outputs": [
    {
     "name": "stdout",
     "output_type": "stream",
     "text": [
      "('size of train set before removal of duplicates:', (619172, 6))\n",
      "('size of train set after removal of duplicates:', (373613, 6))\n"
     ]
    }
   ],
   "source": [
    "from sklearn.neighbors import KNeighborsClassifier\n",
    "from sklearn.neighbors import DistanceMetric\n",
    "import ml_metrics as metrics\n",
    "\n",
    "predictor_set4 = [c for c in rf_dat.columns if c in \n",
    "                  ['hotel_continent', 'hotel_market', 'hotel_cluster','user_location_city', 'user_location_country', 'user_location_region']]\n",
    "train_noDup  = rf_dat[predictor_set4] \n",
    "print(\"size of train set before removal of duplicates:\", train_noDup.shape)\n",
    "\n",
    "# We are dropping duplicate rows from training set \n",
    "train_noDup = train_noDup.drop_duplicates(subset=predictor_set4)\n",
    "print(\"size of train set after removal of duplicates:\", train_noDup.shape)\n",
    "\n",
    "predictors = [c for c in train_noDup.columns if c in ['hotel_continent', 'hotel_market',\n",
    "                                                      'user_location_city', 'user_location_country', 'user_location_region']]\n",
    "train_dat = train_noDup[predictors]\n",
    "train_label = train_noDup['hotel_cluster']\n",
    "test_dat = test[predictors]\n",
    "test_label = test['hotel_cluster']\n",
    "\n",
    "\n",
    "model4 = KNeighborsClassifier(n_neighbors=10, weights='uniform',algorithm='auto', leaf_size=60, metric = 'sokalsneath')\n",
    "model4.fit(train_dat, train_label) \n",
    "scores = cross_validation.cross_val_score(model4, train_dat, train_label, cv=3)\n",
    "print(\"Overall accuracy using 3 fold Cross validation-Model 4\", scores*100)"
   ]
  },
  {
   "cell_type": "code",
   "execution_count": 23,
   "metadata": {
    "collapsed": false
   },
   "outputs": [
    {
     "name": "stdout",
     "output_type": "stream",
     "text": [
      "Individual accuracy score:  1.65217391304\n"
     ]
    }
   ],
   "source": [
    "#individual accuracy score\n",
    "ind_score  = model4.score(test_dat,test[\"hotel_cluster\"])\n",
    "print(\"Individual accuracy score: \", ind_score*100)\n",
    "\n",
    "prediction_m4 = model4.predict(test_dat)"
   ]
  },
  {
   "cell_type": "markdown",
   "metadata": {},
   "source": [
    "# Model 5 : based on user and hotel locations"
   ]
  },
  {
   "cell_type": "code",
   "execution_count": 24,
   "metadata": {
    "collapsed": false
   },
   "outputs": [
    {
     "name": "stdout",
     "output_type": "stream",
     "text": [
      "size of train set before removal of duplicates: (91113, 6)\n",
      "size of train set after removal of duplicates: (42975, 6)\n",
      "Overall accuracy using 3 fold Cross validation-Model 5 [ 1.38589038  1.4586823   1.5537514 ]\n",
      "Individual accuracy score:  1.52173913043\n"
     ]
    }
   ],
   "source": [
    "from sklearn.neighbors import KNeighborsClassifier\n",
    "from sklearn.neighbors import DistanceMetric\n",
    "import ml_metrics as metrics\n",
    "\n",
    "predictor_set5 = [c for c in rf_dat.columns if c in \n",
    "                  ['hotel_continent', 'hotel_country', 'hotel_cluster','user_location_city', 'user_location_country', 'user_location_region']]\n",
    "train_noDup  = rf_dat[predictor_set5] \n",
    "print(\"size of train set before removal of duplicates:\", train_noDup.shape)\n",
    "\n",
    "# We are dropping duplicate rows from training set \n",
    "train_noDup = train_noDup.drop_duplicates(subset=predictor_set5)\n",
    "print(\"size of train set after removal of duplicates:\", train_noDup.shape)\n",
    "\n",
    "predictors = [c for c in train_noDup.columns if c in ['hotel_continent', 'hotel_country',\n",
    "                                                      'user_location_city', 'user_location_country', 'user_location_region']]\n",
    "train_dat = train_noDup[predictors]\n",
    "train_label = train_noDup['hotel_cluster']\n",
    "test_dat = test[predictors]\n",
    "test_label = test['hotel_cluster']\n",
    "\n",
    "\n",
    "model5 = KNeighborsClassifier(n_neighbors=10, weights='uniform',algorithm='auto', leaf_size=60, metric = 'sokalsneath')\n",
    "model5.fit(train_dat, train_label) \n",
    "scores = cross_validation.cross_val_score(model5, train_dat, train_label, cv=3)\n",
    "print(\"Overall accuracy using 3 fold Cross validation-Model 5\", scores*100)\n",
    "\n",
    "#individual accuracy score\n",
    "ind_score  = model5.score(test_dat,test[\"hotel_cluster\"])\n",
    "print(\"Individual accuracy score: \", ind_score*100)\n",
    "\n",
    "prediction_m5 = model5.predict(test_dat)"
   ]
  },
  {
   "cell_type": "markdown",
   "metadata": {},
   "source": [
    "### Ensembling 1\n",
    "We combine the output from five models and generate test prediction"
   ]
  },
  {
   "cell_type": "code",
   "execution_count": 25,
   "metadata": {
    "collapsed": true
   },
   "outputs": [],
   "source": [
    "import itertools\n",
    "from operator import itemgetter\n",
    "final_predction = []\n",
    "for testrow in range(len(test)):\n",
    "        pred_final = [prediction_m1[testrow],\n",
    "                                  prediction_m2[testrow], \n",
    "                                  prediction_m3[testrow], \n",
    "                                  prediction_m4[testrow],\n",
    "                                  prediction_m5[testrow]]\n",
    "        final_predction.append(pred_final)  "
   ]
  },
  {
   "cell_type": "markdown",
   "metadata": {},
   "source": [
    "### map@5 accuracy for second approach"
   ]
  },
  {
   "cell_type": "code",
   "execution_count": 26,
   "metadata": {
    "collapsed": false
   },
   "outputs": [
    {
     "name": "stdout",
     "output_type": "stream",
     "text": [
      "Mean accuracy Precison Score is (in %):  2.35289855072\n"
     ]
    }
   ],
   "source": [
    "import ml_metrics as metrics\n",
    "target = [[l] for l in test['hotel_cluster']]\n",
    "score = metrics.mapk(target, final_predction, k=5) \n",
    "accuracy = score*100\n",
    "print (\"Mean accuracy Precison Score is (in %): \",accuracy) "
   ]
  },
  {
   "cell_type": "markdown",
   "metadata": {},
   "source": [
    "### KNN Model 6 -using Clicks and Book features "
   ]
  },
  {
   "cell_type": "markdown",
   "metadata": {},
   "source": [
    "Its hard to apply KNN on the categorical data. So We created some new features using Books and clicks rate \n",
    "based on different parameters as described in the script ~/Final/features-from-booksClicks.R"
   ]
  },
  {
   "cell_type": "markdown",
   "metadata": {},
   "source": [
    "It contains features generated using books and click rate. "
   ]
  },
  {
   "cell_type": "markdown",
   "metadata": {},
   "source": [
    "below file already contains features created mentioed R script"
   ]
  },
  {
   "cell_type": "code",
   "execution_count": 3,
   "metadata": {
    "collapsed": false
   },
   "outputs": [
    {
     "data": {
      "text/plain": [
       "array(['Unnamed: 0', 'Unnamed: 0.1', 'user_location_country',\n",
       "       'hotel_cluster', 'user_location_region', 'user_location_city',\n",
       "       'hotel_country', 'hotel_market', 'srch_destination_id', 'date_time',\n",
       "       'site_name', 'posa_continent', 'orig_destination_distance',\n",
       "       'user_id', 'is_mobile', 'is_package', 'channel', 'srch_ci',\n",
       "       'srch_co', 'srch_adults_cnt', 'srch_children_cnt', 'srch_rm_cnt',\n",
       "       'srch_destination_type_id', 'is_booking', 'cnt', 'hotel_continent',\n",
       "       'year', 'month', 'day', 'hour', 'part_of_day', 'type_of_day',\n",
       "       'season', 'is_alone', 'dest_feature_pc1', 'dest_feature_pc2',\n",
       "       'dest_feature_pc3', 'clickRate', 'bookRate', 'clickMRate',\n",
       "       'bookMRate', 'clickHCRate', 'bookHCRate', 'clickURate', 'bookURate',\n",
       "       'clickUCRRate', 'bookUCRRate', 'clickUCRate', 'bookUCRate',\n",
       "       'popScoreHmc_Count', 'popScoreU_Count', 'popScoreSite_Count',\n",
       "       'popScoreDest_Count', 'popScoreCityDest_Count',\n",
       "       'popScoreCityH_Count'], dtype=object)"
      ]
     },
     "execution_count": 3,
     "metadata": {},
     "output_type": "execute_result"
    }
   ],
   "source": [
    "train.columns.values"
   ]
  },
  {
   "cell_type": "code",
   "execution_count": 4,
   "metadata": {
    "collapsed": false
   },
   "outputs": [
    {
     "data": {
      "text/plain": [
       "True"
      ]
     },
     "execution_count": 4,
     "metadata": {},
     "output_type": "execute_result"
    }
   ],
   "source": [
    "train.isnull().values.any()"
   ]
  },
  {
   "cell_type": "code",
   "execution_count": 8,
   "metadata": {
    "collapsed": false
   },
   "outputs": [
    {
     "data": {
      "text/html": [
       "<div>\n",
       "<table border=\"1\" class=\"dataframe\">\n",
       "  <thead>\n",
       "    <tr style=\"text-align: right;\">\n",
       "      <th></th>\n",
       "      <th>clickRate</th>\n",
       "      <th>bookRate</th>\n",
       "      <th>clickMRate</th>\n",
       "      <th>bookMRate</th>\n",
       "      <th>clickHCRate</th>\n",
       "      <th>bookHCRate</th>\n",
       "      <th>clickURate</th>\n",
       "      <th>bookURate</th>\n",
       "      <th>clickUCRRate</th>\n",
       "      <th>bookUCRRate</th>\n",
       "      <th>clickUCRate</th>\n",
       "      <th>bookUCRate</th>\n",
       "    </tr>\n",
       "  </thead>\n",
       "  <tbody>\n",
       "    <tr>\n",
       "      <th>1</th>\n",
       "      <td>0.015</td>\n",
       "      <td>0.014</td>\n",
       "      <td>0.016</td>\n",
       "      <td>0.013</td>\n",
       "      <td>0.017</td>\n",
       "      <td>0.010</td>\n",
       "      <td>0.2</td>\n",
       "      <td>0.000</td>\n",
       "      <td>0.001</td>\n",
       "      <td>0.002</td>\n",
       "      <td>0.001</td>\n",
       "      <td>0.002</td>\n",
       "    </tr>\n",
       "    <tr>\n",
       "      <th>2</th>\n",
       "      <td>0.223</td>\n",
       "      <td>0.278</td>\n",
       "      <td>0.248</td>\n",
       "      <td>0.298</td>\n",
       "      <td>0.025</td>\n",
       "      <td>0.028</td>\n",
       "      <td>0.0</td>\n",
       "      <td>0.154</td>\n",
       "      <td>0.000</td>\n",
       "      <td>0.028</td>\n",
       "      <td>0.003</td>\n",
       "      <td>0.006</td>\n",
       "    </tr>\n",
       "  </tbody>\n",
       "</table>\n",
       "</div>"
      ],
      "text/plain": [
       "   clickRate  bookRate  clickMRate  bookMRate  clickHCRate  bookHCRate  \\\n",
       "1      0.015     0.014       0.016      0.013        0.017       0.010   \n",
       "2      0.223     0.278       0.248      0.298        0.025       0.028   \n",
       "\n",
       "   clickURate  bookURate  clickUCRRate  bookUCRRate  clickUCRate  bookUCRate  \n",
       "1         0.2      0.000         0.001        0.002        0.001       0.002  \n",
       "2         0.0      0.154         0.000        0.028        0.003       0.006  "
      ]
     },
     "execution_count": 8,
     "metadata": {},
     "output_type": "execute_result"
    }
   ],
   "source": [
    "train.iloc[1:3, 37:49]"
   ]
  },
  {
   "cell_type": "code",
   "execution_count": 9,
   "metadata": {
    "collapsed": false
   },
   "outputs": [],
   "source": [
    "train = train.replace([np.inf, -np.inf], np.nan)"
   ]
  },
  {
   "cell_type": "code",
   "execution_count": 56,
   "metadata": {
    "collapsed": true
   },
   "outputs": [],
   "source": [
    "train['bookRate'].fillna(77 ,inplace=True)"
   ]
  },
  {
   "cell_type": "code",
   "execution_count": 61,
   "metadata": {
    "collapsed": false
   },
   "outputs": [
    {
     "data": {
      "text/html": [
       "<div>\n",
       "<table border=\"1\" class=\"dataframe\">\n",
       "  <thead>\n",
       "    <tr style=\"text-align: right;\">\n",
       "      <th></th>\n",
       "      <th>Unnamed: 0</th>\n",
       "      <th>clickRate</th>\n",
       "      <th>bookRate</th>\n",
       "      <th>clickMRate</th>\n",
       "      <th>bookMRate</th>\n",
       "      <th>clickHCRate</th>\n",
       "      <th>bookHCRate</th>\n",
       "      <th>clickURate</th>\n",
       "      <th>bookURate</th>\n",
       "      <th>clickUCRRate</th>\n",
       "      <th>bookUCRRate</th>\n",
       "      <th>clickUCRate</th>\n",
       "      <th>bookUCRate</th>\n",
       "      <th>hotel_cluster</th>\n",
       "    </tr>\n",
       "  </thead>\n",
       "  <tbody>\n",
       "    <tr>\n",
       "      <th>count</th>\n",
       "      <td>2300.000000</td>\n",
       "      <td>2300.000000</td>\n",
       "      <td>2300.000000</td>\n",
       "      <td>2300.000000</td>\n",
       "      <td>2300.000000</td>\n",
       "      <td>2300.000000</td>\n",
       "      <td>2300.000000</td>\n",
       "      <td>2300.000000</td>\n",
       "      <td>2300.000000</td>\n",
       "      <td>2300.000000</td>\n",
       "      <td>2300.000000</td>\n",
       "      <td>2300.000000</td>\n",
       "      <td>2300.000000</td>\n",
       "      <td>2300.000000</td>\n",
       "    </tr>\n",
       "    <tr>\n",
       "      <th>mean</th>\n",
       "      <td>1150.500000</td>\n",
       "      <td>34.048719</td>\n",
       "      <td>33.982101</td>\n",
       "      <td>16.385627</td>\n",
       "      <td>17.725911</td>\n",
       "      <td>1.579967</td>\n",
       "      <td>1.755049</td>\n",
       "      <td>49.868321</td>\n",
       "      <td>51.381790</td>\n",
       "      <td>11.167537</td>\n",
       "      <td>11.217202</td>\n",
       "      <td>2.942194</td>\n",
       "      <td>2.945085</td>\n",
       "      <td>47.323478</td>\n",
       "    </tr>\n",
       "    <tr>\n",
       "      <th>std</th>\n",
       "      <td>664.097131</td>\n",
       "      <td>46.945136</td>\n",
       "      <td>46.993153</td>\n",
       "      <td>36.703514</td>\n",
       "      <td>37.862634</td>\n",
       "      <td>12.287351</td>\n",
       "      <td>12.940181</td>\n",
       "      <td>49.485457</td>\n",
       "      <td>49.444152</td>\n",
       "      <td>31.295232</td>\n",
       "      <td>31.345620</td>\n",
       "      <td>16.770058</td>\n",
       "      <td>16.769562</td>\n",
       "      <td>28.229712</td>\n",
       "    </tr>\n",
       "    <tr>\n",
       "      <th>min</th>\n",
       "      <td>1.000000</td>\n",
       "      <td>0.000000</td>\n",
       "      <td>0.000000</td>\n",
       "      <td>0.000000</td>\n",
       "      <td>0.000000</td>\n",
       "      <td>0.000000</td>\n",
       "      <td>0.000000</td>\n",
       "      <td>0.000000</td>\n",
       "      <td>0.000000</td>\n",
       "      <td>0.000000</td>\n",
       "      <td>0.000000</td>\n",
       "      <td>0.001000</td>\n",
       "      <td>0.000000</td>\n",
       "      <td>0.000000</td>\n",
       "    </tr>\n",
       "    <tr>\n",
       "      <th>25%</th>\n",
       "      <td>575.750000</td>\n",
       "      <td>0.048000</td>\n",
       "      <td>0.000000</td>\n",
       "      <td>0.026750</td>\n",
       "      <td>0.000000</td>\n",
       "      <td>0.013000</td>\n",
       "      <td>0.011000</td>\n",
       "      <td>0.022000</td>\n",
       "      <td>0.000000</td>\n",
       "      <td>0.009000</td>\n",
       "      <td>0.002000</td>\n",
       "      <td>0.009000</td>\n",
       "      <td>0.008000</td>\n",
       "      <td>25.000000</td>\n",
       "    </tr>\n",
       "    <tr>\n",
       "      <th>50%</th>\n",
       "      <td>1150.500000</td>\n",
       "      <td>0.164000</td>\n",
       "      <td>0.011000</td>\n",
       "      <td>0.067000</td>\n",
       "      <td>0.059000</td>\n",
       "      <td>0.019000</td>\n",
       "      <td>0.021000</td>\n",
       "      <td>99.000000</td>\n",
       "      <td>99.000000</td>\n",
       "      <td>0.015000</td>\n",
       "      <td>0.017000</td>\n",
       "      <td>0.013000</td>\n",
       "      <td>0.015000</td>\n",
       "      <td>46.000000</td>\n",
       "    </tr>\n",
       "    <tr>\n",
       "      <th>75%</th>\n",
       "      <td>1725.250000</td>\n",
       "      <td>99.000000</td>\n",
       "      <td>99.000000</td>\n",
       "      <td>0.200000</td>\n",
       "      <td>0.271000</td>\n",
       "      <td>0.033000</td>\n",
       "      <td>0.038000</td>\n",
       "      <td>99.000000</td>\n",
       "      <td>99.000000</td>\n",
       "      <td>0.030000</td>\n",
       "      <td>0.038000</td>\n",
       "      <td>0.017250</td>\n",
       "      <td>0.025000</td>\n",
       "      <td>70.000000</td>\n",
       "    </tr>\n",
       "    <tr>\n",
       "      <th>max</th>\n",
       "      <td>2300.000000</td>\n",
       "      <td>99.000000</td>\n",
       "      <td>99.000000</td>\n",
       "      <td>99.000000</td>\n",
       "      <td>99.000000</td>\n",
       "      <td>99.000000</td>\n",
       "      <td>99.000000</td>\n",
       "      <td>99.000000</td>\n",
       "      <td>99.000000</td>\n",
       "      <td>99.000000</td>\n",
       "      <td>99.000000</td>\n",
       "      <td>99.000000</td>\n",
       "      <td>99.000000</td>\n",
       "      <td>99.000000</td>\n",
       "    </tr>\n",
       "  </tbody>\n",
       "</table>\n",
       "</div>"
      ],
      "text/plain": [
       "        Unnamed: 0    clickRate     bookRate   clickMRate    bookMRate  \\\n",
       "count  2300.000000  2300.000000  2300.000000  2300.000000  2300.000000   \n",
       "mean   1150.500000    34.048719    33.982101    16.385627    17.725911   \n",
       "std     664.097131    46.945136    46.993153    36.703514    37.862634   \n",
       "min       1.000000     0.000000     0.000000     0.000000     0.000000   \n",
       "25%     575.750000     0.048000     0.000000     0.026750     0.000000   \n",
       "50%    1150.500000     0.164000     0.011000     0.067000     0.059000   \n",
       "75%    1725.250000    99.000000    99.000000     0.200000     0.271000   \n",
       "max    2300.000000    99.000000    99.000000    99.000000    99.000000   \n",
       "\n",
       "       clickHCRate   bookHCRate   clickURate    bookURate  clickUCRRate  \\\n",
       "count  2300.000000  2300.000000  2300.000000  2300.000000   2300.000000   \n",
       "mean      1.579967     1.755049    49.868321    51.381790     11.167537   \n",
       "std      12.287351    12.940181    49.485457    49.444152     31.295232   \n",
       "min       0.000000     0.000000     0.000000     0.000000      0.000000   \n",
       "25%       0.013000     0.011000     0.022000     0.000000      0.009000   \n",
       "50%       0.019000     0.021000    99.000000    99.000000      0.015000   \n",
       "75%       0.033000     0.038000    99.000000    99.000000      0.030000   \n",
       "max      99.000000    99.000000    99.000000    99.000000     99.000000   \n",
       "\n",
       "       bookUCRRate  clickUCRate   bookUCRate  hotel_cluster  \n",
       "count  2300.000000  2300.000000  2300.000000    2300.000000  \n",
       "mean     11.217202     2.942194     2.945085      47.323478  \n",
       "std      31.345620    16.770058    16.769562      28.229712  \n",
       "min       0.000000     0.001000     0.000000       0.000000  \n",
       "25%       0.002000     0.009000     0.008000      25.000000  \n",
       "50%       0.017000     0.013000     0.015000      46.000000  \n",
       "75%       0.038000     0.017250     0.025000      70.000000  \n",
       "max      99.000000    99.000000    99.000000      99.000000  "
      ]
     },
     "execution_count": 61,
     "metadata": {},
     "output_type": "execute_result"
    }
   ],
   "source": [
    "test.describe()"
   ]
  },
  {
   "cell_type": "code",
   "execution_count": 11,
   "metadata": {
    "collapsed": true
   },
   "outputs": [],
   "source": [
    "Predset_var = ['clickRate', 'bookRate', 'clickMRate', 'bookMRate',\n",
    "       'clickHCRate','bookHCRate', 'clickURate', 'bookURate',\n",
    "       'clickUCRRate', 'bookUCRRate', 'clickUCRate', 'bookUCRate']\n",
    "\n",
    "for col in Predset_var:\n",
    "    train[col].fillna(77 ,inplace=True)\n",
    "    test[col].fillna(77 ,inplace=True)"
   ]
  },
  {
   "cell_type": "code",
   "execution_count": 12,
   "metadata": {
    "collapsed": false
   },
   "outputs": [
    {
     "data": {
      "text/plain": [
       "KNeighborsClassifier(algorithm='auto', leaf_size=30, metric='minkowski',\n",
       "           metric_params=None, n_jobs=1, n_neighbors=3, p=2,\n",
       "           weights='uniform')"
      ]
     },
     "execution_count": 12,
     "metadata": {},
     "output_type": "execute_result"
    }
   ],
   "source": [
    "from sklearn.neighbors import KNeighborsClassifier\n",
    "Knn8_model = KNeighborsClassifier(n_neighbors=3)\n",
    "\n",
    "Knn8_model.fit(train[Predset_var], train['hotel_cluster']) "
   ]
  },
  {
   "cell_type": "markdown",
   "metadata": {},
   "source": [
    "### Result on the validation set"
   ]
  },
  {
   "cell_type": "code",
   "execution_count": 15,
   "metadata": {
    "collapsed": false
   },
   "outputs": [
    {
     "name": "stdout",
     "output_type": "stream",
     "text": [
      "('Accuracy in % is: using KNN model with features using book clicks rate is:', 2.1852722363590451)\n"
     ]
    }
   ],
   "source": [
    "testScore = Knn8_model.score(test[Predset_var], test['hotel_cluster'])\n",
    "print(\"Accuracy in % is: using KNN model with features using book clicks rate is:\", testScore*100)"
   ]
  },
  {
   "cell_type": "code",
   "execution_count": 16,
   "metadata": {
    "collapsed": true
   },
   "outputs": [],
   "source": [
    "Predset_var = ['popScoreHmc_Count', 'popScoreU_Count', 'popScoreSite_Count',\n",
    "       'popScoreDest_Count', 'popScoreCityDest_Count',\n",
    "       'popScoreCityH_Count']\n",
    "for col in Predset_var:\n",
    "    train[col].fillna(0.0 ,inplace=True)\n",
    "    test[col].fillna(0.8 ,inplace=True)"
   ]
  },
  {
   "cell_type": "code",
   "execution_count": 17,
   "metadata": {
    "collapsed": false
   },
   "outputs": [
    {
     "name": "stdout",
     "output_type": "stream",
     "text": [
      "('Accuracy in % is: using KNN model with features using book clicks rate is:', 6.3149511470251163)\n"
     ]
    }
   ],
   "source": [
    "from sklearn.neighbors import KNeighborsClassifier\n",
    "Knn9_model = KNeighborsClassifier(n_neighbors=3)\n",
    "\n",
    "Knn9_model.fit(train[Predset_var], train['hotel_cluster']) \n",
    "testScore = Knn9_model.score(test[Predset_var], test['hotel_cluster'])\n",
    "print(\"Accuracy in % is: using KNN model with features using book clicks rate is:\", testScore*100)"
   ]
  },
  {
   "cell_type": "code",
   "execution_count": 19,
   "metadata": {
    "collapsed": true
   },
   "outputs": [],
   "source": [
    "Predset_var1 = ['clickRate', 'bookRate', 'clickMRate', 'bookMRate',\n",
    "       'clickHCRate','bookHCRate', 'clickURate', 'bookURate',\n",
    "       'clickUCRRate', 'bookUCRRate', 'clickUCRate', 'bookUCRate']"
   ]
  },
  {
   "cell_type": "code",
   "execution_count": 20,
   "metadata": {
    "collapsed": false
   },
   "outputs": [],
   "source": [
    "prediction_m1 = Knn8_model.predict(test[Predset_var1])\n",
    "prediction_m3 = Knn9_model.predict(test[Predset_var])"
   ]
  },
  {
   "cell_type": "code",
   "execution_count": 22,
   "metadata": {
    "collapsed": false
   },
   "outputs": [],
   "source": [
    "import itertools\n",
    "from operator import itemgetter\n",
    "final_predction = []\n",
    "for testrow in range(len(test)):\n",
    "        pred_final = [prediction_m3[testrow],\n",
    "                                  prediction_m1[testrow]]\n",
    "        final_predction.append(pred_final)  "
   ]
  },
  {
   "cell_type": "code",
   "execution_count": 23,
   "metadata": {
    "collapsed": false
   },
   "outputs": [
    {
     "name": "stdout",
     "output_type": "stream",
     "text": [
      "('Mean accuracy Precison Score is (in %): ', 7.3425147141663913)\n"
     ]
    }
   ],
   "source": [
    "import ml_metrics as metrics\n",
    "target = [[l] for l in test['hotel_cluster']]\n",
    "score = metrics.mapk(target, final_predction, k=2) \n",
    "accuracy = score*100\n",
    "print (\"Mean accuracy Precison Score is (in %): \",accuracy) "
   ]
  }
 ],
 "metadata": {
  "anaconda-cloud": {},
  "kernelspec": {
   "display_name": "Python [conda root]",
   "language": "python",
   "name": "conda-root-py"
  },
  "language_info": {
   "codemirror_mode": {
    "name": "ipython",
    "version": 2
   },
   "file_extension": ".py",
   "mimetype": "text/x-python",
   "name": "python",
   "nbconvert_exporter": "python",
   "pygments_lexer": "ipython2",
   "version": "2.7.12"
  }
 },
 "nbformat": 4,
 "nbformat_minor": 1
}
