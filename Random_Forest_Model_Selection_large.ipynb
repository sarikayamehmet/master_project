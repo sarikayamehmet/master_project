{
 "cells": [
  {
   "cell_type": "markdown",
   "metadata": {},
   "source": [
    "# Random Forest Model Selection"
   ]
  },
  {
   "cell_type": "code",
   "execution_count": 3,
   "metadata": {
    "collapsed": true
   },
   "outputs": [],
   "source": [
    "import pandas as pd\n",
    "import matplotlib.pyplot as plt\n",
    "import numpy as np\n",
    "from sklearn import cross_validation\n",
    "from sklearn.ensemble import RandomForestClassifier"
   ]
  },
  {
   "cell_type": "code",
   "execution_count": 45,
   "metadata": {
    "collapsed": true
   },
   "outputs": [],
   "source": [
    "#### Configure path\n",
    "trainPath = \"~/cleantrain2013Stage4.csv\""
   ]
  },
  {
   "cell_type": "code",
   "execution_count": 46,
   "metadata": {
    "collapsed": false
   },
   "outputs": [],
   "source": [
    "train = pd.read_csv(trainPath)"
   ]
  },
  {
   "cell_type": "code",
   "execution_count": 47,
   "metadata": {
    "collapsed": false
   },
   "outputs": [
    {
     "name": "stdout",
     "output_type": "stream",
     "text": [
      "('We have data for', 235750, 'users')\n"
     ]
    }
   ],
   "source": [
    "unique_users = train.user_id.unique()\n",
    "print(\"We have data for\", len(unique_users), \"users\")"
   ]
  },
  {
   "cell_type": "code",
   "execution_count": 48,
   "metadata": {
    "collapsed": false
   },
   "outputs": [
    {
     "data": {
      "text/plain": [
       "(1471411, 54)"
      ]
     },
     "execution_count": 48,
     "metadata": {},
     "output_type": "execute_result"
    }
   ],
   "source": [
    "train.shape"
   ]
  },
  {
   "cell_type": "code",
   "execution_count": 50,
   "metadata": {
    "collapsed": false
   },
   "outputs": [
    {
     "name": "stdout",
     "output_type": "stream",
     "text": [
      "('We have data for', 235750, 'users')\n",
      "('new sample contains', 619172, 'rows and', 54, 'columns')\n"
     ]
    }
   ],
   "source": [
    "import random\n",
    "random.seed(24)\n",
    "unique_users = train.user_id.unique()\n",
    "print(\"We have data for\", len(unique_users), \"users\")\n",
    "sel_user_ids = [unique_users[i] for i in sorted(random.sample(range(len(unique_users)), 100000)) ]\n",
    "rf_dat = train[train.user_id.isin(sel_user_ids)]\n",
    "print(\"new sample contains\", rf_dat.shape[0], \"rows and\", rf_dat.shape[1], \"columns\")"
   ]
  },
  {
   "cell_type": "code",
   "execution_count": 51,
   "metadata": {
    "collapsed": true
   },
   "outputs": [],
   "source": [
    "del train \n",
    "import gc\n",
    "gc.collect()\n",
    "train = rf_dat"
   ]
  },
  {
   "cell_type": "markdown",
   "metadata": {},
   "source": [
    "## Selection of test set"
   ]
  },
  {
   "cell_type": "code",
   "execution_count": 53,
   "metadata": {
    "collapsed": true
   },
   "outputs": [],
   "source": [
    "testPath = \"~/cleantest2014Stage4.csv\"\n",
    "test = pd.read_csv(testPath)\n",
    "#Select data for selected user from test set\n",
    "test = test[test.user_id.isin(sel_user_ids)]"
   ]
  },
  {
   "cell_type": "code",
   "execution_count": 55,
   "metadata": {
    "collapsed": false
   },
   "outputs": [
    {
     "data": {
      "text/plain": [
       "(51481, 54)"
      ]
     },
     "execution_count": 55,
     "metadata": {},
     "output_type": "execute_result"
    }
   ],
   "source": [
    "test.shape"
   ]
  },
  {
   "cell_type": "code",
   "execution_count": null,
   "metadata": {
    "collapsed": true
   },
   "outputs": [],
   "source": [
    "Note: We are saving sampled train and test to regerate the same result and use the same dataset for other ML algorithms!\n",
    "It contains data for 4614 users and number of rows in the dataset are 91113\n",
    "#####  train.to_csv(\"~/Final/sampledTrain.csv\") train set 1\n",
    "###### test.to_csv(\"~/Final/sampledTest.csv\") test set 2\n",
    "#train.to_csv(\"~/sampledTrainSet2013.csv\") #313361 train set 2013\n",
    "#test.to_csv(\"~/sampledTestset2014.csv\") #25780 test set 2014"
   ]
  },
  {
   "cell_type": "code",
   "execution_count": 10,
   "metadata": {
    "collapsed": false
   },
   "outputs": [
    {
     "name": "stdout",
     "output_type": "stream",
     "text": [
      "('Train size:', 313361)\n",
      "('Test size:', 25780)\n"
     ]
    }
   ],
   "source": [
    "print(\"Train size:\", train.shape[0])\n",
    "print(\"Test size:\", test.shape[0])"
   ]
  },
  {
   "cell_type": "code",
   "execution_count": 23,
   "metadata": {
    "collapsed": false
   },
   "outputs": [
    {
     "data": {
      "text/plain": [
       "113898"
      ]
     },
     "execution_count": 23,
     "metadata": {},
     "output_type": "execute_result"
    }
   ],
   "source": [
    "#  Missing values for origin destination\n",
    "313361-199463"
   ]
  },
  {
   "cell_type": "code",
   "execution_count": 57,
   "metadata": {
    "collapsed": false
   },
   "outputs": [
    {
     "data": {
      "text/html": [
       "<div>\n",
       "<table border=\"1\" class=\"dataframe\">\n",
       "  <thead>\n",
       "    <tr style=\"text-align: right;\">\n",
       "      <th></th>\n",
       "      <th>hotel_cluster</th>\n",
       "      <th>user_location_region</th>\n",
       "      <th>user_location_city</th>\n",
       "      <th>hotel_country</th>\n",
       "      <th>hotel_market</th>\n",
       "      <th>srch_destination_id</th>\n",
       "      <th>date_time</th>\n",
       "      <th>site_name</th>\n",
       "    </tr>\n",
       "  </thead>\n",
       "  <tbody>\n",
       "    <tr>\n",
       "      <th>0</th>\n",
       "      <td>619172</td>\n",
       "      <td>619172</td>\n",
       "      <td>619172</td>\n",
       "      <td>619172</td>\n",
       "      <td>619172</td>\n",
       "      <td>619172</td>\n",
       "      <td>619172</td>\n",
       "      <td>619172</td>\n",
       "    </tr>\n",
       "  </tbody>\n",
       "</table>\n",
       "</div>"
      ],
      "text/plain": [
       "   hotel_cluster  user_location_region  user_location_city  hotel_country  \\\n",
       "0         619172                619172              619172         619172   \n",
       "\n",
       "   hotel_market  srch_destination_id  date_time  site_name  \n",
       "0        619172               619172     619172     619172  "
      ]
     },
     "execution_count": 57,
     "metadata": {},
     "output_type": "execute_result"
    }
   ],
   "source": [
    "missing_count = train.count(axis=0)\n",
    "missing = pd.DataFrame(missing_count)\n",
    "missing.transpose().iloc[0:3, 2:10]"
   ]
  },
  {
   "cell_type": "code",
   "execution_count": 59,
   "metadata": {
    "collapsed": false
   },
   "outputs": [
    {
     "data": {
      "text/html": [
       "<div>\n",
       "<table border=\"1\" class=\"dataframe\">\n",
       "  <thead>\n",
       "    <tr style=\"text-align: right;\">\n",
       "      <th></th>\n",
       "      <th>orig_destination_distance</th>\n",
       "      <th>user_id</th>\n",
       "      <th>is_mobile</th>\n",
       "      <th>is_package</th>\n",
       "      <th>channel</th>\n",
       "      <th>srch_ci</th>\n",
       "      <th>srch_co</th>\n",
       "    </tr>\n",
       "  </thead>\n",
       "  <tbody>\n",
       "    <tr>\n",
       "      <th>0</th>\n",
       "      <td>395805</td>\n",
       "      <td>619172</td>\n",
       "      <td>619172</td>\n",
       "      <td>619172</td>\n",
       "      <td>619172</td>\n",
       "      <td>617680</td>\n",
       "      <td>617680</td>\n",
       "    </tr>\n",
       "  </tbody>\n",
       "</table>\n",
       "</div>"
      ],
      "text/plain": [
       "   orig_destination_distance  user_id  is_mobile  is_package  channel  \\\n",
       "0                     395805   619172     619172      619172   619172   \n",
       "\n",
       "   srch_ci  srch_co  \n",
       "0   617680   617680  "
      ]
     },
     "execution_count": 59,
     "metadata": {},
     "output_type": "execute_result"
    }
   ],
   "source": [
    "missing.transpose().iloc[0:3, 11:18]"
   ]
  },
  {
   "cell_type": "code",
   "execution_count": 60,
   "metadata": {
    "collapsed": false
   },
   "outputs": [
    {
     "data": {
      "text/html": [
       "<div>\n",
       "<table border=\"1\" class=\"dataframe\">\n",
       "  <thead>\n",
       "    <tr style=\"text-align: right;\">\n",
       "      <th></th>\n",
       "      <th>srch_children_cnt</th>\n",
       "      <th>srch_rm_cnt</th>\n",
       "      <th>srch_destination_type_id</th>\n",
       "      <th>is_booking</th>\n",
       "      <th>cnt</th>\n",
       "    </tr>\n",
       "  </thead>\n",
       "  <tbody>\n",
       "    <tr>\n",
       "      <th>0</th>\n",
       "      <td>619172</td>\n",
       "      <td>619172</td>\n",
       "      <td>619172</td>\n",
       "      <td>619172</td>\n",
       "      <td>619172</td>\n",
       "    </tr>\n",
       "  </tbody>\n",
       "</table>\n",
       "</div>"
      ],
      "text/plain": [
       "   srch_children_cnt  srch_rm_cnt  srch_destination_type_id  is_booking  \\\n",
       "0             619172       619172                    619172      619172   \n",
       "\n",
       "      cnt  \n",
       "0  619172  "
      ]
     },
     "execution_count": 60,
     "metadata": {},
     "output_type": "execute_result"
    }
   ],
   "source": [
    "missing.transpose().iloc[0:3, 19:24]"
   ]
  },
  {
   "cell_type": "markdown",
   "metadata": {},
   "source": [
    "As mentioned, distance between search destination and user city is missing for many instances. Rest of the values look ok. We consider imupting these missing value with -1."
   ]
  },
  {
   "cell_type": "code",
   "execution_count": 61,
   "metadata": {
    "collapsed": false
   },
   "outputs": [
    {
     "data": {
      "text/html": [
       "<div>\n",
       "<table border=\"1\" class=\"dataframe\">\n",
       "  <thead>\n",
       "    <tr style=\"text-align: right;\">\n",
       "      <th></th>\n",
       "      <th>posa_continent</th>\n",
       "      <th>orig_destination_distance</th>\n",
       "      <th>user_id</th>\n",
       "      <th>is_mobile</th>\n",
       "      <th>is_package</th>\n",
       "    </tr>\n",
       "  </thead>\n",
       "  <tbody>\n",
       "    <tr>\n",
       "      <th>0</th>\n",
       "      <td>619172</td>\n",
       "      <td>619172</td>\n",
       "      <td>619172</td>\n",
       "      <td>619172</td>\n",
       "      <td>619172</td>\n",
       "    </tr>\n",
       "  </tbody>\n",
       "</table>\n",
       "</div>"
      ],
      "text/plain": [
       "   posa_continent  orig_destination_distance  user_id  is_mobile  is_package\n",
       "0          619172                     619172   619172     619172      619172"
      ]
     },
     "execution_count": 61,
     "metadata": {},
     "output_type": "execute_result"
    }
   ],
   "source": [
    "## replace NA's in orig_destination_distance by -1\n",
    "train['orig_destination_distance'].fillna(-1, inplace=True)\n",
    "test['orig_destination_distance'].fillna(-1, inplace=True)\n",
    "missing_count = train.count(axis=0)\n",
    "missing = pd.DataFrame(missing_count)\n",
    "missing.transpose().iloc[0:3, 10:15]"
   ]
  },
  {
   "cell_type": "markdown",
   "metadata": {},
   "source": [
    "#### Build random forest model using all original features!"
   ]
  },
  {
   "cell_type": "markdown",
   "metadata": {},
   "source": [
    "### Model 1:"
   ]
  },
  {
   "cell_type": "code",
   "execution_count": 62,
   "metadata": {
    "collapsed": true
   },
   "outputs": [],
   "source": [
    "rawPredictors = ['site_name', 'posa_continent', 'user_location_country', 'user_location_region',\n",
    "                 'user_location_city', 'orig_destination_distance', 'user_id','is_mobile', 'is_package', 'channel',\n",
    "                 'srch_adults_cnt', 'srch_children_cnt', 'srch_rm_cnt','srch_destination_id', 'srch_destination_type_id', 'is_booking',\n",
    "                  'cnt', 'hotel_continent', 'hotel_country', 'hotel_market']"
   ]
  },
  {
   "cell_type": "code",
   "execution_count": 63,
   "metadata": {
    "collapsed": false
   },
   "outputs": [
    {
     "name": "stdout",
     "output_type": "stream",
     "text": [
      "('We used', 20, 'original features(excluding date/time) for the building first model')\n"
     ]
    }
   ],
   "source": [
    "print(\"We used\", len(rawPredictors), \"original features(excluding date/time) for the building first model\")"
   ]
  },
  {
   "cell_type": "code",
   "execution_count": 64,
   "metadata": {
    "collapsed": false
   },
   "outputs": [
    {
     "data": {
      "text/plain": [
       "array([ 0.05685084,  0.05289207,  0.06072646,  0.05540166,  0.06462505])"
      ]
     },
     "execution_count": 64,
     "metadata": {},
     "output_type": "execute_result"
    }
   ],
   "source": [
    "from sklearn import cross_validation\n",
    "from sklearn.ensemble import RandomForestClassifier\n",
    "\n",
    "model1_RF= RandomForestClassifier(n_estimators=5, min_weight_fraction_leaf=0.1)\n",
    "cvScoreRF1 = cross_validation.cross_val_score(model1_RF, train[rawPredictors], train['hotel_cluster'], cv=5)\n",
    "cvScoreRF1"
   ]
  },
  {
   "cell_type": "markdown",
   "metadata": {},
   "source": [
    "For the first model, we take all the raw features and number of trees = 5. We will adjust the tuning\n",
    "parameters in the later step. As of now, lets observe the feature importance graph and see which features were important during tree building \n",
    "process. We first fit random forest model "
   ]
  },
  {
   "cell_type": "code",
   "execution_count": 66,
   "metadata": {
    "collapsed": false
   },
   "outputs": [
    {
     "data": {
      "text/plain": [
       "RandomForestClassifier(bootstrap=True, class_weight=None, criterion='gini',\n",
       "            max_depth=None, max_features='auto', max_leaf_nodes=None,\n",
       "            min_samples_leaf=1, min_samples_split=2,\n",
       "            min_weight_fraction_leaf=0.1, n_estimators=5, n_jobs=1,\n",
       "            oob_score=False, random_state=None, verbose=0,\n",
       "            warm_start=False)"
      ]
     },
     "execution_count": 66,
     "metadata": {},
     "output_type": "execute_result"
    }
   ],
   "source": [
    "model1_RF.fit(train[rawPredictors], train['hotel_cluster'])"
   ]
  },
  {
   "cell_type": "markdown",
   "metadata": {},
   "source": [
    "#### Fetaure Importance Graph Model - 1 Original features"
   ]
  },
  {
   "cell_type": "code",
   "execution_count": 67,
   "metadata": {
    "collapsed": false,
    "scrolled": false
   },
   "outputs": [
    {
     "data": {
      "image/png": "[encoded data removed]",
      "text/plain": [
       "<matplotlib.figure.Figure at 0x7fcc7021c150>"
      ]
     },
     "metadata": {},
     "output_type": "display_data"
    }
   ],
   "source": [
    "importances = model1_RF.feature_importances_\n",
    "std = np.std([tree.feature_importances_ for tree in model1_RF.estimators_],\n",
    "             axis=0)\n",
    "indices = np.argsort(importances)[::-1]\n",
    "\n",
    "plt.title(\"Feature importances\")\n",
    "plt.barh(range(len(rawPredictors)), importances[indices], yerr=std[indices], align=\"center\", color='cornflowerblue')\n",
    "\n",
    "impFeatures = []\n",
    "for i in indices:\n",
    "    impFeatures.append(rawPredictors[i])\n",
    "    \n",
    "plt.yticks(range(len(rawPredictors)), impFeatures)\n",
    "plt.ylim([-1, len(rawPredictors)])\n",
    "plt.show()"
   ]
  },
  {
   "cell_type": "code",
   "execution_count": 73,
   "metadata": {
    "collapsed": false
   },
   "outputs": [
    {
     "name": "stdout",
     "output_type": "stream",
     "text": [
      "Features sorted by their score:\n",
      "[(0.2923, 'hotel_market'), (0.2522, 'hotel_country'), (0.1913, 'srch_destination_id'), (0.0991, 'is_package'), (0.0799, 'orig_destination_distance'), (0.0284, 'user_location_region'), (0.0218, 'site_name'), (0.0176, 'hotel_continent'), (0.0072, 'user_location_country'), (0.0054, 'srch_children_cnt'), (0.0045, 'is_booking'), (0.0004, 'user_id'), (0.0, 'user_location_city'), (0.0, 'srch_rm_cnt'), (0.0, 'srch_destination_type_id'), (0.0, 'srch_adults_cnt'), (0.0, 'posa_continent'), (0.0, 'is_mobile'), (0.0, 'cnt'), (0.0, 'channel')]\n"
     ]
    }
   ],
   "source": [
    "print \"Features sorted by their score:\"\n",
    "print sorted(zip(map(lambda x: round(x, 4), model1_RF.feature_importances_), rawPredictors), \n",
    "             reverse=True)"
   ]
  },
  {
   "cell_type": "markdown",
   "metadata": {},
   "source": [
    "### Model 2 : Iteration 2\n",
    "\n",
    "Model using only imp features "
   ]
  },
  {
   "cell_type": "code",
   "execution_count": 74,
   "metadata": {
    "collapsed": false
   },
   "outputs": [
    {
     "data": {
      "text/plain": [
       "array([ 0.06096005,  0.06511594,  0.06515174,  0.06217746,  0.05763747])"
      ]
     },
     "execution_count": 74,
     "metadata": {},
     "output_type": "execute_result"
    }
   ],
   "source": [
    "impFeatureSet = ['hotel_market', 'hotel_country', 'srch_destination_id','is_package', 'orig_destination_distance', \n",
    "                  'user_location_region', 'site_name', 'hotel_continent']\n",
    "model2_RF = RandomForestClassifier(n_estimators=5, min_weight_fraction_leaf=0.1)\n",
    "cvScoreRF2 = cross_validation.cross_val_score(model2_RF, train[impFeatureSet], train['hotel_cluster'], cv=5)\n",
    "cvScoreRF2"
   ]
  },
  {
   "cell_type": "code",
   "execution_count": 75,
   "metadata": {
    "collapsed": false
   },
   "outputs": [
    {
     "data": {
      "text/plain": [
       "RandomForestClassifier(bootstrap=True, class_weight=None, criterion='gini',\n",
       "            max_depth=None, max_features='auto', max_leaf_nodes=None,\n",
       "            min_samples_leaf=1, min_samples_split=2,\n",
       "            min_weight_fraction_leaf=0.1, n_estimators=5, n_jobs=1,\n",
       "            oob_score=False, random_state=None, verbose=0,\n",
       "            warm_start=False)"
      ]
     },
     "execution_count": 75,
     "metadata": {},
     "output_type": "execute_result"
    }
   ],
   "source": [
    "model2_RF.fit(train[impFeatureSet], train['hotel_cluster'])"
   ]
  },
  {
   "cell_type": "code",
   "execution_count": 76,
   "metadata": {
    "collapsed": false
   },
   "outputs": [
    {
     "data": {
      "image/png": "[encoded data removed]",
      "text/plain": [
       "<matplotlib.figure.Figure at 0x7fcc5123aa90>"
      ]
     },
     "metadata": {},
     "output_type": "display_data"
    }
   ],
   "source": [
    "importances = model2_RF.feature_importances_\n",
    "std = np.std([tree.feature_importances_ for tree in model2_RF.estimators_],\n",
    "             axis=0)\n",
    "indices = np.argsort(importances)[::-1]\n",
    "\n",
    "plt.title(\"Feature importances\")\n",
    "plt.barh(range(len(impFeatureSet)), importances[indices], yerr=std[indices], align=\"center\", color='cornflowerblue')\n",
    "impFeatures=[]\n",
    "for i in indices:\n",
    "    impFeatures.append(impFeatureSet[i])\n",
    "    \n",
    "plt.yticks(range(len(impFeatureSet)), impFeatures)\n",
    "plt.ylim([-1, len(impFeatureSet)])\n",
    "plt.show()"
   ]
  },
  {
   "cell_type": "markdown",
   "metadata": {
    "collapsed": true
   },
   "source": [
    "cv score improved by only 1% using model with imp feature!"
   ]
  },
  {
   "cell_type": "markdown",
   "metadata": {},
   "source": [
    "### Model 3: iteration 3\n",
    "We now introduce some new features created using approach explained in ~/Final/FeatureEngScript2.R\n",
    "\n",
    "https://bhd2.rcg.usm.maine.edu:8888/edit/Final/FeatureEngScript2.R"
   ]
  },
  {
   "cell_type": "code",
   "execution_count": null,
   "metadata": {
    "collapsed": true
   },
   "outputs": [],
   "source": [
    "We introduced features created by discretization "
   ]
  },
  {
   "cell_type": "code",
   "execution_count": 83,
   "metadata": {
    "collapsed": true
   },
   "outputs": [],
   "source": [
    "## duration_of_stay in both train and test set\n",
    "train[\"srch_ci\"] = pd.to_datetime(train[\"srch_ci\"], format='%Y-%m-%d', errors=\"coerce\")\n",
    "train[\"srch_co\"] = pd.to_datetime(train[\"srch_co\"], format='%Y-%m-%d', errors=\"coerce\")\n",
    "train[\"duration_of_stay\"] = (train[\"srch_co\"]-train[\"srch_ci\"]).astype('timedelta64[h]')\n",
    "train[\"duration_of_stay\"] = train[\"duration_of_stay\"]/24\n",
    "\n",
    "test[\"srch_ci\"] = pd.to_datetime(test[\"srch_ci\"], format='%Y-%m-%d', errors=\"coerce\")\n",
    "test[\"srch_co\"] = pd.to_datetime(test[\"srch_co\"], format='%Y-%m-%d', errors=\"coerce\")\n",
    "test[\"duration_of_stay\"] = (test[\"srch_co\"]-test[\"srch_ci\"]).astype('timedelta64[h]')\n",
    "test[\"duration_of_stay\"] = test[\"duration_of_stay\"]/24"
   ]
  },
  {
   "cell_type": "code",
   "execution_count": 84,
   "metadata": {
    "collapsed": true
   },
   "outputs": [],
   "source": [
    "featureTimePca = ['year', 'month', 'day', 'hour', 'part_of_day', 'type_of_day', 'season', \n",
    "                  'duration_of_stay', 'is_alone', \n",
    "                  'dest_feature_pc1', 'dest_feature_pc2', 'dest_feature_pc3' ]\n"
   ]
  },
  {
   "cell_type": "code",
   "execution_count": 87,
   "metadata": {
    "collapsed": false
   },
   "outputs": [
    {
     "data": {
      "text/html": [
       "<div>\n",
       "<table border=\"1\" class=\"dataframe\">\n",
       "  <thead>\n",
       "    <tr style=\"text-align: right;\">\n",
       "      <th></th>\n",
       "      <th>year</th>\n",
       "      <th>month</th>\n",
       "      <th>day</th>\n",
       "      <th>hour</th>\n",
       "      <th>part_of_day</th>\n",
       "      <th>type_of_day</th>\n",
       "      <th>season</th>\n",
       "      <th>is_alone</th>\n",
       "      <th>dest_feature_pc1</th>\n",
       "      <th>dest_feature_pc2</th>\n",
       "      <th>dest_feature_pc3</th>\n",
       "    </tr>\n",
       "  </thead>\n",
       "  <tbody>\n",
       "    <tr>\n",
       "      <th>0</th>\n",
       "      <td>619172</td>\n",
       "      <td>619172</td>\n",
       "      <td>619172</td>\n",
       "      <td>619172</td>\n",
       "      <td>619172</td>\n",
       "      <td>619172</td>\n",
       "      <td>619172</td>\n",
       "      <td>618013</td>\n",
       "      <td>617374</td>\n",
       "      <td>617374</td>\n",
       "      <td>617374</td>\n",
       "    </tr>\n",
       "  </tbody>\n",
       "</table>\n",
       "</div>"
      ],
      "text/plain": [
       "     year   month     day    hour  part_of_day  type_of_day  season  is_alone  \\\n",
       "0  619172  619172  619172  619172       619172       619172  619172    618013   \n",
       "\n",
       "   dest_feature_pc1  dest_feature_pc2  dest_feature_pc3  \n",
       "0            617374            617374            617374  "
      ]
     },
     "execution_count": 87,
     "metadata": {},
     "output_type": "execute_result"
    }
   ],
   "source": [
    "missing_count = train.count(axis=0)\n",
    "missing = pd.DataFrame(missing_count)\n",
    "missing.transpose().iloc[0:3, 25:36]"
   ]
  },
  {
   "cell_type": "code",
   "execution_count": 88,
   "metadata": {
    "collapsed": false
   },
   "outputs": [
    {
     "data": {
      "text/html": [
       "<div>\n",
       "<table border=\"1\" class=\"dataframe\">\n",
       "  <thead>\n",
       "    <tr style=\"text-align: right;\">\n",
       "      <th></th>\n",
       "      <th>year</th>\n",
       "      <th>month</th>\n",
       "      <th>day</th>\n",
       "      <th>hour</th>\n",
       "      <th>part_of_day</th>\n",
       "      <th>type_of_day</th>\n",
       "      <th>season</th>\n",
       "      <th>is_alone</th>\n",
       "      <th>dest_feature_pc1</th>\n",
       "      <th>dest_feature_pc2</th>\n",
       "      <th>dest_feature_pc3</th>\n",
       "    </tr>\n",
       "  </thead>\n",
       "  <tbody>\n",
       "    <tr>\n",
       "      <th>0</th>\n",
       "      <td>619172</td>\n",
       "      <td>619172</td>\n",
       "      <td>619172</td>\n",
       "      <td>619172</td>\n",
       "      <td>619172</td>\n",
       "      <td>619172</td>\n",
       "      <td>619172</td>\n",
       "      <td>619172</td>\n",
       "      <td>619172</td>\n",
       "      <td>619172</td>\n",
       "      <td>619172</td>\n",
       "    </tr>\n",
       "  </tbody>\n",
       "</table>\n",
       "</div>"
      ],
      "text/plain": [
       "     year   month     day    hour  part_of_day  type_of_day  season  is_alone  \\\n",
       "0  619172  619172  619172  619172       619172       619172  619172    619172   \n",
       "\n",
       "   dest_feature_pc1  dest_feature_pc2  dest_feature_pc3  \n",
       "0            619172            619172            619172  "
      ]
     },
     "execution_count": 88,
     "metadata": {},
     "output_type": "execute_result"
    }
   ],
   "source": [
    "## replace missing values\n",
    "train['is_alone'].fillna(0, inplace=True)\n",
    "test['is_alone'].fillna(0, inplace=True)\n",
    "\n",
    "train['dest_feature_pc1'].fillna(-1, inplace=True)\n",
    "test['dest_feature_pc1'].fillna(-1, inplace=True)\n",
    "\n",
    "train['dest_feature_pc2'].fillna(-1, inplace=True)\n",
    "test['dest_feature_pc2'].fillna(-1, inplace=True)\n",
    "\n",
    "train['dest_feature_pc3'].fillna(-1, inplace=True)\n",
    "test['dest_feature_pc3'].fillna(-1, inplace=True)\n",
    "\n",
    "\n",
    "missing_count = train.count(axis=0)\n",
    "missing = pd.DataFrame(missing_count)\n",
    "missing.transpose().iloc[0:3, 25:36]"
   ]
  },
  {
   "cell_type": "code",
   "execution_count": 89,
   "metadata": {
    "collapsed": false
   },
   "outputs": [],
   "source": [
    "### encode the categorical variable to numberic before applying the RF\n",
    "\n",
    "from sklearn.preprocessing import LabelEncoder\n",
    "var_mod = ['season', 'type_of_day', 'part_of_day', 'duration_of_stay']\n",
    "le = LabelEncoder()\n",
    "for i in var_mod:\n",
    "    train[i] = le.fit_transform(train[i])"
   ]
  },
  {
   "cell_type": "code",
   "execution_count": 90,
   "metadata": {
    "collapsed": false
   },
   "outputs": [
    {
     "data": {
      "text/plain": [
       "(619172, 55)"
      ]
     },
     "execution_count": 90,
     "metadata": {},
     "output_type": "execute_result"
    }
   ],
   "source": [
    "train.shape"
   ]
  },
  {
   "cell_type": "code",
   "execution_count": 93,
   "metadata": {
    "collapsed": false,
    "scrolled": true
   },
   "outputs": [
    {
     "data": {
      "text/html": [
       "<div>\n",
       "<table border=\"1\" class=\"dataframe\">\n",
       "  <thead>\n",
       "    <tr style=\"text-align: right;\">\n",
       "      <th></th>\n",
       "      <th>year</th>\n",
       "      <th>month</th>\n",
       "      <th>day</th>\n",
       "      <th>hour</th>\n",
       "      <th>part_of_day</th>\n",
       "      <th>type_of_day</th>\n",
       "      <th>season</th>\n",
       "      <th>is_alone</th>\n",
       "      <th>dest_feature_pc1</th>\n",
       "      <th>dest_feature_pc2</th>\n",
       "      <th>dest_feature_pc3</th>\n",
       "    </tr>\n",
       "  </thead>\n",
       "  <tbody>\n",
       "    <tr>\n",
       "      <th>2</th>\n",
       "      <td>2013</td>\n",
       "      <td>8</td>\n",
       "      <td>13</td>\n",
       "      <td>14</td>\n",
       "      <td>1</td>\n",
       "      <td>1</td>\n",
       "      <td>1</td>\n",
       "      <td>0.0</td>\n",
       "      <td>16.646431</td>\n",
       "      <td>4.634208</td>\n",
       "      <td>-0.192093</td>\n",
       "    </tr>\n",
       "    <tr>\n",
       "      <th>8</th>\n",
       "      <td>2013</td>\n",
       "      <td>6</td>\n",
       "      <td>5</td>\n",
       "      <td>21</td>\n",
       "      <td>2</td>\n",
       "      <td>1</td>\n",
       "      <td>1</td>\n",
       "      <td>0.0</td>\n",
       "      <td>45.864357</td>\n",
       "      <td>4.722330</td>\n",
       "      <td>-10.897558</td>\n",
       "    </tr>\n",
       "    <tr>\n",
       "      <th>12</th>\n",
       "      <td>2013</td>\n",
       "      <td>8</td>\n",
       "      <td>28</td>\n",
       "      <td>9</td>\n",
       "      <td>0</td>\n",
       "      <td>1</td>\n",
       "      <td>1</td>\n",
       "      <td>0.0</td>\n",
       "      <td>45.864357</td>\n",
       "      <td>4.722330</td>\n",
       "      <td>-10.897558</td>\n",
       "    </tr>\n",
       "    <tr>\n",
       "      <th>16</th>\n",
       "      <td>2013</td>\n",
       "      <td>1</td>\n",
       "      <td>18</td>\n",
       "      <td>21</td>\n",
       "      <td>2</td>\n",
       "      <td>1</td>\n",
       "      <td>3</td>\n",
       "      <td>0.0</td>\n",
       "      <td>45.864357</td>\n",
       "      <td>4.722330</td>\n",
       "      <td>-10.897558</td>\n",
       "    </tr>\n",
       "  </tbody>\n",
       "</table>\n",
       "</div>"
      ],
      "text/plain": [
       "    year  month  day  hour  part_of_day  type_of_day  season  is_alone  \\\n",
       "2   2013      8   13    14            1            1       1       0.0   \n",
       "8   2013      6    5    21            2            1       1       0.0   \n",
       "12  2013      8   28     9            0            1       1       0.0   \n",
       "16  2013      1   18    21            2            1       3       0.0   \n",
       "\n",
       "    dest_feature_pc1  dest_feature_pc2  dest_feature_pc3  \n",
       "2          16.646431          4.634208         -0.192093  \n",
       "8          45.864357          4.722330        -10.897558  \n",
       "12         45.864357          4.722330        -10.897558  \n",
       "16         45.864357          4.722330        -10.897558  "
      ]
     },
     "execution_count": 93,
     "metadata": {},
     "output_type": "execute_result"
    }
   ],
   "source": [
    "train.iloc[1:5, 25:36]"
   ]
  },
  {
   "cell_type": "code",
   "execution_count": 94,
   "metadata": {
    "collapsed": false
   },
   "outputs": [
    {
     "data": {
      "text/plain": [
       "array([ 0.06560209,  0.05806743,  0.06894714,  0.06698271,  0.05930156])"
      ]
     },
     "execution_count": 94,
     "metadata": {},
     "output_type": "execute_result"
    }
   ],
   "source": [
    "model3_RF = RandomForestClassifier(n_estimators=5, min_weight_fraction_leaf=0.1)\n",
    "\n",
    "cvScoreRF3 = cross_validation.cross_val_score(model3_RF, train[featureTimePca], train['hotel_cluster'], cv=5)\n",
    "cvScoreRF3"
   ]
  },
  {
   "cell_type": "code",
   "execution_count": 95,
   "metadata": {
    "collapsed": false
   },
   "outputs": [
    {
     "data": {
      "text/plain": [
       "RandomForestClassifier(bootstrap=True, class_weight=None, criterion='gini',\n",
       "            max_depth=None, max_features='auto', max_leaf_nodes=None,\n",
       "            min_samples_leaf=1, min_samples_split=2,\n",
       "            min_weight_fraction_leaf=0.1, n_estimators=5, n_jobs=1,\n",
       "            oob_score=False, random_state=None, verbose=0,\n",
       "            warm_start=False)"
      ]
     },
     "execution_count": 95,
     "metadata": {},
     "output_type": "execute_result"
    }
   ],
   "source": [
    "model3_RF.fit(train[featureTimePca], train['hotel_cluster'])"
   ]
  },
  {
   "cell_type": "markdown",
   "metadata": {
    "collapsed": true
   },
   "source": [
    "Ater introducing this new variables, we see no noticeable improvemnet on cross validation scores. Lets fit the model 4 by coming these new features and old imp features.\n"
   ]
  },
  {
   "cell_type": "code",
   "execution_count": 96,
   "metadata": {
    "collapsed": false,
    "scrolled": true
   },
   "outputs": [
    {
     "data": {
      "image/png": "[encoded data removed]",
      "text/plain": [
       "<matplotlib.figure.Figure at 0x7fcc6ffc3c10>"
      ]
     },
     "metadata": {},
     "output_type": "display_data"
    }
   ],
   "source": [
    "importances = model3_RF.feature_importances_\n",
    "std = np.std([tree.feature_importances_ for tree in model3_RF.estimators_],\n",
    "             axis=0)\n",
    "indices = np.argsort(importances)[::-1]\n",
    "\n",
    "plt.title(\"Feature importances\")\n",
    "plt.barh(range(len(featureTimePca)), importances[indices], yerr=std[indices], align=\"center\", color='cornflowerblue')\n",
    "impFeatures=[]\n",
    "for i in indices:\n",
    "    impFeatures.append(featureTimePca[i])\n",
    "    \n",
    "plt.yticks(range(len(featureTimePca)), impFeatures)\n",
    "plt.ylim([-1, len(featureTimePca)])\n",
    "plt.show()"
   ]
  },
  {
   "cell_type": "markdown",
   "metadata": {
    "collapsed": true
   },
   "source": [
    "From features plot, we found Pricipal components are important "
   ]
  },
  {
   "cell_type": "markdown",
   "metadata": {},
   "source": [
    "### Model 4 : Iteration 4 \n",
    "    "
   ]
  },
  {
   "cell_type": "code",
   "execution_count": 100,
   "metadata": {
    "collapsed": false
   },
   "outputs": [
    {
     "name": "stdout",
     "output_type": "stream",
     "text": [
      "('unique values for Hotel country, market and continent are as:', 195, 2029, 7, 'respt')\n"
     ]
    }
   ],
   "source": [
    "uniqueHc_ids = len(train.hotel_country.unique())\n",
    "uniqueHm_ids = len(train.hotel_market.unique())\n",
    "uniqueHcont_ids = len(train.hotel_continent.unique())\n",
    "print(\"unique values for Hotel country, market and continent are as:\",uniqueHc_ids,  uniqueHm_ids, uniqueHcont_ids, \"respt\" )"
   ]
  },
  {
   "cell_type": "code",
   "execution_count": 101,
   "metadata": {
    "collapsed": true
   },
   "outputs": [],
   "source": [
    "### encode the categorical variable to numberic before applying the RF\n",
    "\n",
    "from sklearn.preprocessing import LabelEncoder\n",
    "var_mod = ['hotel_market', 'hotel_continent', 'hotel_market']\n",
    "le = LabelEncoder()\n",
    "for i in var_mod:\n",
    "    train[i] = le.fit_transform(train[i])"
   ]
  },
  {
   "cell_type": "code",
   "execution_count": 102,
   "metadata": {
    "collapsed": false
   },
   "outputs": [],
   "source": [
    "impFeatureSet1 = ['hotel_market', 'hotel_continent', 'hotel_market'] # model 1\n",
    "impFeatureSet2 = ['season', 'duration_of_stay', 'is_alone', 'dest_feature_pc1', 'dest_feature_pc2', 'dest_feature_pc3']\n",
    "allImp = impFeatureSet2 + impFeatureSet1"
   ]
  },
  {
   "cell_type": "code",
   "execution_count": 103,
   "metadata": {
    "collapsed": false
   },
   "outputs": [
    {
     "data": {
      "text/plain": [
       "array([ 0.07392547,  0.08151402,  0.08526737,  0.07436421,  0.08754271])"
      ]
     },
     "execution_count": 103,
     "metadata": {},
     "output_type": "execute_result"
    }
   ],
   "source": [
    "model4_RF = RandomForestClassifier(n_estimators=5, min_weight_fraction_leaf=0.1)\n",
    "\n",
    "cvScoreRF4 = cross_validation.cross_val_score(model4_RF, train[allImp], train['hotel_cluster'], cv=5)\n",
    "cvScoreRF4"
   ]
  },
  {
   "cell_type": "code",
   "execution_count": 104,
   "metadata": {
    "collapsed": false
   },
   "outputs": [
    {
     "data": {
      "text/plain": [
       "RandomForestClassifier(bootstrap=True, class_weight=None, criterion='gini',\n",
       "            max_depth=None, max_features='auto', max_leaf_nodes=None,\n",
       "            min_samples_leaf=1, min_samples_split=2,\n",
       "            min_weight_fraction_leaf=0.1, n_estimators=5, n_jobs=1,\n",
       "            oob_score=False, random_state=None, verbose=0,\n",
       "            warm_start=False)"
      ]
     },
     "execution_count": 104,
     "metadata": {},
     "output_type": "execute_result"
    }
   ],
   "source": [
    "model4_RF.fit(train[allImp], train['hotel_cluster'])"
   ]
  },
  {
   "cell_type": "code",
   "execution_count": 105,
   "metadata": {
    "collapsed": false,
    "scrolled": true
   },
   "outputs": [
    {
     "data": {
      "image/png": "[encoded data removed]",
      "text/plain": [
       "<matplotlib.figure.Figure at 0x7fcc701e5a50>"
      ]
     },
     "metadata": {},
     "output_type": "display_data"
    }
   ],
   "source": [
    "importances = model4_RF.feature_importances_\n",
    "std = np.std([tree.feature_importances_ for tree in model4_RF.estimators_],\n",
    "             axis=0)\n",
    "indices = np.argsort(importances)[::-1]\n",
    "\n",
    "plt.title(\"Feature importances\")\n",
    "plt.barh(range(len(allImp)), importances[indices], yerr=std[indices], align=\"center\", color='cornflowerblue')\n",
    "impFeatures=[]\n",
    "for i in indices:\n",
    "    impFeatures.append(allImp[i])\n",
    "    \n",
    "plt.yticks(range(len(allImp)), impFeatures)\n",
    "plt.ylim([-1, len(allImp)])\n",
    "plt.show()"
   ]
  },
  {
   "cell_type": "markdown",
   "metadata": {},
   "source": [
    "Next, we introduce features created by book and clicks score:"
   ]
  },
  {
   "cell_type": "code",
   "execution_count": 106,
   "metadata": {
    "collapsed": false,
    "scrolled": false
   },
   "outputs": [
    {
     "data": {
      "text/plain": [
       "array(['Unnamed: 0', 'user_location_country', 'hotel_cluster',\n",
       "       'user_location_region', 'user_location_city', 'hotel_country',\n",
       "       'hotel_market', 'srch_destination_id', 'date_time', 'site_name',\n",
       "       'posa_continent', 'orig_destination_distance', 'user_id',\n",
       "       'is_mobile', 'is_package', 'channel', 'srch_ci', 'srch_co',\n",
       "       'srch_adults_cnt', 'srch_children_cnt', 'srch_rm_cnt',\n",
       "       'srch_destination_type_id', 'is_booking', 'cnt', 'hotel_continent',\n",
       "       'year', 'month', 'day', 'hour', 'part_of_day', 'type_of_day',\n",
       "       'season', 'is_alone', 'dest_feature_pc1', 'dest_feature_pc2',\n",
       "       'dest_feature_pc3', 'clickRate', 'bookRate', 'clickMRate',\n",
       "       'bookMRate', 'clickHCRate', 'bookHCRate', 'clickURate', 'bookURate',\n",
       "       'clickUCRRate', 'bookUCRRate', 'clickUCRate', 'bookUCRate',\n",
       "       'popScoreHmc_Count', 'popScoreU_Count', 'popScoreSite_Count',\n",
       "       'popScoreDest_Count', 'popScoreCityDest_Count',\n",
       "       'popScoreCityH_Count', 'duration_of_stay'], dtype=object)"
      ]
     },
     "execution_count": 106,
     "metadata": {},
     "output_type": "execute_result"
    }
   ],
   "source": [
    "train.columns.values"
   ]
  },
  {
   "cell_type": "code",
   "execution_count": 119,
   "metadata": {
    "collapsed": true
   },
   "outputs": [],
   "source": [
    "from sklearn.preprocessing import LabelEncoder\n",
    "var_mod = ['user_location_country',  'user_location_region', 'user_location_city']\n",
    "le = LabelEncoder()\n",
    "for i in var_mod:\n",
    "    train[i] = le.fit_transform(train[i])"
   ]
  },
  {
   "cell_type": "code",
   "execution_count": 128,
   "metadata": {
    "collapsed": false
   },
   "outputs": [],
   "source": [
    "impfeatureSet3=['clickRate', 'bookRate','bookHCRate', 'bookURate',\n",
    "                'user_location_country',  'user_location_region', 'user_location_city' ]"
   ]
  },
  {
   "cell_type": "code",
   "execution_count": 109,
   "metadata": {
    "collapsed": false
   },
   "outputs": [
    {
     "data": {
      "text/html": [
       "<div>\n",
       "<table border=\"1\" class=\"dataframe\">\n",
       "  <thead>\n",
       "    <tr style=\"text-align: right;\">\n",
       "      <th></th>\n",
       "      <th>clickRate</th>\n",
       "      <th>bookRate</th>\n",
       "      <th>clickMRate</th>\n",
       "      <th>bookMRate</th>\n",
       "      <th>clickHCRate</th>\n",
       "      <th>bookHCRate</th>\n",
       "      <th>clickURate</th>\n",
       "      <th>bookURate</th>\n",
       "      <th>clickUCRRate</th>\n",
       "      <th>bookUCRRate</th>\n",
       "      <th>clickUCRate</th>\n",
       "      <th>bookUCRate</th>\n",
       "    </tr>\n",
       "  </thead>\n",
       "  <tbody>\n",
       "    <tr>\n",
       "      <th>0</th>\n",
       "      <td>614716</td>\n",
       "      <td>614560</td>\n",
       "      <td>619101</td>\n",
       "      <td>619068</td>\n",
       "      <td>619169</td>\n",
       "      <td>619153</td>\n",
       "      <td>609369</td>\n",
       "      <td>610583</td>\n",
       "      <td>618753</td>\n",
       "      <td>618942</td>\n",
       "      <td>619130</td>\n",
       "      <td>619152</td>\n",
       "    </tr>\n",
       "  </tbody>\n",
       "</table>\n",
       "</div>"
      ],
      "text/plain": [
       "   clickRate  bookRate  clickMRate  bookMRate  clickHCRate  bookHCRate  \\\n",
       "0     614716    614560      619101     619068       619169      619153   \n",
       "\n",
       "   clickURate  bookURate  clickUCRRate  bookUCRRate  clickUCRate  bookUCRate  \n",
       "0      609369     610583        618753       618942       619130      619152  "
      ]
     },
     "execution_count": 109,
     "metadata": {},
     "output_type": "execute_result"
    }
   ],
   "source": [
    "missing.transpose().iloc[0:3, 36:48]"
   ]
  },
  {
   "cell_type": "code",
   "execution_count": 111,
   "metadata": {
    "collapsed": false,
    "scrolled": true
   },
   "outputs": [
    {
     "data": {
      "text/html": [
       "<div>\n",
       "<table border=\"1\" class=\"dataframe\">\n",
       "  <thead>\n",
       "    <tr style=\"text-align: right;\">\n",
       "      <th></th>\n",
       "      <th>clickRate</th>\n",
       "      <th>bookRate</th>\n",
       "      <th>clickMRate</th>\n",
       "      <th>bookMRate</th>\n",
       "      <th>clickHCRate</th>\n",
       "      <th>bookHCRate</th>\n",
       "      <th>clickURate</th>\n",
       "      <th>bookURate</th>\n",
       "      <th>clickUCRRate</th>\n",
       "      <th>bookUCRRate</th>\n",
       "      <th>clickUCRate</th>\n",
       "      <th>bookUCRate</th>\n",
       "    </tr>\n",
       "  </thead>\n",
       "  <tbody>\n",
       "    <tr>\n",
       "      <th>0</th>\n",
       "      <td>619172</td>\n",
       "      <td>619172</td>\n",
       "      <td>619172</td>\n",
       "      <td>619172</td>\n",
       "      <td>619172</td>\n",
       "      <td>619172</td>\n",
       "      <td>619172</td>\n",
       "      <td>619172</td>\n",
       "      <td>619172</td>\n",
       "      <td>619172</td>\n",
       "      <td>619172</td>\n",
       "      <td>619172</td>\n",
       "    </tr>\n",
       "  </tbody>\n",
       "</table>\n",
       "</div>"
      ],
      "text/plain": [
       "   clickRate  bookRate  clickMRate  bookMRate  clickHCRate  bookHCRate  \\\n",
       "0     619172    619172      619172     619172       619172      619172   \n",
       "\n",
       "   clickURate  bookURate  clickUCRRate  bookUCRRate  clickUCRate  bookUCRate  \n",
       "0      619172     619172        619172       619172       619172      619172  "
      ]
     },
     "execution_count": 111,
     "metadata": {},
     "output_type": "execute_result"
    }
   ],
   "source": [
    "##We replace missing with 0\n",
    "for col in impfeatureSet3:\n",
    "    train[col].fillna(0, inplace=True)\n",
    "    test[col].fillna(0, inplace=True)\n",
    "missing_count = train.count(axis=0)\n",
    "missing = pd.DataFrame(missing_count)\n",
    "missing.transpose().iloc[0:3, 36:48]"
   ]
  },
  {
   "cell_type": "code",
   "execution_count": 129,
   "metadata": {
    "collapsed": false
   },
   "outputs": [
    {
     "data": {
      "text/plain": [
       "array([ 0.11391966,  0.13495511,  0.11445968,  0.11307269,  0.116729  ])"
      ]
     },
     "execution_count": 129,
     "metadata": {},
     "output_type": "execute_result"
    }
   ],
   "source": [
    "model5_RF = RandomForestClassifier(n_estimators=5, min_weight_fraction_leaf=0.1)\n",
    "\n",
    "cvScoreRF5 = cross_validation.cross_val_score(model5_RF, train[impfeatureSet3], train['hotel_cluster'], cv=5)\n",
    "cvScoreRF5"
   ]
  },
  {
   "cell_type": "code",
   "execution_count": 130,
   "metadata": {
    "collapsed": false
   },
   "outputs": [
    {
     "name": "stdout",
     "output_type": "stream",
     "text": [
      "('accuracy score for test data(in %) is:', 2.0920339542743926)\n"
     ]
    }
   ],
   "source": [
    "model5_RF.fit(train[impfeatureSet3], train['hotel_cluster'])\n",
    "test_score = model5_RF.score(test[impfeatureSet3], test['hotel_cluster'])\n",
    "print(\"accuracy score for test data(in %) is:\",test_score*100)"
   ]
  },
  {
   "cell_type": "markdown",
   "metadata": {},
   "source": [
    "###  Model 6: Iteration 6"
   ]
  },
  {
   "cell_type": "code",
   "execution_count": 131,
   "metadata": {
    "collapsed": true
   },
   "outputs": [],
   "source": [
    "popularityVar = ['popScoreHmc_Count', 'popScoreU_Count', 'popScoreSite_Count',\n",
    "       'popScoreDest_Count', 'popScoreCityDest_Count',\n",
    "       'popScoreCityH_Count'] "
   ]
  },
  {
   "cell_type": "code",
   "execution_count": 135,
   "metadata": {
    "collapsed": false
   },
   "outputs": [
    {
     "data": {
      "text/html": [
       "<div>\n",
       "<table border=\"1\" class=\"dataframe\">\n",
       "  <thead>\n",
       "    <tr style=\"text-align: right;\">\n",
       "      <th></th>\n",
       "      <th>popScoreHmc_Count</th>\n",
       "      <th>popScoreU_Count</th>\n",
       "      <th>popScoreSite_Count</th>\n",
       "      <th>popScoreDest_Count</th>\n",
       "      <th>popScoreCityDest_Count</th>\n",
       "      <th>popScoreCityH_Count</th>\n",
       "      <th>duration_of_stay</th>\n",
       "    </tr>\n",
       "  </thead>\n",
       "  <tbody>\n",
       "    <tr>\n",
       "      <th>0</th>\n",
       "      <td>619172</td>\n",
       "      <td>619172</td>\n",
       "      <td>619172</td>\n",
       "      <td>619172</td>\n",
       "      <td>619172</td>\n",
       "      <td>619172</td>\n",
       "      <td>619172</td>\n",
       "    </tr>\n",
       "  </tbody>\n",
       "</table>\n",
       "</div>"
      ],
      "text/plain": [
       "   popScoreHmc_Count  popScoreU_Count  popScoreSite_Count  popScoreDest_Count  \\\n",
       "0             619172           619172              619172              619172   \n",
       "\n",
       "   popScoreCityDest_Count  popScoreCityH_Count  duration_of_stay  \n",
       "0                  619172               619172            619172  "
      ]
     },
     "execution_count": 135,
     "metadata": {},
     "output_type": "execute_result"
    }
   ],
   "source": [
    "##We replace missing with 0\n",
    "for col in popularityVar:\n",
    "    train[col].fillna(0.0, inplace=True)\n",
    "    test[col].fillna(0.0, inplace=True)\n",
    "missing_count = train.count(axis=0)\n",
    "missing = pd.DataFrame(missing_count)\n",
    "missing.transpose().iloc[0:3, 48:]"
   ]
  },
  {
   "cell_type": "code",
   "execution_count": 132,
   "metadata": {
    "collapsed": false
   },
   "outputs": [
    {
     "data": {
      "text/plain": [
       "array([ 0.06753964,  0.06586681,  0.06789735,  0.06874329,  0.06559443])"
      ]
     },
     "execution_count": 132,
     "metadata": {},
     "output_type": "execute_result"
    }
   ],
   "source": [
    "\n",
    "model6_RF = RandomForestClassifier(n_estimators=5, min_weight_fraction_leaf=0.1)\n",
    "\n",
    "cvScoreRF6 = cross_validation.cross_val_score(model6_RF, train[popularityVar], train['hotel_cluster'], cv=5)\n",
    "cvScoreRF6"
   ]
  },
  {
   "cell_type": "code",
   "execution_count": 136,
   "metadata": {
    "collapsed": false
   },
   "outputs": [
    {
     "data": {
      "text/plain": [
       "RandomForestClassifier(bootstrap=True, class_weight=None, criterion='gini',\n",
       "            max_depth=None, max_features='auto', max_leaf_nodes=None,\n",
       "            min_samples_leaf=1, min_samples_split=2,\n",
       "            min_weight_fraction_leaf=0.1, n_estimators=5, n_jobs=1,\n",
       "            oob_score=False, random_state=None, verbose=0,\n",
       "            warm_start=False)"
      ]
     },
     "execution_count": 136,
     "metadata": {},
     "output_type": "execute_result"
    }
   ],
   "source": [
    "model6_RF.fit(train[popularityVar], train['hotel_cluster'])"
   ]
  },
  {
   "cell_type": "code",
   "execution_count": 137,
   "metadata": {
    "collapsed": false
   },
   "outputs": [
    {
     "name": "stdout",
     "output_type": "stream",
     "text": [
      "('accuracy score for test data(in %) is:', 7.7135253782949054)\n"
     ]
    }
   ],
   "source": [
    "model6_RF.fit(train[popularityVar], train['hotel_cluster'])\n",
    "test_score = model6_RF.score(test[popularityVar], test['hotel_cluster'])\n",
    "print(\"accuracy score for test data(in %) is:\",test_score*100)"
   ]
  },
  {
   "cell_type": "code",
   "execution_count": 138,
   "metadata": {
    "collapsed": true
   },
   "outputs": [],
   "source": [
    "final_set = ['popScoreHmc_Count', 'popScoreU_Count', 'popScoreSite_Count',\n",
    "       'popScoreDest_Count', 'popScoreCityDest_Count',\n",
    "       'popScoreCityH_Count'] + allImp"
   ]
  },
  {
   "cell_type": "markdown",
   "metadata": {},
   "source": [
    "#### Model 7 :"
   ]
  },
  {
   "cell_type": "code",
   "execution_count": 139,
   "metadata": {
    "collapsed": false
   },
   "outputs": [
    {
     "data": {
      "text/plain": [
       "array([ 0.07618594,  0.08241829,  0.08059984,  0.08307019,  0.08054705])"
      ]
     },
     "execution_count": 139,
     "metadata": {},
     "output_type": "execute_result"
    }
   ],
   "source": [
    "model7_RF = RandomForestClassifier(n_estimators=5, min_weight_fraction_leaf=0.1)\n",
    "\n",
    "cvScoreRF7 = cross_validation.cross_val_score(model7_RF, train[final_set], train['hotel_cluster'], cv=5)\n",
    "cvScoreRF7"
   ]
  },
  {
   "cell_type": "code",
   "execution_count": 140,
   "metadata": {
    "collapsed": false,
    "scrolled": true
   },
   "outputs": [
    {
     "data": {
      "image/png": "[encoded data removed]",
      "text/plain": [
       "<matplotlib.figure.Figure at 0x7fcc6738b290>"
      ]
     },
     "metadata": {},
     "output_type": "display_data"
    }
   ],
   "source": [
    "'Cross Validation Score Plot for the Models'\n",
    "#Plot Cross Validation Score\n",
    "import matplotlib.pyplot as plt\n",
    "plt.xlim(*(0,7))\n",
    "ylim=(0, 10)\n",
    "plt.ylim(*ylim)\n",
    "crossValScores = [cvScoreRF1, cvScoreRF2, cvScoreRF3, cvScoreRF4, cvScoreRF5, cvScoreRF6, cvScoreRF7]\n",
    "labels = ['RF1', 'RF2', 'RF3', 'RF4', 'RF5', 'RF6', 'RF7']\n",
    "crossValInPercent = [x * 100 for x in crossValScores]\n",
    "for value, label in zip(crossValInPercent, labels):\n",
    "    plt.plot([1, 2, 3, 4, 5],value, '.-', label=label)\n",
    "plt.grid()\n",
    "plt.ylabel('Cross-Validation Score in %')\n",
    "plt.xlabel('5-Fold cross Validation')\n",
    "plt.legend(loc = 4)\n",
    "plt.show()"
   ]
  },
  {
   "cell_type": "code",
   "execution_count": 142,
   "metadata": {
    "collapsed": false
   },
   "outputs": [
    {
     "name": "stdout",
     "output_type": "stream",
     "text": [
      "('cross validation score for RF -7  is (in %)', array([ 7.61859399,  8.24182922,  8.05998353,  8.30701889,  8.05470511]))\n"
     ]
    }
   ],
   "source": [
    "\"Last model is somewhat better. \"\n",
    "print(\"cross validation score for RF -7  is (in %)\", cvScoreRF7*100)"
   ]
  },
  {
   "cell_type": "markdown",
   "metadata": {},
   "source": [
    "### Binary Random Forest"
   ]
  },
  {
   "cell_type": "markdown",
   "metadata": {},
   "source": [
    "After trying everything we could not improve the performance of random forest classifier. Next step, we will try to fit binary \n",
    "classifier instead of the multi-class and try to combine the output"
   ]
  },
  {
   "cell_type": "code",
   "execution_count": 143,
   "metadata": {
    "collapsed": false
   },
   "outputs": [],
   "source": [
    "unique_clusters = train['hotel_cluster'].unique()\n",
    "len(unique_clusters)\n",
    "prob_booking = []"
   ]
  },
  {
   "cell_type": "code",
   "execution_count": 144,
   "metadata": {
    "collapsed": true
   },
   "outputs": [],
   "source": [
    "train_c = train"
   ]
  },
  {
   "cell_type": "code",
   "execution_count": 145,
   "metadata": {
    "collapsed": false
   },
   "outputs": [
    {
     "name": "stderr",
     "output_type": "stream",
     "text": [
      "/home/ec2-user/anaconda2/lib/python2.7/site-packages/ipykernel/__main__.py:9: SettingWithCopyWarning: \n",
      "A value is trying to be set on a copy of a slice from a DataFrame\n",
      "\n",
      "See the caveats in the documentation: http://pandas.pydata.org/pandas-docs/stable/indexing.html#indexing-view-versus-copy\n"
     ]
    }
   ],
   "source": [
    "from sklearn.ensemble import RandomForestClassifier\n",
    "from sklearn.cross_validation import KFold\n",
    "from itertools import chain\n",
    "\n",
    "\"Fit 100 Binary classifier with target as hotel_cluster_specific Vs NONE  i.e. 1 or 0\"\n",
    "for cluster in unique_clusters:\n",
    "    train_c.is_copy = False\n",
    "    train_c[\"target\"] = 1\n",
    "    train_c[\"target\"][train_c[\"hotel_cluster\"] != cluster] = 0\n",
    "    probs = []\n",
    "    cv = KFold(len(train_c[\"target\"]), n_folds=3)\n",
    "    binaryRF = RandomForestClassifier(n_estimators=10, min_weight_fraction_leaf=0.1)\n",
    "    for i, (tr, te) in enumerate(cv):\n",
    "        binaryRF.fit(train_c[final_set].iloc[tr], train_c[\"target\"].iloc[tr])\n",
    "        preds = binaryRF.predict_proba(train_c[final_set].iloc[te])\n",
    "        probs.append([p[1] for p in preds])             \n",
    "    full_probs = chain.from_iterable(probs)\n",
    "    prob_booking.append(list(full_probs))"
   ]
  },
  {
   "cell_type": "code",
   "execution_count": 146,
   "metadata": {
    "collapsed": true
   },
   "outputs": [],
   "source": [
    "prediction_frame = pd.DataFrame(prob_booking).T"
   ]
  },
  {
   "cell_type": "code",
   "execution_count": 147,
   "metadata": {
    "collapsed": false
   },
   "outputs": [
    {
     "data": {
      "text/html": [
       "<div>\n",
       "<table border=\"1\" class=\"dataframe\">\n",
       "  <thead>\n",
       "    <tr style=\"text-align: right;\">\n",
       "      <th></th>\n",
       "      <th>0</th>\n",
       "      <th>1</th>\n",
       "      <th>2</th>\n",
       "      <th>3</th>\n",
       "      <th>4</th>\n",
       "      <th>5</th>\n",
       "      <th>6</th>\n",
       "      <th>7</th>\n",
       "      <th>8</th>\n",
       "      <th>9</th>\n",
       "      <th>...</th>\n",
       "      <th>90</th>\n",
       "      <th>91</th>\n",
       "      <th>92</th>\n",
       "      <th>93</th>\n",
       "      <th>94</th>\n",
       "      <th>95</th>\n",
       "      <th>96</th>\n",
       "      <th>97</th>\n",
       "      <th>98</th>\n",
       "      <th>99</th>\n",
       "    </tr>\n",
       "  </thead>\n",
       "  <tbody>\n",
       "    <tr>\n",
       "      <th>0</th>\n",
       "      <td>0.003360</td>\n",
       "      <td>0.000002</td>\n",
       "      <td>0.013897</td>\n",
       "      <td>0.004964</td>\n",
       "      <td>0.001322</td>\n",
       "      <td>0.013505</td>\n",
       "      <td>0.002491</td>\n",
       "      <td>0.009748</td>\n",
       "      <td>0.011244</td>\n",
       "      <td>0.007897</td>\n",
       "      <td>...</td>\n",
       "      <td>0.005265</td>\n",
       "      <td>0.007079</td>\n",
       "      <td>0.007709</td>\n",
       "      <td>0.013304</td>\n",
       "      <td>0.004703</td>\n",
       "      <td>0.008409</td>\n",
       "      <td>0.012018</td>\n",
       "      <td>0.000093</td>\n",
       "      <td>0.004229</td>\n",
       "      <td>0.013725</td>\n",
       "    </tr>\n",
       "    <tr>\n",
       "      <th>1</th>\n",
       "      <td>0.008708</td>\n",
       "      <td>0.008594</td>\n",
       "      <td>0.006599</td>\n",
       "      <td>0.003688</td>\n",
       "      <td>0.000846</td>\n",
       "      <td>0.010517</td>\n",
       "      <td>0.002403</td>\n",
       "      <td>0.004909</td>\n",
       "      <td>0.008244</td>\n",
       "      <td>0.006311</td>\n",
       "      <td>...</td>\n",
       "      <td>0.007128</td>\n",
       "      <td>0.007085</td>\n",
       "      <td>0.014762</td>\n",
       "      <td>0.017053</td>\n",
       "      <td>0.016459</td>\n",
       "      <td>0.026570</td>\n",
       "      <td>0.009346</td>\n",
       "      <td>0.023139</td>\n",
       "      <td>0.016359</td>\n",
       "      <td>0.015837</td>\n",
       "    </tr>\n",
       "    <tr>\n",
       "      <th>2</th>\n",
       "      <td>0.007832</td>\n",
       "      <td>0.045401</td>\n",
       "      <td>0.004749</td>\n",
       "      <td>0.002975</td>\n",
       "      <td>0.000858</td>\n",
       "      <td>0.011119</td>\n",
       "      <td>0.002421</td>\n",
       "      <td>0.004265</td>\n",
       "      <td>0.005073</td>\n",
       "      <td>0.005286</td>\n",
       "      <td>...</td>\n",
       "      <td>0.004020</td>\n",
       "      <td>0.004382</td>\n",
       "      <td>0.015320</td>\n",
       "      <td>0.016480</td>\n",
       "      <td>0.011096</td>\n",
       "      <td>0.016770</td>\n",
       "      <td>0.005567</td>\n",
       "      <td>0.073473</td>\n",
       "      <td>0.024310</td>\n",
       "      <td>0.013680</td>\n",
       "    </tr>\n",
       "    <tr>\n",
       "      <th>3</th>\n",
       "      <td>0.005797</td>\n",
       "      <td>0.045401</td>\n",
       "      <td>0.002844</td>\n",
       "      <td>0.002538</td>\n",
       "      <td>0.000633</td>\n",
       "      <td>0.003134</td>\n",
       "      <td>0.000800</td>\n",
       "      <td>0.000681</td>\n",
       "      <td>0.003244</td>\n",
       "      <td>0.004145</td>\n",
       "      <td>...</td>\n",
       "      <td>0.004020</td>\n",
       "      <td>0.002306</td>\n",
       "      <td>0.012764</td>\n",
       "      <td>0.027152</td>\n",
       "      <td>0.011888</td>\n",
       "      <td>0.030783</td>\n",
       "      <td>0.004544</td>\n",
       "      <td>0.079395</td>\n",
       "      <td>0.026443</td>\n",
       "      <td>0.015477</td>\n",
       "    </tr>\n",
       "    <tr>\n",
       "      <th>4</th>\n",
       "      <td>0.005805</td>\n",
       "      <td>0.045401</td>\n",
       "      <td>0.003235</td>\n",
       "      <td>0.002498</td>\n",
       "      <td>0.000633</td>\n",
       "      <td>0.005986</td>\n",
       "      <td>0.000767</td>\n",
       "      <td>0.000978</td>\n",
       "      <td>0.004248</td>\n",
       "      <td>0.004145</td>\n",
       "      <td>...</td>\n",
       "      <td>0.004403</td>\n",
       "      <td>0.002306</td>\n",
       "      <td>0.009521</td>\n",
       "      <td>0.018866</td>\n",
       "      <td>0.011888</td>\n",
       "      <td>0.030783</td>\n",
       "      <td>0.004639</td>\n",
       "      <td>0.079395</td>\n",
       "      <td>0.026443</td>\n",
       "      <td>0.022258</td>\n",
       "    </tr>\n",
       "  </tbody>\n",
       "</table>\n",
       "<p>5 rows × 100 columns</p>\n",
       "</div>"
      ],
      "text/plain": [
       "         0         1         2         3         4         5         6   \\\n",
       "0  0.003360  0.000002  0.013897  0.004964  0.001322  0.013505  0.002491   \n",
       "1  0.008708  0.008594  0.006599  0.003688  0.000846  0.010517  0.002403   \n",
       "2  0.007832  0.045401  0.004749  0.002975  0.000858  0.011119  0.002421   \n",
       "3  0.005797  0.045401  0.002844  0.002538  0.000633  0.003134  0.000800   \n",
       "4  0.005805  0.045401  0.003235  0.002498  0.000633  0.005986  0.000767   \n",
       "\n",
       "         7         8         9     ...           90        91        92  \\\n",
       "0  0.009748  0.011244  0.007897    ...     0.005265  0.007079  0.007709   \n",
       "1  0.004909  0.008244  0.006311    ...     0.007128  0.007085  0.014762   \n",
       "2  0.004265  0.005073  0.005286    ...     0.004020  0.004382  0.015320   \n",
       "3  0.000681  0.003244  0.004145    ...     0.004020  0.002306  0.012764   \n",
       "4  0.000978  0.004248  0.004145    ...     0.004403  0.002306  0.009521   \n",
       "\n",
       "         93        94        95        96        97        98        99  \n",
       "0  0.013304  0.004703  0.008409  0.012018  0.000093  0.004229  0.013725  \n",
       "1  0.017053  0.016459  0.026570  0.009346  0.023139  0.016359  0.015837  \n",
       "2  0.016480  0.011096  0.016770  0.005567  0.073473  0.024310  0.013680  \n",
       "3  0.027152  0.011888  0.030783  0.004544  0.079395  0.026443  0.015477  \n",
       "4  0.018866  0.011888  0.030783  0.004639  0.079395  0.026443  0.022258  \n",
       "\n",
       "[5 rows x 100 columns]"
      ]
     },
     "execution_count": 147,
     "metadata": {},
     "output_type": "execute_result"
    }
   ],
   "source": [
    "prediction_frame.head()"
   ]
  },
  {
   "cell_type": "code",
   "execution_count": 155,
   "metadata": {
    "collapsed": false
   },
   "outputs": [
    {
     "data": {
      "text/plain": [
       "273"
      ]
     },
     "execution_count": 155,
     "metadata": {},
     "output_type": "execute_result"
    }
   ],
   "source": [
    "del prediction_frame\n",
    "import gc\n",
    "gc.collect()"
   ]
  },
  {
   "cell_type": "code",
   "execution_count": 148,
   "metadata": {
    "collapsed": true
   },
   "outputs": [],
   "source": [
    "def find_top_5(row):\n",
    "    return list(row.nlargest(5).index)\n",
    "preds = []\n",
    "for index, row in prediction_frame.iterrows():\n",
    "    preds.append(find_top_5(row))"
   ]
  },
  {
   "cell_type": "code",
   "execution_count": 150,
   "metadata": {
    "collapsed": false
   },
   "outputs": [
    {
     "data": {
      "text/plain": [
       "0.017849725116768841"
      ]
     },
     "execution_count": 150,
     "metadata": {},
     "output_type": "execute_result"
    }
   ],
   "source": [
    "import ml_metrics as metrics\n",
    "metrics.mapk([[l] for l in train_c[\"hotel_cluster\"]], preds, k=5)"
   ]
  },
  {
   "cell_type": "markdown",
   "metadata": {},
   "source": [
    "Result of binary classifiers is even worst. So we do not try to improve this model. \n"
   ]
  },
  {
   "cell_type": "markdown",
   "metadata": {},
   "source": [
    "Next, step for random forest classifier is tune some parameters. We will try to increase number of trees for model 6 and hope\n",
    "for the improvement. Before this, lets check model perform on the test data.\n"
   ]
  },
  {
   "cell_type": "code",
   "execution_count": 175,
   "metadata": {
    "collapsed": false,
    "scrolled": true
   },
   "outputs": [
    {
     "data": {
      "text/plain": [
       "array(['Unnamed: 0', 'srch_destination_id', 'date_time', 'site_name',\n",
       "       'posa_continent', 'user_location_country', 'user_location_region',\n",
       "       'user_location_city', 'orig_destination_distance', 'user_id',\n",
       "       'is_mobile', 'is_package', 'channel', 'srch_ci', 'srch_co',\n",
       "       'srch_adults_cnt', 'srch_children_cnt', 'srch_rm_cnt',\n",
       "       'srch_destination_type_id', 'is_booking', 'cnt', 'hotel_continent',\n",
       "       'hotel_country', 'hotel_market', 'hotel_cluster', 'year', 'month',\n",
       "       'day', 'hour', 'season', 'duration_of_stay', 'is_alone',\n",
       "       'dest_feature_pc1', 'dest_feature_pc2', 'dest_feature_pc3',\n",
       "       'part_of_day_-1', 'part_of_day_evening', 'part_of_day_morning',\n",
       "       'part_of_day_night', 'part_of_day_noon', 'type_of_day_0',\n",
       "       'type_of_day_1'], dtype=object)"
      ]
     },
     "execution_count": 175,
     "metadata": {},
     "output_type": "execute_result"
    }
   ],
   "source": [
    "test.columns.values"
   ]
  },
  {
   "cell_type": "code",
   "execution_count": 177,
   "metadata": {
    "collapsed": false
   },
   "outputs": [
    {
     "data": {
      "text/plain": [
       "array(['Unnamed: 0', 'srch_destination_id', 'date_time', 'site_name',\n",
       "       'posa_continent', 'user_location_country', 'user_location_region',\n",
       "       'user_location_city', 'orig_destination_distance', 'user_id',\n",
       "       'is_mobile', 'is_package', 'channel', 'srch_ci', 'srch_co',\n",
       "       'srch_adults_cnt', 'srch_children_cnt', 'srch_rm_cnt',\n",
       "       'srch_destination_type_id', 'is_booking', 'cnt', 'hotel_continent',\n",
       "       'hotel_country', 'hotel_market', 'hotel_cluster', 'year', 'month',\n",
       "       'day', 'hour', 'season', 'duration_of_stay', 'is_alone',\n",
       "       'dest_feature_pc1', 'dest_feature_pc2', 'dest_feature_pc3',\n",
       "       'part_of_day_-1', 'part_of_day_evening', 'part_of_day_morning',\n",
       "       'part_of_day_night', 'part_of_day_noon', 'type_of_day_weekday',\n",
       "       'type_of_day_weekend'], dtype=object)"
      ]
     },
     "execution_count": 177,
     "metadata": {},
     "output_type": "execute_result"
    }
   ],
   "source": [
    "test = test.rename(index=str,columns={\"type_of_day_0\": \"type_of_day_weekday\", \"type_of_day_1\": \"type_of_day_weekend\"})\n",
    "test.columns.values"
   ]
  },
  {
   "cell_type": "markdown",
   "metadata": {},
   "source": [
    "### Candidate Model"
   ]
  },
  {
   "cell_type": "code",
   "execution_count": 152,
   "metadata": {
    "collapsed": false
   },
   "outputs": [
    {
     "data": {
      "text/plain": [
       "['popScoreHmc_Count',\n",
       " 'popScoreU_Count',\n",
       " 'popScoreSite_Count',\n",
       " 'popScoreDest_Count',\n",
       " 'popScoreCityDest_Count',\n",
       " 'popScoreCityH_Count',\n",
       " 'season',\n",
       " 'duration_of_stay',\n",
       " 'is_alone',\n",
       " 'dest_feature_pc1',\n",
       " 'dest_feature_pc2',\n",
       " 'dest_feature_pc3',\n",
       " 'hotel_market',\n",
       " 'hotel_continent',\n",
       " 'hotel_market']"
      ]
     },
     "execution_count": 152,
     "metadata": {},
     "output_type": "execute_result"
    }
   ],
   "source": [
    "final_set"
   ]
  },
  {
   "cell_type": "code",
   "execution_count": 154,
   "metadata": {
    "collapsed": false
   },
   "outputs": [
    {
     "name": "stdout",
     "output_type": "stream",
     "text": [
      "('accuracy score for test data(in %) is:', 8.1330976476758412)\n"
     ]
    }
   ],
   "source": [
    "model7_RF = RandomForestClassifier(n_estimators=5, min_weight_fraction_leaf=0.1)\n",
    "model7_RF.fit(train[final_set], train['hotel_cluster'])\n",
    "test_score = model7_RF.score(test[final_set], test['hotel_cluster'])\n",
    "print(\"accuracy score for test data(in %) is:\",test_score*100)"
   ]
  },
  {
   "cell_type": "code",
   "execution_count": 157,
   "metadata": {
    "collapsed": false
   },
   "outputs": [],
   "source": [
    "from sklearn.preprocessing import LabelEncoder\n",
    "var_mod = ['user_location_country',  'user_location_region', 'user_location_city', 'month','srch_destination_type_id']\n",
    "le = LabelEncoder()\n",
    "for i in var_mod:\n",
    "    train[i] = le.fit_transform(train[i])"
   ]
  },
  {
   "cell_type": "markdown",
   "metadata": {},
   "source": [
    "##### No Improvement  with below combination"
   ]
  },
  {
   "cell_type": "code",
   "execution_count": 159,
   "metadata": {
    "collapsed": false
   },
   "outputs": [
    {
     "name": "stdout",
     "output_type": "stream",
     "text": [
      "('accuracy score for test data(in %) is:', 4.1821254443386877)\n"
     ]
    },
    {
     "data": {
      "text/plain": [
       "array([ 0.03195337,  0.03353895,  0.03323804,  0.03475929,  0.03167435])"
      ]
     },
     "execution_count": 159,
     "metadata": {},
     "output_type": "execute_result"
    }
   ],
   "source": [
    "final_set2 = ['user_location_country',  'user_location_region', 'user_location_city','month','srch_destination_type_id']\n",
    "model8_RF = RandomForestClassifier(n_estimators=5, min_weight_fraction_leaf=0.1)\n",
    "model8_RF.fit(train[final_set2], train['hotel_cluster'])\n",
    "test_score = model8_RF.score(test[final_set2], test['hotel_cluster'])\n",
    "print(\"accuracy score for test data(in %) is:\",test_score*100)\n",
    "cvScoreRF8 = cross_validation.cross_val_score(model8_RF, train[final_set2], train['hotel_cluster'], cv=5)\n",
    "cvScoreRF8"
   ]
  },
  {
   "cell_type": "code",
   "execution_count": 160,
   "metadata": {
    "collapsed": false
   },
   "outputs": [
    {
     "data": {
      "text/plain": [
       "(51481, 55)"
      ]
     },
     "execution_count": 160,
     "metadata": {},
     "output_type": "execute_result"
    }
   ],
   "source": [
    "test.shape"
   ]
  },
  {
   "cell_type": "markdown",
   "metadata": {},
   "source": [
    "### Try to tune Tree sizes for Candidate Model"
   ]
  },
  {
   "cell_type": "code",
   "execution_count": 161,
   "metadata": {
    "collapsed": false
   },
   "outputs": [],
   "source": [
    "cv_scores_trees ={}\n",
    "test_scores_tress={}\n",
    "train_score_trees = {}\n",
    "for tree_size in [5, 10, 30, 50, 100, 150]:\n",
    "        modelN_RF = RandomForestClassifier(n_estimators=tree_size, min_weight_fraction_leaf=0.1)\n",
    "        cvScoreRF = cross_validation.cross_val_score(modelN_RF, train[final_set], train['hotel_cluster'], cv=5)\n",
    "        cv_scores_trees[tree_size]=cvScoreRF\n",
    "        modelN_RF.fit(train[final_set], train['hotel_cluster'])\n",
    "        trainSocre = modelN_RF.score(train[final_set], train['hotel_cluster'])\n",
    "        testScore = modelN_RF.score(test[final_set], test['hotel_cluster'])    \n",
    "        train_score_trees[tree_size] = trainSocre\n",
    "        test_scores_tress[tree_size]=testScore"
   ]
  },
  {
   "cell_type": "code",
   "execution_count": 163,
   "metadata": {
    "collapsed": false
   },
   "outputs": [
    {
     "data": {
      "text/plain": [
       "{5: array([ 0.07915684,  0.07994768,  0.07829837,  0.08428967,  0.07922224]),\n",
       " 10: array([ 0.08377466,  0.08070663,  0.08579227,  0.08107541,  0.0809348 ]),\n",
       " 30: array([ 0.08232958,  0.08849793,  0.0834262 ,  0.08341746,  0.08170222]),\n",
       " 50: array([ 0.08239416,  0.08349212,  0.08252176,  0.08466117,  0.08221922]),\n",
       " 100: array([ 0.08634999,  0.08531682,  0.0834585 ,  0.08323979,  0.08135486]),\n",
       " 150: array([ 0.08170795,  0.08442869,  0.08804529,  0.08502459,  0.08221922])}"
      ]
     },
     "execution_count": 163,
     "metadata": {},
     "output_type": "execute_result"
    }
   ],
   "source": [
    "cv_scores_trees"
   ]
  },
  {
   "cell_type": "code",
   "execution_count": 164,
   "metadata": {
    "collapsed": false
   },
   "outputs": [
    {
     "data": {
      "text/plain": [
       "{5: 0.08187486645558556,\n",
       " 10: 0.084244672791903813,\n",
       " 30: 0.082224510013403002,\n",
       " 50: 0.08432237136030768,\n",
       " 100: 0.083759056739379584,\n",
       " 150: 0.083564810318369889}"
      ]
     },
     "execution_count": 164,
     "metadata": {},
     "output_type": "execute_result"
    }
   ],
   "source": [
    "test_scores_tress"
   ]
  },
  {
   "cell_type": "code",
   "execution_count": 165,
   "metadata": {
    "collapsed": false
   },
   "outputs": [
    {
     "data": {
      "text/plain": [
       "{5: 0.081331197147157822,\n",
       " 10: 0.083997661392957043,\n",
       " 30: 0.081476552557286183,\n",
       " 50: 0.08338878373053045,\n",
       " 100: 0.082658776559663555,\n",
       " 150: 0.083165905435000284}"
      ]
     },
     "execution_count": 165,
     "metadata": {},
     "output_type": "execute_result"
    }
   ],
   "source": [
    "train_score_trees "
   ]
  },
  {
   "cell_type": "code",
   "execution_count": 166,
   "metadata": {
    "collapsed": false
   },
   "outputs": [],
   "source": [
    "### Mean Cv score\n",
    "mean_cv = []\n",
    "for key, value in cv_scores_trees.items():\n",
    "    p = np.mean(value)\n",
    "    mean_cv.append(p)"
   ]
  },
  {
   "cell_type": "code",
   "execution_count": 167,
   "metadata": {
    "collapsed": false
   },
   "outputs": [
    {
     "data": {
      "text/plain": [
       "[0.0839439911934865,\n",
       " 0.080182960351605811,\n",
       " 0.082456753624331539,\n",
       " 0.083057687664748817,\n",
       " 0.084285148175362853,\n",
       " 0.083874678404220207]"
      ]
     },
     "execution_count": 167,
     "metadata": {},
     "output_type": "execute_result"
    }
   ],
   "source": [
    "mean_cv "
   ]
  },
  {
   "cell_type": "code",
   "execution_count": 168,
   "metadata": {
    "collapsed": false
   },
   "outputs": [
    {
     "data": {
      "text/plain": [
       "[8.39439911934865,\n",
       " 8.0182960351605814,\n",
       " 8.245675362433154,\n",
       " 8.3057687664748823,\n",
       " 8.4285148175362856,\n",
       " 8.3874678404220209]"
      ]
     },
     "execution_count": 168,
     "metadata": {},
     "output_type": "execute_result"
    }
   ],
   "source": [
    "mean_cvPer = [x * 100 for x in mean_cv] \n",
    "mean_cvPer"
   ]
  },
  {
   "cell_type": "code",
   "execution_count": 169,
   "metadata": {
    "collapsed": false
   },
   "outputs": [
    {
     "data": {
      "text/plain": [
       "[8.27, 8.14, 8.4, 8.34, 8.32, 8.15]"
      ]
     },
     "execution_count": 169,
     "metadata": {},
     "output_type": "execute_result"
    }
   ],
   "source": [
    "# get % train score for each trees\n",
    "import math\n",
    "trainScorePer = []\n",
    "for key, value in train_score_trees.items():\n",
    "    p = math.ceil(value*100*100)/100\n",
    "    trainScorePer.append(p)\n",
    "trainScorePer    "
   ]
  },
  {
   "cell_type": "code",
   "execution_count": 170,
   "metadata": {
    "collapsed": false
   },
   "outputs": [
    {
     "data": {
      "text/plain": [
       "[8.38, 8.19, 8.43, 8.44, 8.36, 8.23]"
      ]
     },
     "execution_count": 170,
     "metadata": {},
     "output_type": "execute_result"
    }
   ],
   "source": [
    "import math\n",
    "testScorePer = []\n",
    "for key, value in test_scores_tress.items():\n",
    "    p = math.ceil(value*100*100)/100\n",
    "    testScorePer.append(p)\n",
    "testScorePer    "
   ]
  },
  {
   "cell_type": "code",
   "execution_count": 174,
   "metadata": {
    "collapsed": false
   },
   "outputs": [
    {
     "data": {
      "image/png": "[encoded data removed]",
      "text/plain": [
       "<matplotlib.figure.Figure at 0x7fcc70177710>"
      ]
     },
     "metadata": {},
     "output_type": "display_data"
    }
   ],
   "source": [
    "#Plot Cross Validation Score\n",
    "import matplotlib.pyplot as plt\n",
    "plt.xlim(*(0,250))\n",
    "ylim=(0, 10)\n",
    "plt.ylim(*ylim)\n",
    "#labels = [\"testscore\", \"trainscore\", \"cvScore\"]\n",
    "plt.plot([5, 10, 30, 50, 100, 150],testScorePer, '.-', label='testscore')\n",
    "plt.plot([5, 10, 30, 50, 100, 150],trainScorePer, '.-', label='trainscore')\n",
    "plt.plot([5, 10, 30, 50, 100, 150],mean_cvPer, '.-', label='cvScore')\n",
    "plt.grid()\n",
    "plt.ylabel('Scores(test, train, cv)')\n",
    "plt.xlabel('number of tress')\n",
    "plt.legend(loc = 4)\n",
    "plt.show()"
   ]
  },
  {
   "cell_type": "code",
   "execution_count": 173,
   "metadata": {
    "collapsed": true
   },
   "outputs": [],
   "source": [
    "## Lest save the data state to fit some other model.\n",
    "train.to_csv(\"~/sampledTrain13.csv\")\n",
    "test.to_csv(\"~/test2014Sampled.csv\")"
   ]
  },
  {
   "cell_type": "code",
   "execution_count": 177,
   "metadata": {
    "collapsed": false
   },
   "outputs": [
    {
     "name": "stdout",
     "output_type": "stream",
     "text": [
      "('accuracy score for test data(in %) is:', 4.197665158019463)\n"
     ]
    },
    {
     "data": {
      "text/plain": [
       "array([ 3.15577873,  3.25054902,  3.31249899,  3.45735445,  2.68759441])"
      ]
     },
     "execution_count": 177,
     "metadata": {},
     "output_type": "execute_result"
    }
   ],
   "source": [
    "final_set2 = ['user_location_country',  'user_location_region', 'user_location_city','month','srch_destination_type_id']\n",
    "model9_RF = RandomForestClassifier(n_estimators=30, min_weight_fraction_leaf=0.1, max_features = 'sqrt')\n",
    "model9_RF.fit(train[final_set2], train['hotel_cluster'])\n",
    "test_score = model9_RF.score(test[final_set2], test['hotel_cluster'])\n",
    "print(\"accuracy score for test data(in %) is:\",test_score*100)\n",
    "cvScoreRF9 = cross_validation.cross_val_score(model9_RF, train[final_set2], train['hotel_cluster'], cv=5)\n",
    "cvScoreRF9*100"
   ]
  },
  {
   "cell_type": "code",
   "execution_count": 193,
   "metadata": {
    "collapsed": false,
    "scrolled": true
   },
   "outputs": [
    {
     "data": {
      "text/plain": [
       "['popScoreHmc_Count',\n",
       " 'popScoreU_Count',\n",
       " 'popScoreSite_Count',\n",
       " 'popScoreDest_Count',\n",
       " 'popScoreCityDest_Count',\n",
       " 'popScoreCityH_Count',\n",
       " 'season',\n",
       " 'duration_of_stay',\n",
       " 'is_alone',\n",
       " 'dest_feature_pc1',\n",
       " 'dest_feature_pc2',\n",
       " 'dest_feature_pc3',\n",
       " 'hotel_market',\n",
       " 'hotel_continent',\n",
       " 'hotel_market']"
      ]
     },
     "execution_count": 193,
     "metadata": {},
     "output_type": "execute_result"
    }
   ],
   "source": [
    "# Important variables\n",
    "final_set"
   ]
  },
  {
   "cell_type": "markdown",
   "metadata": {},
   "source": [
    "### Final Model - RF candidate model 1"
   ]
  },
  {
   "cell_type": "code",
   "execution_count": 179,
   "metadata": {
    "collapsed": false
   },
   "outputs": [
    {
     "name": "stdout",
     "output_type": "stream",
     "text": [
      "('accuracy score for test data(in %) is:', 8.7857656222684106)\n"
     ]
    }
   ],
   "source": [
    "model10_RF = RandomForestClassifier(n_estimators=30, min_weight_fraction_leaf=0.1)\n",
    "model10_RF.fit(train[final_set], train['hotel_cluster'])\n",
    "test_score = model10_RF.score(test[final_set], test['hotel_cluster'])\n",
    "print(\"accuracy score for test data(in %) is:\",test_score*100)"
   ]
  },
  {
   "cell_type": "code",
   "execution_count": 186,
   "metadata": {
    "collapsed": false
   },
   "outputs": [
    {
     "data": {
      "text/plain": [
       "array([ 7.79378048,  8.5284524 ,  7.99538091,  8.34336109,  8.21061305])"
      ]
     },
     "execution_count": 186,
     "metadata": {},
     "output_type": "execute_result"
    }
   ],
   "source": [
    "cvScoreRF10 = cross_validation.cross_val_score(model10_RF, train[final_set], train['hotel_cluster'], cv=5)\n",
    "cvScoreRF10*100"
   ]
  },
  {
   "cell_type": "code",
   "execution_count": 192,
   "metadata": {
    "collapsed": false
   },
   "outputs": [
    {
     "name": "stdout",
     "output_type": "stream",
     "text": [
      "('Average validation score is ', 8.1743175845796632)\n"
     ]
    }
   ],
   "source": [
    "print(\"Average validation score is \", cvScoreRF10.mean()*100)"
   ]
  }
 ],
 "metadata": {
  "anaconda-cloud": {},
  "kernelspec": {
   "display_name": "Python [conda root]",
   "language": "python",
   "name": "conda-root-py"
  },
  "language_info": {
   "codemirror_mode": {
    "name": "ipython",
    "version": 2
   },
   "file_extension": ".py",
   "mimetype": "text/x-python",
   "name": "python",
   "nbconvert_exporter": "python",
   "pygments_lexer": "ipython2",
   "version": "2.7.12"
  }
 },
 "nbformat": 4,
 "nbformat_minor": 1
}
