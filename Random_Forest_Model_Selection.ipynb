{
 "cells": [
  {
   "cell_type": "markdown",
   "metadata": {},
   "source": [
    "# Random Forest Model Selection process"
   ]
  },
  {
   "cell_type": "code",
   "execution_count": 1,
   "metadata": {
    "collapsed": true
   },
   "outputs": [],
   "source": [
    "import pandas as pd\n",
    "import matplotlib.pyplot as plt\n",
    "import numpy as np\n",
    "from sklearn import cross_validation\n",
    "from sklearn.ensemble import RandomForestClassifier"
   ]
  },
  {
   "cell_type": "code",
   "execution_count": 2,
   "metadata": {
    "collapsed": true
   },
   "outputs": [],
   "source": [
    "#### Configure path\n",
    "trainPath = \"~/Final/FinalTrainingSet.csv\"\n",
    "testPath = \"~/Final/FinalTestSet.csv\""
   ]
  },
  {
   "cell_type": "code",
   "execution_count": 3,
   "metadata": {
    "collapsed": false
   },
   "outputs": [],
   "source": [
    "train = pd.read_csv(trainPath)"
   ]
  },
  {
   "cell_type": "code",
   "execution_count": 4,
   "metadata": {
    "collapsed": false
   },
   "outputs": [
    {
     "name": "stdout",
     "output_type": "stream",
     "text": [
      "('We have data for', 80000, 'users')\n"
     ]
    }
   ],
   "source": [
    "unique_users = train.user_id.unique()\n",
    "print(\"We have data for\", len(unique_users), \"users\")"
   ]
  },
  {
   "cell_type": "code",
   "execution_count": 6,
   "metadata": {
    "collapsed": false
   },
   "outputs": [
    {
     "name": "stdout",
     "output_type": "stream",
     "text": [
      "('We have data for', 10527, 'users')\n"
     ]
    }
   ],
   "source": [
    "test = pd.read_csv(testPath)\n",
    "unique_users = test.user_id.unique()\n",
    "print(\"We have data for\", len(unique_users), \"users\")"
   ]
  },
  {
   "cell_type": "code",
   "execution_count": 8,
   "metadata": {
    "collapsed": false
   },
   "outputs": [
    {
     "name": "stdout",
     "output_type": "stream",
     "text": [
      "('Train size:', 495745)\n",
      "('Test size:', 41597)\n"
     ]
    }
   ],
   "source": [
    "print(\"Train size:\", train.shape[0])\n",
    "print(\"Test size:\", test.shape[0])"
   ]
  },
  {
   "cell_type": "code",
   "execution_count": 23,
   "metadata": {
    "collapsed": false
   },
   "outputs": [
    {
     "data": {
      "text/plain": [
       "113898"
      ]
     },
     "execution_count": 23,
     "metadata": {},
     "output_type": "execute_result"
    }
   ],
   "source": [
    "#  Missing values for origin destination\n",
    "313361-199463"
   ]
  },
  {
   "cell_type": "code",
   "execution_count": null,
   "metadata": {
    "collapsed": true
   },
   "outputs": [],
   "source": [
    "missing_count = train.count(axis=0)\n",
    "missing = pd.DataFrame(missing_count)\n",
    "missing"
   ]
  },
  {
   "cell_type": "markdown",
   "metadata": {},
   "source": [
    "#### We will fit multiple Random Forest Models. We also use Random Forest variable importance as a tool for variable selection"
   ]
  },
  {
   "cell_type": "markdown",
   "metadata": {},
   "source": [
    "### Model 1 : All Raw features"
   ]
  },
  {
   "cell_type": "code",
   "execution_count": 10,
   "metadata": {
    "collapsed": true
   },
   "outputs": [],
   "source": [
    "rawPredictors = ['site_name', 'posa_continent', 'user_location_country', 'user_location_region',\n",
    "                 'user_location_city', 'orig_destination_distance', 'user_id','is_mobile', 'is_package', 'channel',\n",
    "                 'srch_adults_cnt', 'srch_children_cnt', 'srch_rm_cnt','srch_destination_id', 'srch_destination_type_id', 'is_booking',\n",
    "                  'cnt', 'hotel_continent', 'hotel_country', 'hotel_market']"
   ]
  },
  {
   "cell_type": "code",
   "execution_count": 11,
   "metadata": {
    "collapsed": false
   },
   "outputs": [
    {
     "name": "stdout",
     "output_type": "stream",
     "text": [
      "('We used', 20, 'original features(excluding date/time) for the building first model')\n"
     ]
    }
   ],
   "source": [
    "print(\"We used\", len(rawPredictors), \"original features(excluding date/time) for the building first model\")"
   ]
  },
  {
   "cell_type": "code",
   "execution_count": 12,
   "metadata": {
    "collapsed": false
   },
   "outputs": [
    {
     "data": {
      "text/plain": [
       "array([ 0.05831409,  0.06052998,  0.05928332,  0.06102334,  0.05539467])"
      ]
     },
     "execution_count": 12,
     "metadata": {},
     "output_type": "execute_result"
    }
   ],
   "source": [
    "from sklearn import cross_validation\n",
    "from sklearn.ensemble import RandomForestClassifier\n",
    "\n",
    "model1_RF= RandomForestClassifier(n_estimators=5, min_weight_fraction_leaf=0.1, random_state=3)\n",
    "cvScoreRF1 = cross_validation.cross_val_score(model1_RF, train[rawPredictors], train['hotel_cluster'], cv=5)\n",
    "cvScoreRF1"
   ]
  },
  {
   "cell_type": "code",
   "execution_count": 15,
   "metadata": {
    "collapsed": false
   },
   "outputs": [
    {
     "name": "stdout",
     "output_type": "stream",
     "text": [
      "Cross Validation score for Model-1 is(in %) :\n",
      "[ 5.83140936  6.05299776  5.92833153  6.1023344   5.53946744]\n",
      "('Mean cross validation score is:', 5.8909081002555892)\n"
     ]
    }
   ],
   "source": [
    "print(\"Cross Validation score for Model-1 is(in %) :\")\n",
    "print(cvScoreRF1*100)    \n",
    "print(\"Mean cross validation score is:\", cvScoreRF1.mean()*100)"
   ]
  },
  {
   "cell_type": "markdown",
   "metadata": {},
   "source": [
    "For the first model, we take all the raw features and number of trees = 5. We will adjust the tuning\n",
    "parameters in the later step. As of now, lets observe the feature importance graph and see which features were important during tree building \n",
    "process. We first fit random forest model "
   ]
  },
  {
   "cell_type": "code",
   "execution_count": 17,
   "metadata": {
    "collapsed": false
   },
   "outputs": [
    {
     "data": {
      "text/plain": [
       "RandomForestClassifier(bootstrap=True, class_weight=None, criterion='gini',\n",
       "            max_depth=None, max_features='auto', max_leaf_nodes=None,\n",
       "            min_samples_leaf=1, min_samples_split=2,\n",
       "            min_weight_fraction_leaf=0.1, n_estimators=5, n_jobs=1,\n",
       "            oob_score=False, random_state=3, verbose=0, warm_start=False)"
      ]
     },
     "execution_count": 17,
     "metadata": {},
     "output_type": "execute_result"
    }
   ],
   "source": [
    "model1_RF.fit(train[rawPredictors], train['hotel_cluster'])"
   ]
  },
  {
   "cell_type": "markdown",
   "metadata": {},
   "source": [
    "#### Fetaure Importance Graph Model - 1 Original features"
   ]
  },
  {
   "cell_type": "code",
   "execution_count": 18,
   "metadata": {
    "collapsed": false,
    "scrolled": false
   },
   "outputs": [
    {
     "data": {
      "image/png": "[encoded data removed]",
      "text/plain": [
       "<matplotlib.figure.Figure at 0x7fce38694490>"
      ]
     },
     "metadata": {},
     "output_type": "display_data"
    }
   ],
   "source": [
    "importances = model1_RF.feature_importances_\n",
    "std = np.std([tree.feature_importances_ for tree in model1_RF.estimators_],\n",
    "             axis=0)\n",
    "indices = np.argsort(importances)[::-1]\n",
    "\n",
    "plt.title(\"Feature importances\")\n",
    "plt.barh(range(len(rawPredictors)), importances[indices], yerr=std[indices], align=\"center\", color='cornflowerblue')\n",
    "\n",
    "impFeatures = []\n",
    "for i in indices:\n",
    "    impFeatures.append(rawPredictors[i])\n",
    "    \n",
    "plt.yticks(range(len(rawPredictors)), impFeatures)\n",
    "plt.ylim([-1, len(rawPredictors)])\n",
    "plt.show()"
   ]
  },
  {
   "cell_type": "code",
   "execution_count": 19,
   "metadata": {
    "collapsed": false
   },
   "outputs": [
    {
     "name": "stdout",
     "output_type": "stream",
     "text": [
      "Features sorted by their score:\n",
      "[(0.4655, 'hotel_continent'), (0.214, 'hotel_market'), (0.1013, 'posa_continent'), (0.0735, 'hotel_country'), (0.0543, 'is_package'), (0.0444, 'srch_destination_id'), (0.0243, 'orig_destination_distance'), (0.0115, 'srch_destination_type_id'), (0.0043, 'srch_adults_cnt'), (0.0036, 'user_location_region'), (0.0029, 'user_location_country'), (0.0004, 'user_location_city'), (0.0, 'user_id'), (0.0, 'srch_rm_cnt'), (0.0, 'srch_children_cnt'), (0.0, 'site_name'), (0.0, 'is_mobile'), (0.0, 'is_booking'), (0.0, 'cnt'), (0.0, 'channel')]\n"
     ]
    }
   ],
   "source": [
    "print \"Features sorted by their score:\"\n",
    "print sorted(zip(map(lambda x: round(x, 4), model1_RF.feature_importances_), rawPredictors), \n",
    "             reverse=True)"
   ]
  },
  {
   "cell_type": "code",
   "execution_count": 43,
   "metadata": {
    "collapsed": true
   },
   "outputs": [],
   "source": [
    "impFeatureSet1 = ['hotel_continent', 'hotel_market',  'posa_continent', 'hotel_country', 'is_package', 'srch_destination_id'\n",
    "                 , 'orig_destination_distance', 'srch_destination_type_id', 'user_location_region', \n",
    "                 'srch_adults_cnt', 'user_location_region', 'user_location_country', 'user_location_city']"
   ]
  },
  {
   "cell_type": "markdown",
   "metadata": {},
   "source": [
    "### Model 2 : IMP features\n",
    "\n",
    "Model using only imp features "
   ]
  },
  {
   "cell_type": "code",
   "execution_count": 21,
   "metadata": {
    "collapsed": false
   },
   "outputs": [
    {
     "data": {
      "text/plain": [
       "array([ 0.06225614,  0.06468429,  0.06393279,  0.06016585,  0.06188261])"
      ]
     },
     "execution_count": 21,
     "metadata": {},
     "output_type": "execute_result"
    }
   ],
   "source": [
    "model2_RF = RandomForestClassifier(n_estimators=5, min_weight_fraction_leaf=0.1, random_state=3)\n",
    "cvScoreRF2 = cross_validation.cross_val_score(model2_RF, train[impFeatureSet1], train['hotel_cluster'], cv=5)\n",
    "cvScoreRF2"
   ]
  },
  {
   "cell_type": "code",
   "execution_count": 23,
   "metadata": {
    "collapsed": false
   },
   "outputs": [
    {
     "data": {
      "text/plain": [
       "RandomForestClassifier(bootstrap=True, class_weight=None, criterion='gini',\n",
       "            max_depth=None, max_features='auto', max_leaf_nodes=None,\n",
       "            min_samples_leaf=1, min_samples_split=2,\n",
       "            min_weight_fraction_leaf=0.1, n_estimators=5, n_jobs=1,\n",
       "            oob_score=False, random_state=3, verbose=0, warm_start=False)"
      ]
     },
     "execution_count": 23,
     "metadata": {},
     "output_type": "execute_result"
    }
   ],
   "source": [
    "model2_RF.fit(train[impFeatureSet1], train['hotel_cluster'])"
   ]
  },
  {
   "cell_type": "code",
   "execution_count": 24,
   "metadata": {
    "collapsed": false,
    "scrolled": true
   },
   "outputs": [
    {
     "data": {
      "image/png": "[encoded data removed]",
      "text/plain": [
       "<matplotlib.figure.Figure at 0x7fce38595d10>"
      ]
     },
     "metadata": {},
     "output_type": "display_data"
    }
   ],
   "source": [
    "importances = model2_RF.feature_importances_\n",
    "std = np.std([tree.feature_importances_ for tree in model2_RF.estimators_],\n",
    "             axis=0)\n",
    "indices = np.argsort(importances)[::-1]\n",
    "\n",
    "plt.title(\"Feature importances\")\n",
    "plt.barh(range(len(impFeatureSet1)), importances[indices], yerr=std[indices], align=\"center\", color='cornflowerblue')\n",
    "impFeatures=[]\n",
    "for i in indices:\n",
    "    impFeatures.append(impFeatureSet1[i])\n",
    "    \n",
    "plt.yticks(range(len(impFeatureSet1)), impFeatures)\n",
    "plt.ylim([-1, len(impFeatureSet1)])\n",
    "plt.show()"
   ]
  },
  {
   "cell_type": "code",
   "execution_count": 25,
   "metadata": {
    "collapsed": false
   },
   "outputs": [
    {
     "name": "stdout",
     "output_type": "stream",
     "text": [
      "Features sorted by their score:\n",
      "[(0.4594, 'hotel_continent'), (0.2927, 'hotel_country'), (0.0741, 'is_package'), (0.0517, 'posa_continent'), (0.0405, 'srch_destination_id'), (0.0334, 'hotel_market'), (0.0137, 'orig_destination_distance'), (0.0115, 'user_location_country'), (0.0099, 'srch_destination_type_id'), (0.0049, 'user_location_region'), (0.0046, 'user_location_region'), (0.0029, 'srch_adults_cnt'), (0.0006, 'user_location_city')]\n"
     ]
    }
   ],
   "source": [
    "print \"Features sorted by their score:\"\n",
    "print sorted(zip(map(lambda x: round(x, 4), model2_RF.feature_importances_), impFeatureSet1), \n",
    "             reverse=True)"
   ]
  },
  {
   "cell_type": "code",
   "execution_count": 44,
   "metadata": {
    "collapsed": true
   },
   "outputs": [],
   "source": [
    "# Note: We arrange all the variable by their importance to try combinatory effect of them\n",
    "# Important than set -1\n",
    "impFeatureSet2 = ['hotel_continent', 'hotel_country', 'is_package', 'posa_continent', 'srch_destination_id',\n",
    "                 'hotel_market', 'orig_destination_distance', 'user_location_country', 'srch_destination_type_id',\n",
    "               'user_location_region', 'user_location_region', 'srch_adults_cnt', 'user_location_city']"
   ]
  },
  {
   "cell_type": "code",
   "execution_count": 26,
   "metadata": {
    "collapsed": false
   },
   "outputs": [
    {
     "name": "stdout",
     "output_type": "stream",
     "text": [
      "Cross Validation score for Model-2 is(in %) :\n",
      "[ 6.22561424  6.46842923  6.39327894  6.01658495  6.18826117]\n",
      "('Mean cross validation score is:', 6.2584337064284385)\n"
     ]
    }
   ],
   "source": [
    "print(\"Cross Validation score for Model-2 is(in %) :\")\n",
    "print(cvScoreRF2*100)    \n",
    "print(\"Mean cross validation score is:\", cvScoreRF2.mean()*100)"
   ]
  },
  {
   "cell_type": "markdown",
   "metadata": {
    "collapsed": true
   },
   "source": [
    "cv score improved by only 1% using model with imp feature!"
   ]
  },
  {
   "cell_type": "markdown",
   "metadata": {},
   "source": [
    "### Model 3: Feature engineering Set-1\n",
    "We now introduce some new features created using approach explained in ~/Final/FeatureEngScript2.R\n",
    "https://bhd2.rcg.usm.maine.edu:8888/edit/Final/FeatureEngScript2.R"
   ]
  },
  {
   "cell_type": "markdown",
   "metadata": {
    "collapsed": true
   },
   "source": [
    "We introduced features created by discretization "
   ]
  },
  {
   "cell_type": "code",
   "execution_count": 28,
   "metadata": {
    "collapsed": true
   },
   "outputs": [],
   "source": [
    "# We don't use year and hour. Since, all the training data is from 2013 \n",
    "# We do not year, month, hour: Since we created fetures from them\n",
    "fatureEng1 = [    'part_of_day', 'type_of_day', 'season', \n",
    "                  'duration_of_stay', 'is_alone', \n",
    "                  'dest_feature_pc1', 'dest_feature_pc2', 'dest_feature_pc3' ]\n"
   ]
  },
  {
   "cell_type": "markdown",
   "metadata": {},
   "source": [
    "### Use label Encoder for deal with categorical variable"
   ]
  },
  {
   "cell_type": "code",
   "execution_count": 29,
   "metadata": {
    "collapsed": false
   },
   "outputs": [],
   "source": [
    "from sklearn.preprocessing import LabelEncoder\n",
    "var_mod = ['season', 'type_of_day', 'part_of_day', 'duration_of_stay', 'is_alone']\n",
    "le = LabelEncoder()\n",
    "for i in var_mod:\n",
    "    train[i] = le.fit_transform(train[i])"
   ]
  },
  {
   "cell_type": "code",
   "execution_count": 30,
   "metadata": {
    "collapsed": false
   },
   "outputs": [
    {
     "data": {
      "text/plain": [
       "(495745, 56)"
      ]
     },
     "execution_count": 30,
     "metadata": {},
     "output_type": "execute_result"
    }
   ],
   "source": [
    "train.shape"
   ]
  },
  {
   "cell_type": "code",
   "execution_count": 34,
   "metadata": {
    "collapsed": false,
    "scrolled": true
   },
   "outputs": [
    {
     "data": {
      "text/html": [
       "<div>\n",
       "<table border=\"1\" class=\"dataframe\">\n",
       "  <thead>\n",
       "    <tr style=\"text-align: right;\">\n",
       "      <th></th>\n",
       "      <th>part_of_day</th>\n",
       "      <th>type_of_day</th>\n",
       "      <th>season</th>\n",
       "      <th>is_alone</th>\n",
       "      <th>dest_feature_pc1</th>\n",
       "      <th>dest_feature_pc2</th>\n",
       "      <th>dest_feature_pc3</th>\n",
       "    </tr>\n",
       "  </thead>\n",
       "  <tbody>\n",
       "    <tr>\n",
       "      <th>1</th>\n",
       "      <td>0</td>\n",
       "      <td>1</td>\n",
       "      <td>1</td>\n",
       "      <td>0</td>\n",
       "      <td>45.864357</td>\n",
       "      <td>4.72233</td>\n",
       "      <td>-10.897558</td>\n",
       "    </tr>\n",
       "    <tr>\n",
       "      <th>2</th>\n",
       "      <td>2</td>\n",
       "      <td>1</td>\n",
       "      <td>3</td>\n",
       "      <td>0</td>\n",
       "      <td>45.864357</td>\n",
       "      <td>4.72233</td>\n",
       "      <td>-10.897558</td>\n",
       "    </tr>\n",
       "    <tr>\n",
       "      <th>3</th>\n",
       "      <td>1</td>\n",
       "      <td>1</td>\n",
       "      <td>0</td>\n",
       "      <td>0</td>\n",
       "      <td>45.864357</td>\n",
       "      <td>4.72233</td>\n",
       "      <td>-10.897558</td>\n",
       "    </tr>\n",
       "    <tr>\n",
       "      <th>4</th>\n",
       "      <td>1</td>\n",
       "      <td>1</td>\n",
       "      <td>0</td>\n",
       "      <td>0</td>\n",
       "      <td>45.864357</td>\n",
       "      <td>4.72233</td>\n",
       "      <td>-10.897558</td>\n",
       "    </tr>\n",
       "  </tbody>\n",
       "</table>\n",
       "</div>"
      ],
      "text/plain": [
       "   part_of_day  type_of_day  season  is_alone  dest_feature_pc1  \\\n",
       "1            0            1       1         0         45.864357   \n",
       "2            2            1       3         0         45.864357   \n",
       "3            1            1       0         0         45.864357   \n",
       "4            1            1       0         0         45.864357   \n",
       "\n",
       "   dest_feature_pc2  dest_feature_pc3  \n",
       "1           4.72233        -10.897558  \n",
       "2           4.72233        -10.897558  \n",
       "3           4.72233        -10.897558  \n",
       "4           4.72233        -10.897558  "
      ]
     },
     "execution_count": 34,
     "metadata": {},
     "output_type": "execute_result"
    }
   ],
   "source": [
    "train.iloc[1:5, 30:37]"
   ]
  },
  {
   "cell_type": "code",
   "execution_count": 35,
   "metadata": {
    "collapsed": false
   },
   "outputs": [
    {
     "data": {
      "text/plain": [
       "array([ 0.06731729,  0.0699276 ,  0.07026656,  0.07054658,  0.06483901])"
      ]
     },
     "execution_count": 35,
     "metadata": {},
     "output_type": "execute_result"
    }
   ],
   "source": [
    "model3_RF = RandomForestClassifier(n_estimators=5, min_weight_fraction_leaf=0.1, random_state=3)\n",
    "cvScoreRF3 = cross_validation.cross_val_score(model3_RF, train[fatureEng1], train['hotel_cluster'], cv=5)\n",
    "cvScoreRF3"
   ]
  },
  {
   "cell_type": "code",
   "execution_count": 36,
   "metadata": {
    "collapsed": false
   },
   "outputs": [
    {
     "data": {
      "text/plain": [
       "RandomForestClassifier(bootstrap=True, class_weight=None, criterion='gini',\n",
       "            max_depth=None, max_features='auto', max_leaf_nodes=None,\n",
       "            min_samples_leaf=1, min_samples_split=2,\n",
       "            min_weight_fraction_leaf=0.1, n_estimators=5, n_jobs=1,\n",
       "            oob_score=False, random_state=3, verbose=0, warm_start=False)"
      ]
     },
     "execution_count": 36,
     "metadata": {},
     "output_type": "execute_result"
    }
   ],
   "source": [
    "model3_RF = RandomForestClassifier(n_estimators=5, min_weight_fraction_leaf=0.1, random_state=3)\n",
    "model3_RF.fit(train[fatureEng1], train['hotel_cluster'])"
   ]
  },
  {
   "cell_type": "markdown",
   "metadata": {
    "collapsed": true
   },
   "source": [
    "Ater introducing this new variables, we see better cross validation scores. Lets fit the model 4 by coming these new features and \n",
    "old imp features.\n"
   ]
  },
  {
   "cell_type": "code",
   "execution_count": 37,
   "metadata": {
    "collapsed": false,
    "scrolled": false
   },
   "outputs": [
    {
     "data": {
      "image/png": "[encoded data removed]",
      "text/plain": [
       "<matplotlib.figure.Figure at 0x7fce386254d0>"
      ]
     },
     "metadata": {},
     "output_type": "display_data"
    }
   ],
   "source": [
    "importances = model3_RF.feature_importances_\n",
    "std = np.std([tree.feature_importances_ for tree in model3_RF.estimators_],\n",
    "             axis=0)\n",
    "indices = np.argsort(importances)[::-1]\n",
    "\n",
    "plt.title(\"Feature importances\")\n",
    "plt.barh(range(len(fatureEng1)), importances[indices], yerr=std[indices], align=\"center\", color='cornflowerblue')\n",
    "impFeatures=[]\n",
    "for i in indices:\n",
    "    impFeatures.append(fatureEng1[i])\n",
    "    \n",
    "plt.yticks(range(len(fatureEng1)), impFeatures)\n",
    "plt.ylim([-1, len(fatureEng1)])\n",
    "plt.show()"
   ]
  },
  {
   "cell_type": "code",
   "execution_count": 38,
   "metadata": {
    "collapsed": false
   },
   "outputs": [
    {
     "name": "stdout",
     "output_type": "stream",
     "text": [
      "Features sorted by their score:\n",
      "[(0.5068, 'dest_feature_pc1'), (0.2023, 'dest_feature_pc2'), (0.1761, 'dest_feature_pc3'), (0.1006, 'duration_of_stay'), (0.012, 'is_alone'), (0.0011, 'part_of_day'), (0.0008, 'season'), (0.0002, 'type_of_day')]\n"
     ]
    }
   ],
   "source": [
    "print \"Features sorted by their score:\"\n",
    "print sorted(zip(map(lambda x: round(x, 4), model3_RF.feature_importances_), fatureEng1), \n",
    "             reverse=True)"
   ]
  },
  {
   "cell_type": "code",
   "execution_count": 39,
   "metadata": {
    "collapsed": true
   },
   "outputs": [],
   "source": [
    "impFeatureSet3 = ['dest_feature_pc1', 'dest_feature_pc2', 'dest_feature_pc3', 'duration_of_stay', 'is_alone']"
   ]
  },
  {
   "cell_type": "code",
   "execution_count": 90,
   "metadata": {
    "collapsed": false
   },
   "outputs": [
    {
     "name": "stdout",
     "output_type": "stream",
     "text": [
      "Cross Validation score for Model-3 is(in %) :\n",
      "[ 6.73172896  6.9927602   7.02665631  7.05465771  6.48390124]\n",
      "('Mean cross validation score is:', 6.8579408828356145)\n"
     ]
    }
   ],
   "source": [
    "print(\"Cross Validation score for Model-3 is(in %) :\")\n",
    "print(cvScoreRF3*100)    \n",
    "print(\"Mean cross validation score is:\", cvScoreRF3.mean()*100)"
   ]
  },
  {
   "cell_type": "markdown",
   "metadata": {},
   "source": [
    "### Model 4 : Iteration 4 \n",
    "    "
   ]
  },
  {
   "cell_type": "code",
   "execution_count": 40,
   "metadata": {
    "collapsed": false
   },
   "outputs": [
    {
     "name": "stdout",
     "output_type": "stream",
     "text": [
      "('unique values for Hotel country, market and continent are as:', 192, 2014, 7, 'respt')\n"
     ]
    }
   ],
   "source": [
    "uniqueHc_ids = len(train.hotel_country.unique())\n",
    "uniqueHm_ids = len(train.hotel_market.unique())\n",
    "uniqueHcont_ids = len(train.hotel_continent.unique())\n",
    "print(\"unique values for Hotel country, market and continent are as:\",uniqueHc_ids,  uniqueHm_ids, uniqueHcont_ids, \"respt\" )"
   ]
  },
  {
   "cell_type": "code",
   "execution_count": 41,
   "metadata": {
    "collapsed": true
   },
   "outputs": [],
   "source": [
    "## Encode these categorical varibles\n",
    "from sklearn.preprocessing import LabelEncoder\n",
    "var_mod = ['hotel_market', 'hotel_continent', 'hotel_market']\n",
    "le = LabelEncoder()\n",
    "for i in var_mod:\n",
    "    train[i] = le.fit_transform(train[i])"
   ]
  },
  {
   "cell_type": "code",
   "execution_count": 56,
   "metadata": {
    "collapsed": false
   },
   "outputs": [],
   "source": [
    "allImp12 = list(set(impFeatureSet1 + impFeatureSet2))"
   ]
  },
  {
   "cell_type": "code",
   "execution_count": 57,
   "metadata": {
    "collapsed": false
   },
   "outputs": [
    {
     "data": {
      "text/plain": [
       "['hotel_continent',\n",
       " 'srch_destination_id',\n",
       " 'user_location_country',\n",
       " 'srch_adults_cnt',\n",
       " 'srch_destination_type_id',\n",
       " 'is_package',\n",
       " 'posa_continent',\n",
       " 'hotel_market',\n",
       " 'hotel_country',\n",
       " 'user_location_city',\n",
       " 'user_location_region',\n",
       " 'orig_destination_distance']"
      ]
     },
     "execution_count": 57,
     "metadata": {},
     "output_type": "execute_result"
    }
   ],
   "source": [
    "allImp12"
   ]
  },
  {
   "cell_type": "code",
   "execution_count": 58,
   "metadata": {
    "collapsed": false
   },
   "outputs": [
    {
     "data": {
      "text/plain": [
       "array([ 0.06438344,  0.06863694,  0.06600034,  0.06314186,  0.06055072])"
      ]
     },
     "execution_count": 58,
     "metadata": {},
     "output_type": "execute_result"
    }
   ],
   "source": [
    "model4_RF = RandomForestClassifier(n_estimators=5, min_weight_fraction_leaf=0.1, random_state=3)\n",
    "cvScoreRF4 = cross_validation.cross_val_score(model4_RF, train[allImp12], train['hotel_cluster'], cv=5)\n",
    "cvScoreRF4"
   ]
  },
  {
   "cell_type": "code",
   "execution_count": 59,
   "metadata": {
    "collapsed": false
   },
   "outputs": [
    {
     "data": {
      "text/plain": [
       "RandomForestClassifier(bootstrap=True, class_weight=None, criterion='gini',\n",
       "            max_depth=None, max_features='auto', max_leaf_nodes=None,\n",
       "            min_samples_leaf=1, min_samples_split=2,\n",
       "            min_weight_fraction_leaf=0.1, n_estimators=5, n_jobs=1,\n",
       "            oob_score=False, random_state=3, verbose=0, warm_start=False)"
      ]
     },
     "execution_count": 59,
     "metadata": {},
     "output_type": "execute_result"
    }
   ],
   "source": [
    "model4_RF.fit(train[allImp12], train['hotel_cluster'])"
   ]
  },
  {
   "cell_type": "code",
   "execution_count": 60,
   "metadata": {
    "collapsed": false,
    "scrolled": true
   },
   "outputs": [
    {
     "data": {
      "image/png": "[encoded data removed]",
      "text/plain": [
       "<matplotlib.figure.Figure at 0x7fce37ac0b10>"
      ]
     },
     "metadata": {},
     "output_type": "display_data"
    }
   ],
   "source": [
    "importances = model4_RF.feature_importances_\n",
    "std = np.std([tree.feature_importances_ for tree in model4_RF.estimators_],\n",
    "             axis=0)\n",
    "indices = np.argsort(importances)[::-1]\n",
    "\n",
    "plt.title(\"Feature importances\")\n",
    "plt.barh(range(len(allImp12)), importances[indices], yerr=std[indices], align=\"center\", color='cornflowerblue')\n",
    "impFeatures=[]\n",
    "for i in indices:\n",
    "    impFeatures.append(allImp12[i])\n",
    "    \n",
    "plt.yticks(range(len(allImp12)), impFeatures)\n",
    "plt.ylim([-1, len(allImp12)])\n",
    "plt.show()"
   ]
  },
  {
   "cell_type": "code",
   "execution_count": 61,
   "metadata": {
    "collapsed": false
   },
   "outputs": [
    {
     "name": "stdout",
     "output_type": "stream",
     "text": [
      "Features sorted by their score:\n",
      "[(0.3917, 'hotel_market'), (0.3396, 'hotel_country'), (0.1491, 'hotel_continent'), (0.0633, 'srch_destination_id'), (0.0254, 'user_location_country'), (0.0203, 'orig_destination_distance'), (0.008, 'srch_destination_type_id'), (0.0026, 'user_location_region'), (0.0001, 'user_location_city'), (0.0, 'srch_adults_cnt'), (0.0, 'posa_continent'), (0.0, 'is_package')]\n"
     ]
    }
   ],
   "source": [
    "print \"Features sorted by their score:\"\n",
    "print sorted(zip(map(lambda x: round(x, 4), model4_RF.feature_importances_), allImp12), \n",
    "             reverse=True)"
   ]
  },
  {
   "cell_type": "code",
   "execution_count": 71,
   "metadata": {
    "collapsed": true
   },
   "outputs": [],
   "source": [
    "impFeatureSet3 = ['hotel_market', 'hotel_country', 'hotel_continent', 'srch_destination_id', 'user_location_country',\n",
    "              'orig_destination_distance',  'srch_destination_type_id',  'user_location_region']"
   ]
  },
  {
   "cell_type": "code",
   "execution_count": 91,
   "metadata": {
    "collapsed": false
   },
   "outputs": [
    {
     "name": "stdout",
     "output_type": "stream",
     "text": [
      "Cross Validation score for Model-4 is(in %) :\n",
      "[ 6.43834373  6.86369411  6.60003429  6.31418599  6.05507179]\n",
      "('Mean cross validation score is:', 6.4542659831356097)\n"
     ]
    }
   ],
   "source": [
    "print(\"Cross Validation score for Model-4 is(in %) :\")\n",
    "print(cvScoreRF4*100)    \n",
    "print(\"Mean cross validation score is:\", cvScoreRF4.mean()*100)"
   ]
  },
  {
   "cell_type": "markdown",
   "metadata": {},
   "source": [
    "Next, we introduce features created by book and clicks score:"
   ]
  },
  {
   "cell_type": "code",
   "execution_count": 106,
   "metadata": {
    "collapsed": false,
    "scrolled": false
   },
   "outputs": [
    {
     "data": {
      "text/plain": [
       "array(['Unnamed: 0', 'user_location_country', 'hotel_cluster',\n",
       "       'user_location_region', 'user_location_city', 'hotel_country',\n",
       "       'hotel_market', 'srch_destination_id', 'date_time', 'site_name',\n",
       "       'posa_continent', 'orig_destination_distance', 'user_id',\n",
       "       'is_mobile', 'is_package', 'channel', 'srch_ci', 'srch_co',\n",
       "       'srch_adults_cnt', 'srch_children_cnt', 'srch_rm_cnt',\n",
       "       'srch_destination_type_id', 'is_booking', 'cnt', 'hotel_continent',\n",
       "       'year', 'month', 'day', 'hour', 'part_of_day', 'type_of_day',\n",
       "       'season', 'is_alone', 'dest_feature_pc1', 'dest_feature_pc2',\n",
       "       'dest_feature_pc3', 'clickRate', 'bookRate', 'clickMRate',\n",
       "       'bookMRate', 'clickHCRate', 'bookHCRate', 'clickURate', 'bookURate',\n",
       "       'clickUCRRate', 'bookUCRRate', 'clickUCRate', 'bookUCRate',\n",
       "       'popScoreHmc_Count', 'popScoreU_Count', 'popScoreSite_Count',\n",
       "       'popScoreDest_Count', 'popScoreCityDest_Count',\n",
       "       'popScoreCityH_Count', 'duration_of_stay'], dtype=object)"
      ]
     },
     "execution_count": 106,
     "metadata": {},
     "output_type": "execute_result"
    }
   ],
   "source": [
    "train.columns.values"
   ]
  },
  {
   "cell_type": "code",
   "execution_count": 63,
   "metadata": {
    "collapsed": true
   },
   "outputs": [],
   "source": [
    "from sklearn.preprocessing import LabelEncoder\n",
    "var_mod = ['user_location_country',  'user_location_region', 'user_location_city']\n",
    "le = LabelEncoder()\n",
    "for i in var_mod:\n",
    "    train[i] = le.fit_transform(train[i])"
   ]
  },
  {
   "cell_type": "code",
   "execution_count": 66,
   "metadata": {
    "collapsed": false
   },
   "outputs": [],
   "source": [
    "ratesUVar=['clickRate', 'bookRate','bookHCRate', 'bookURate',\n",
    "                'user_location_country',  'user_location_region', 'user_location_city' ]"
   ]
  },
  {
   "cell_type": "code",
   "execution_count": 67,
   "metadata": {
    "collapsed": false
   },
   "outputs": [
    {
     "data": {
      "text/plain": [
       "array([ 0.1048222 ,  0.09925989,  0.09710442,  0.09043036,  0.09624951])"
      ]
     },
     "execution_count": 67,
     "metadata": {},
     "output_type": "execute_result"
    }
   ],
   "source": [
    "model5_RF = RandomForestClassifier(n_estimators=5, min_weight_fraction_leaf=0.1, random_state=3)\n",
    "\n",
    "cvScoreRF5 = cross_validation.cross_val_score(model5_RF, train[ratesUVar], train['hotel_cluster'], cv=5)\n",
    "cvScoreRF5"
   ]
  },
  {
   "cell_type": "code",
   "execution_count": 72,
   "metadata": {
    "collapsed": false
   },
   "outputs": [
    {
     "name": "stdout",
     "output_type": "stream",
     "text": [
      "('accuracy score for test data Model 5 (in %) is:', 2.1948698223429575)\n"
     ]
    }
   ],
   "source": [
    "model5_RF.fit(train[ratesUVar], train['hotel_cluster'])\n",
    "test_score = model5_RF.score(test[ratesUVar], test['hotel_cluster'])\n",
    "print(\"accuracy score for test data Model 5 (in %) is:\",test_score*100)"
   ]
  },
  {
   "cell_type": "markdown",
   "metadata": {},
   "source": [
    "##### Book/click Rate not proven useful!! Test Accuracy is very bad!"
   ]
  },
  {
   "cell_type": "markdown",
   "metadata": {},
   "source": [
    "###  Model 6: PopularityScore Variables"
   ]
  },
  {
   "cell_type": "markdown",
   "metadata": {},
   "source": [
    "In each iteration, RF cv score slighly improving. Now, in step, we observe, what variables appear as important in for each of these \n",
    "model 5 models. Then we tried balance user atributes, hotel attributes, destination attributes and fit another model\n"
   ]
  },
  {
   "cell_type": "code",
   "execution_count": 73,
   "metadata": {
    "collapsed": true
   },
   "outputs": [],
   "source": [
    "popularityVar = ['popScoreHmc_Count', 'popScoreU_Count', 'popScoreSite_Count',\n",
    "       'popScoreDest_Count', 'popScoreCityDest_Count',\n",
    "       'popScoreCityH_Count'] "
   ]
  },
  {
   "cell_type": "code",
   "execution_count": 76,
   "metadata": {
    "collapsed": false
   },
   "outputs": [
    {
     "data": {
      "text/plain": [
       "array([ 0.06833557,  0.07410208,  0.072909  ,  0.07058693,  0.05856297])"
      ]
     },
     "execution_count": 76,
     "metadata": {},
     "output_type": "execute_result"
    }
   ],
   "source": [
    "model6_RF = RandomForestClassifier(n_estimators=5, min_weight_fraction_leaf=0.1, random_state=3)\n",
    "\n",
    "cvScoreRF6 = cross_validation.cross_val_score(model6_RF, train[popularityVar], train['hotel_cluster'], cv=5)\n",
    "cvScoreRF6"
   ]
  },
  {
   "cell_type": "code",
   "execution_count": 77,
   "metadata": {
    "collapsed": false
   },
   "outputs": [
    {
     "data": {
      "text/plain": [
       "RandomForestClassifier(bootstrap=True, class_weight=None, criterion='gini',\n",
       "            max_depth=None, max_features='auto', max_leaf_nodes=None,\n",
       "            min_samples_leaf=1, min_samples_split=2,\n",
       "            min_weight_fraction_leaf=0.1, n_estimators=5, n_jobs=1,\n",
       "            oob_score=False, random_state=3, verbose=0, warm_start=False)"
      ]
     },
     "execution_count": 77,
     "metadata": {},
     "output_type": "execute_result"
    }
   ],
   "source": [
    "model6_RF.fit(train[popularityVar], train['hotel_cluster'])"
   ]
  },
  {
   "cell_type": "code",
   "execution_count": 82,
   "metadata": {
    "collapsed": false
   },
   "outputs": [
    {
     "name": "stdout",
     "output_type": "stream",
     "text": [
      "('accuracy score for test - Model 6(in %) is:', 7.6471860951510928)\n"
     ]
    }
   ],
   "source": [
    "model6_RF.fit(train[popularityVar], train['hotel_cluster'])\n",
    "test_score = model6_RF.score(test[popularityVar], test['hotel_cluster'])\n",
    "print(\"accuracy score for test - Model 6(in %) is:\",test_score*100)"
   ]
  },
  {
   "cell_type": "code",
   "execution_count": 83,
   "metadata": {
    "collapsed": false
   },
   "outputs": [
    {
     "data": {
      "image/png": "[encoded data removed]",
      "text/plain": [
       "<matplotlib.figure.Figure at 0x7fce37a1ab50>"
      ]
     },
     "metadata": {},
     "output_type": "display_data"
    }
   ],
   "source": [
    "importances = model6_RF.feature_importances_\n",
    "std = np.std([tree.feature_importances_ for tree in model6_RF.estimators_],\n",
    "             axis=0)\n",
    "indices = np.argsort(importances)[::-1]\n",
    "\n",
    "plt.title(\"Feature importances\")\n",
    "plt.barh(range(len(popularityVar)), importances[indices], yerr=std[indices], align=\"center\", color='cornflowerblue')\n",
    "impFeatures=[]\n",
    "for i in indices:\n",
    "    impFeatures.append(popularityVar[i])\n",
    "    \n",
    "plt.yticks(range(len(popularityVar)), impFeatures)\n",
    "plt.ylim([-1, len(popularityVar)])\n",
    "plt.show()"
   ]
  },
  {
   "cell_type": "code",
   "execution_count": 84,
   "metadata": {
    "collapsed": false
   },
   "outputs": [
    {
     "name": "stdout",
     "output_type": "stream",
     "text": [
      "Features sorted by their score:\n",
      "[(0.1491, 'popScoreHmc_Count'), (0.0633, 'popScoreU_Count'), (0.0254, 'popScoreSite_Count'), (0.008, 'popScoreCityDest_Count'), (0.0, 'popScoreDest_Count'), (0.0, 'popScoreCityH_Count')]\n"
     ]
    }
   ],
   "source": [
    "print \"Features sorted by their score:\"\n",
    "print sorted(zip(map(lambda x: round(x, 4), model4_RF.feature_importances_), popularityVar), \n",
    "             reverse=True)"
   ]
  },
  {
   "cell_type": "code",
   "execution_count": 92,
   "metadata": {
    "collapsed": false,
    "scrolled": true
   },
   "outputs": [
    {
     "data": {
      "image/png": "[encoded data removed]",
      "text/plain": [
       "<matplotlib.figure.Figure at 0x7fce37afb090>"
      ]
     },
     "metadata": {},
     "output_type": "display_data"
    }
   ],
   "source": [
    "'Cross Validation Score Plot for the Models'\n",
    "#Plot Cross Validation Score\n",
    "import matplotlib.pyplot as plt\n",
    "plt.xlim(*(0,7))\n",
    "ylim=(0, 10)\n",
    "plt.ylim(*ylim)\n",
    "crossValScores = [cvScoreRF1, cvScoreRF2, cvScoreRF3, cvScoreRF4, cvScoreRF5, cvScoreRF6]\n",
    "labels = ['RF1', 'RF2', 'RF3', 'RF4', 'RF5', 'RF6']\n",
    "crossValInPercent = [x * 100 for x in crossValScores]\n",
    "for value, label in zip(crossValInPercent, labels):\n",
    "    plt.plot([1, 2, 3, 4, 5],value, '.-', label=label)\n",
    "plt.grid()\n",
    "plt.ylabel('Cross-Validation Score in %')\n",
    "plt.xlabel('5-Fold cross Validation')\n",
    "plt.legend(loc = 4)\n",
    "plt.show()"
   ]
  },
  {
   "cell_type": "markdown",
   "metadata": {},
   "source": [
    "### Binary Random Forest"
   ]
  },
  {
   "cell_type": "markdown",
   "metadata": {},
   "source": [
    "After trying everything we could not improve the performance of random forest classifier. Next step, we will try to fit binary \n",
    "classifier instead of the multi-class and try to combine the output"
   ]
  },
  {
   "cell_type": "code",
   "execution_count": 93,
   "metadata": {
    "collapsed": false
   },
   "outputs": [],
   "source": [
    "unique_clusters = train['hotel_cluster'].unique()\n",
    "len(unique_clusters)\n",
    "prob_booking = []"
   ]
  },
  {
   "cell_type": "code",
   "execution_count": 144,
   "metadata": {
    "collapsed": true
   },
   "outputs": [],
   "source": [
    "train_c = train"
   ]
  },
  {
   "cell_type": "code",
   "execution_count": 145,
   "metadata": {
    "collapsed": false
   },
   "outputs": [
    {
     "name": "stderr",
     "output_type": "stream",
     "text": [
      "/home/ec2-user/anaconda2/lib/python2.7/site-packages/ipykernel/__main__.py:9: SettingWithCopyWarning: \n",
      "A value is trying to be set on a copy of a slice from a DataFrame\n",
      "\n",
      "See the caveats in the documentation: http://pandas.pydata.org/pandas-docs/stable/indexing.html#indexing-view-versus-copy\n"
     ]
    }
   ],
   "source": [
    "from sklearn.ensemble import RandomForestClassifier\n",
    "from sklearn.cross_validation import KFold\n",
    "from itertools import chain\n",
    "\n",
    "\"Fit 100 Binary classifier with target as hotel_cluster_specific Vs NONE  i.e. 1 or 0\"\n",
    "for cluster in unique_clusters:\n",
    "    train_c.is_copy = False\n",
    "    train_c[\"target\"] = 1\n",
    "    train_c[\"target\"][train_c[\"hotel_cluster\"] != cluster] = 0\n",
    "    probs = []\n",
    "    cv = KFold(len(train_c[\"target\"]), n_folds=3)\n",
    "    binaryRF = RandomForestClassifier(n_estimators=10, min_weight_fraction_leaf=0.1)\n",
    "    for i, (tr, te) in enumerate(cv):\n",
    "        binaryRF.fit(train_c[final_set].iloc[tr], train_c[\"target\"].iloc[tr])\n",
    "        preds = binaryRF.predict_proba(train_c[allImp12].iloc[te])\n",
    "        probs.append([p[1] for p in preds])             \n",
    "    full_probs = chain.from_iterable(probs)\n",
    "    prob_booking.append(list(full_probs))"
   ]
  },
  {
   "cell_type": "code",
   "execution_count": 146,
   "metadata": {
    "collapsed": true
   },
   "outputs": [],
   "source": [
    "prediction_frame = pd.DataFrame(prob_booking).T"
   ]
  },
  {
   "cell_type": "code",
   "execution_count": 147,
   "metadata": {
    "collapsed": false
   },
   "outputs": [
    {
     "data": {
      "text/html": [
       "<div>\n",
       "<table border=\"1\" class=\"dataframe\">\n",
       "  <thead>\n",
       "    <tr style=\"text-align: right;\">\n",
       "      <th></th>\n",
       "      <th>0</th>\n",
       "      <th>1</th>\n",
       "      <th>2</th>\n",
       "      <th>3</th>\n",
       "      <th>4</th>\n",
       "      <th>5</th>\n",
       "      <th>6</th>\n",
       "      <th>7</th>\n",
       "      <th>8</th>\n",
       "      <th>9</th>\n",
       "      <th>...</th>\n",
       "      <th>90</th>\n",
       "      <th>91</th>\n",
       "      <th>92</th>\n",
       "      <th>93</th>\n",
       "      <th>94</th>\n",
       "      <th>95</th>\n",
       "      <th>96</th>\n",
       "      <th>97</th>\n",
       "      <th>98</th>\n",
       "      <th>99</th>\n",
       "    </tr>\n",
       "  </thead>\n",
       "  <tbody>\n",
       "    <tr>\n",
       "      <th>0</th>\n",
       "      <td>0.003360</td>\n",
       "      <td>0.000002</td>\n",
       "      <td>0.013897</td>\n",
       "      <td>0.004964</td>\n",
       "      <td>0.001322</td>\n",
       "      <td>0.013505</td>\n",
       "      <td>0.002491</td>\n",
       "      <td>0.009748</td>\n",
       "      <td>0.011244</td>\n",
       "      <td>0.007897</td>\n",
       "      <td>...</td>\n",
       "      <td>0.005265</td>\n",
       "      <td>0.007079</td>\n",
       "      <td>0.007709</td>\n",
       "      <td>0.013304</td>\n",
       "      <td>0.004703</td>\n",
       "      <td>0.008409</td>\n",
       "      <td>0.012018</td>\n",
       "      <td>0.000093</td>\n",
       "      <td>0.004229</td>\n",
       "      <td>0.013725</td>\n",
       "    </tr>\n",
       "    <tr>\n",
       "      <th>1</th>\n",
       "      <td>0.008708</td>\n",
       "      <td>0.008594</td>\n",
       "      <td>0.006599</td>\n",
       "      <td>0.003688</td>\n",
       "      <td>0.000846</td>\n",
       "      <td>0.010517</td>\n",
       "      <td>0.002403</td>\n",
       "      <td>0.004909</td>\n",
       "      <td>0.008244</td>\n",
       "      <td>0.006311</td>\n",
       "      <td>...</td>\n",
       "      <td>0.007128</td>\n",
       "      <td>0.007085</td>\n",
       "      <td>0.014762</td>\n",
       "      <td>0.017053</td>\n",
       "      <td>0.016459</td>\n",
       "      <td>0.026570</td>\n",
       "      <td>0.009346</td>\n",
       "      <td>0.023139</td>\n",
       "      <td>0.016359</td>\n",
       "      <td>0.015837</td>\n",
       "    </tr>\n",
       "    <tr>\n",
       "      <th>2</th>\n",
       "      <td>0.007832</td>\n",
       "      <td>0.045401</td>\n",
       "      <td>0.004749</td>\n",
       "      <td>0.002975</td>\n",
       "      <td>0.000858</td>\n",
       "      <td>0.011119</td>\n",
       "      <td>0.002421</td>\n",
       "      <td>0.004265</td>\n",
       "      <td>0.005073</td>\n",
       "      <td>0.005286</td>\n",
       "      <td>...</td>\n",
       "      <td>0.004020</td>\n",
       "      <td>0.004382</td>\n",
       "      <td>0.015320</td>\n",
       "      <td>0.016480</td>\n",
       "      <td>0.011096</td>\n",
       "      <td>0.016770</td>\n",
       "      <td>0.005567</td>\n",
       "      <td>0.073473</td>\n",
       "      <td>0.024310</td>\n",
       "      <td>0.013680</td>\n",
       "    </tr>\n",
       "    <tr>\n",
       "      <th>3</th>\n",
       "      <td>0.005797</td>\n",
       "      <td>0.045401</td>\n",
       "      <td>0.002844</td>\n",
       "      <td>0.002538</td>\n",
       "      <td>0.000633</td>\n",
       "      <td>0.003134</td>\n",
       "      <td>0.000800</td>\n",
       "      <td>0.000681</td>\n",
       "      <td>0.003244</td>\n",
       "      <td>0.004145</td>\n",
       "      <td>...</td>\n",
       "      <td>0.004020</td>\n",
       "      <td>0.002306</td>\n",
       "      <td>0.012764</td>\n",
       "      <td>0.027152</td>\n",
       "      <td>0.011888</td>\n",
       "      <td>0.030783</td>\n",
       "      <td>0.004544</td>\n",
       "      <td>0.079395</td>\n",
       "      <td>0.026443</td>\n",
       "      <td>0.015477</td>\n",
       "    </tr>\n",
       "    <tr>\n",
       "      <th>4</th>\n",
       "      <td>0.005805</td>\n",
       "      <td>0.045401</td>\n",
       "      <td>0.003235</td>\n",
       "      <td>0.002498</td>\n",
       "      <td>0.000633</td>\n",
       "      <td>0.005986</td>\n",
       "      <td>0.000767</td>\n",
       "      <td>0.000978</td>\n",
       "      <td>0.004248</td>\n",
       "      <td>0.004145</td>\n",
       "      <td>...</td>\n",
       "      <td>0.004403</td>\n",
       "      <td>0.002306</td>\n",
       "      <td>0.009521</td>\n",
       "      <td>0.018866</td>\n",
       "      <td>0.011888</td>\n",
       "      <td>0.030783</td>\n",
       "      <td>0.004639</td>\n",
       "      <td>0.079395</td>\n",
       "      <td>0.026443</td>\n",
       "      <td>0.022258</td>\n",
       "    </tr>\n",
       "  </tbody>\n",
       "</table>\n",
       "<p>5 rows × 100 columns</p>\n",
       "</div>"
      ],
      "text/plain": [
       "         0         1         2         3         4         5         6   \\\n",
       "0  0.003360  0.000002  0.013897  0.004964  0.001322  0.013505  0.002491   \n",
       "1  0.008708  0.008594  0.006599  0.003688  0.000846  0.010517  0.002403   \n",
       "2  0.007832  0.045401  0.004749  0.002975  0.000858  0.011119  0.002421   \n",
       "3  0.005797  0.045401  0.002844  0.002538  0.000633  0.003134  0.000800   \n",
       "4  0.005805  0.045401  0.003235  0.002498  0.000633  0.005986  0.000767   \n",
       "\n",
       "         7         8         9     ...           90        91        92  \\\n",
       "0  0.009748  0.011244  0.007897    ...     0.005265  0.007079  0.007709   \n",
       "1  0.004909  0.008244  0.006311    ...     0.007128  0.007085  0.014762   \n",
       "2  0.004265  0.005073  0.005286    ...     0.004020  0.004382  0.015320   \n",
       "3  0.000681  0.003244  0.004145    ...     0.004020  0.002306  0.012764   \n",
       "4  0.000978  0.004248  0.004145    ...     0.004403  0.002306  0.009521   \n",
       "\n",
       "         93        94        95        96        97        98        99  \n",
       "0  0.013304  0.004703  0.008409  0.012018  0.000093  0.004229  0.013725  \n",
       "1  0.017053  0.016459  0.026570  0.009346  0.023139  0.016359  0.015837  \n",
       "2  0.016480  0.011096  0.016770  0.005567  0.073473  0.024310  0.013680  \n",
       "3  0.027152  0.011888  0.030783  0.004544  0.079395  0.026443  0.015477  \n",
       "4  0.018866  0.011888  0.030783  0.004639  0.079395  0.026443  0.022258  \n",
       "\n",
       "[5 rows x 100 columns]"
      ]
     },
     "execution_count": 147,
     "metadata": {},
     "output_type": "execute_result"
    }
   ],
   "source": [
    "prediction_frame.head()"
   ]
  },
  {
   "cell_type": "code",
   "execution_count": 148,
   "metadata": {
    "collapsed": true
   },
   "outputs": [],
   "source": [
    "def find_top_5(row):\n",
    "    return list(row.nlargest(5).index)\n",
    "preds = []\n",
    "for index, row in prediction_frame.iterrows():\n",
    "    preds.append(find_top_5(row))"
   ]
  },
  {
   "cell_type": "code",
   "execution_count": 150,
   "metadata": {
    "collapsed": false
   },
   "outputs": [
    {
     "data": {
      "text/plain": [
       "0.017849725116768841"
      ]
     },
     "execution_count": 150,
     "metadata": {},
     "output_type": "execute_result"
    }
   ],
   "source": [
    "import ml_metrics as metrics\n",
    "metrics.mapk([[l] for l in train_c[\"hotel_cluster\"]], preds, k=5)"
   ]
  },
  {
   "cell_type": "markdown",
   "metadata": {},
   "source": [
    "Result of binary classifiers is even worst. So we do not try to improve this model. \n"
   ]
  },
  {
   "cell_type": "markdown",
   "metadata": {},
   "source": [
    "Next, step for random forest classifier is tune some parameters. We will try to increase number of trees for model 6 and hope\n",
    "for the improvement. Before this, lets check model perform on the test data.\n"
   ]
  },
  {
   "cell_type": "markdown",
   "metadata": {},
   "source": [
    "### Try to tune Tree sizes"
   ]
  },
  {
   "cell_type": "code",
   "execution_count": 94,
   "metadata": {
    "collapsed": false
   },
   "outputs": [],
   "source": [
    "cv_scores_trees ={}\n",
    "test_scores_tress={}\n",
    "train_score_trees = {}\n",
    "for tree_size in [5, 10, 30, 50, 100, 150]:\n",
    "        modelN_RF = RandomForestClassifier(n_estimators=tree_size, min_weight_fraction_leaf=0.1)\n",
    "        cvScoreRF = cross_validation.cross_val_score(modelN_RF, train[fatureEng1], train['hotel_cluster'], cv=5)\n",
    "        cv_scores_trees[tree_size]=cvScoreRF\n",
    "        modelN_RF.fit(train[fatureEng1], train['hotel_cluster'])\n",
    "        trainSocre = modelN_RF.score(train[fatureEng1], train['hotel_cluster'])\n",
    "        testScore = modelN_RF.score(test[fatureEng1], test['hotel_cluster'])    \n",
    "        train_score_trees[tree_size] = trainSocre\n",
    "        test_scores_tress[tree_size]=testScore"
   ]
  },
  {
   "cell_type": "code",
   "execution_count": 95,
   "metadata": {
    "collapsed": false
   },
   "outputs": [
    {
     "data": {
      "text/plain": [
       "{5: array([ 0.06618811,  0.06961502,  0.07002451,  0.06230454,  0.06447577]),\n",
       " 10: array([ 0.06471614,  0.06833444,  0.06664582,  0.06876097,  0.06503072]),\n",
       " 30: array([ 0.06388942,  0.06794119,  0.06842089,  0.06809515,  0.06742208]),\n",
       " 50: array([ 0.07192475,  0.06823361,  0.07218283,  0.06783286,  0.07021704]),\n",
       " 100: array([ 0.06359704,  0.07081493,  0.07055905,  0.06610778,  0.06447577]),\n",
       " 150: array([ 0.06483713,  0.06928227,  0.06676685,  0.06614813,  0.06828983])}"
      ]
     },
     "execution_count": 95,
     "metadata": {},
     "output_type": "execute_result"
    }
   ],
   "source": [
    "cv_scores_trees"
   ]
  },
  {
   "cell_type": "code",
   "execution_count": 96,
   "metadata": {
    "collapsed": false
   },
   "outputs": [
    {
     "data": {
      "text/plain": [
       "{5: 0.064115200615428997,\n",
       " 10: 0.063081472221554441,\n",
       " 30: 0.060268769382407383,\n",
       " 50: 0.066086496622352567,\n",
       " 100: 0.061230377190662787,\n",
       " 150: 0.065004687838065248}"
      ]
     },
     "execution_count": 96,
     "metadata": {},
     "output_type": "execute_result"
    }
   ],
   "source": [
    "test_scores_tress"
   ]
  },
  {
   "cell_type": "code",
   "execution_count": 97,
   "metadata": {
    "collapsed": false
   },
   "outputs": [
    {
     "data": {
      "text/plain": [
       "{5: 0.06978386065416696,\n",
       " 10: 0.068107595638886922,\n",
       " 30: 0.064853906746411963,\n",
       " 50: 0.070314375334093127,\n",
       " 100: 0.066154978870185274,\n",
       " 150: 0.071040555124106147}"
      ]
     },
     "execution_count": 97,
     "metadata": {},
     "output_type": "execute_result"
    }
   ],
   "source": [
    "train_score_trees "
   ]
  },
  {
   "cell_type": "code",
   "execution_count": 98,
   "metadata": {
    "collapsed": false
   },
   "outputs": [],
   "source": [
    "### Mean Cv score\n",
    "mean_cv = []\n",
    "for key, value in cv_scores_trees.items():\n",
    "    p = np.mean(value)\n",
    "    mean_cv.append(p)"
   ]
  },
  {
   "cell_type": "code",
   "execution_count": 99,
   "metadata": {
    "collapsed": false
   },
   "outputs": [
    {
     "data": {
      "text/plain": [
       "[0.06711091444638155,\n",
       " 0.066521589555252114,\n",
       " 0.066697620604626209,\n",
       " 0.070078217480815941,\n",
       " 0.067064842164034202,\n",
       " 0.067153747886859752]"
      ]
     },
     "execution_count": 99,
     "metadata": {},
     "output_type": "execute_result"
    }
   ],
   "source": [
    "mean_cv "
   ]
  },
  {
   "cell_type": "code",
   "execution_count": 100,
   "metadata": {
    "collapsed": false
   },
   "outputs": [
    {
     "data": {
      "text/plain": [
       "[6.7110914446381553,\n",
       " 6.652158955525211,\n",
       " 6.6697620604626211,\n",
       " 7.0078217480815939,\n",
       " 6.7064842164034202,\n",
       " 6.7153747886859749]"
      ]
     },
     "execution_count": 100,
     "metadata": {},
     "output_type": "execute_result"
    }
   ],
   "source": [
    "mean_cvPer = [x * 100 for x in mean_cv] \n",
    "mean_cvPer"
   ]
  },
  {
   "cell_type": "code",
   "execution_count": 101,
   "metadata": {
    "collapsed": false
   },
   "outputs": [
    {
     "data": {
      "text/plain": [
       "[6.62, 6.98, 6.82, 7.04, 7.11, 6.49]"
      ]
     },
     "execution_count": 101,
     "metadata": {},
     "output_type": "execute_result"
    }
   ],
   "source": [
    "# get % train score for each trees\n",
    "import math\n",
    "trainScorePer = []\n",
    "for key, value in train_score_trees.items():\n",
    "    p = math.ceil(value*100*100)/100\n",
    "    trainScorePer.append(p)\n",
    "trainScorePer    "
   ]
  },
  {
   "cell_type": "code",
   "execution_count": 102,
   "metadata": {
    "collapsed": false
   },
   "outputs": [
    {
     "data": {
      "text/plain": [
       "[6.13, 6.42, 6.31, 6.61, 6.51, 6.03]"
      ]
     },
     "execution_count": 102,
     "metadata": {},
     "output_type": "execute_result"
    }
   ],
   "source": [
    "import math\n",
    "testScorePer = []\n",
    "for key, value in test_scores_tress.items():\n",
    "    p = math.ceil(value*100*100)/100\n",
    "    testScorePer.append(p)\n",
    "testScorePer    "
   ]
  },
  {
   "cell_type": "code",
   "execution_count": 103,
   "metadata": {
    "collapsed": false
   },
   "outputs": [
    {
     "data": {
      "image/png": "[encoded data removed]",
      "text/plain": [
       "<matplotlib.figure.Figure at 0x7fce38317dd0>"
      ]
     },
     "metadata": {},
     "output_type": "display_data"
    }
   ],
   "source": [
    "#Plot Cross Validation Score\n",
    "import matplotlib.pyplot as plt\n",
    "plt.xlim(*(0,250))\n",
    "ylim=(0, 10)\n",
    "plt.ylim(*ylim)\n",
    "#labels = [\"testscore\", \"trainscore\", \"cvScore\"]\n",
    "plt.plot([5, 10, 30, 50, 100, 150],testScorePer, '.-', label='testscore')\n",
    "plt.plot([5, 10, 30, 50, 100, 150],trainScorePer, '.-', label='trainscore')\n",
    "plt.plot([5, 10, 30, 50, 100, 150],mean_cvPer, '.-', label='cvScore')\n",
    "plt.grid()\n",
    "plt.ylabel('Scores(test, train, cv)')\n",
    "plt.xlabel('number of tress')\n",
    "plt.legend(loc = 4)\n",
    "plt.show()"
   ]
  },
  {
   "cell_type": "markdown",
   "metadata": {},
   "source": [
    "### Conclusion: Model 3 and Model 6 performances are stable. We will consider these models during ensembling/"
   ]
  },
  {
   "cell_type": "code",
   "execution_count": 104,
   "metadata": {
    "collapsed": false
   },
   "outputs": [
    {
     "name": "stdout",
     "output_type": "stream",
     "text": [
      "('accuracy score for test - Model 6(in %) is:', 7.9356684376277133)\n"
     ]
    }
   ],
   "source": [
    "model6_RF = RandomForestClassifier(n_estimators=50, min_weight_fraction_leaf=0.1, random_state=3)\n",
    "popularityVar = ['popScoreHmc_Count', 'popScoreU_Count', 'popScoreSite_Count',\n",
    "       'popScoreDest_Count', 'popScoreCityDest_Count',\n",
    "       'popScoreCityH_Count'] \n",
    "model6_RF.fit(train[popularityVar], train['hotel_cluster'])\n",
    "test_score = model6_RF.score(test[popularityVar], test['hotel_cluster'])\n",
    "print(\"accuracy score for test - Model 6(in %) is:\",test_score*100)"
   ]
  },
  {
   "cell_type": "code",
   "execution_count": 107,
   "metadata": {
    "collapsed": false
   },
   "outputs": [
    {
     "name": "stdout",
     "output_type": "stream",
     "text": [
      "('accuracy score for test - Model 3(in %) is:', 6.3033391831141667)\n"
     ]
    }
   ],
   "source": [
    "model3_RF = RandomForestClassifier(n_estimators=50, min_weight_fraction_leaf=0.1, random_state=3)\n",
    "\n",
    "fatureEng1 = [    'part_of_day', 'type_of_day', 'season', \n",
    "                  'duration_of_stay', 'is_alone', \n",
    "                  'dest_feature_pc1', 'dest_feature_pc2', 'dest_feature_pc3' ]\n",
    "model3_RF.fit(train[fatureEng1], train['hotel_cluster'])\n",
    "test_score = model3_RF.score(test[fatureEng1], test['hotel_cluster'])\n",
    "print(\"accuracy score for test - Model 3(in %) is:\",test_score*100)"
   ]
  },
  {
   "cell_type": "markdown",
   "metadata": {},
   "source": [
    "Important Variables:"
   ]
  },
  {
   "cell_type": "code",
   "execution_count": 109,
   "metadata": {
    "collapsed": false
   },
   "outputs": [
    {
     "data": {
      "text/plain": [
       "['bookRate',\n",
       " 'user_location_country',\n",
       " 'popScoreCityH_Count',\n",
       " 'srch_adults_cnt',\n",
       " 'posa_continent',\n",
       " 'hotel_country',\n",
       " 'user_location_region',\n",
       " 'hotel_continent',\n",
       " 'srch_destination_id',\n",
       " 'part_of_day',\n",
       " 'clickRate',\n",
       " 'dest_feature_pc2',\n",
       " 'srch_destination_type_id',\n",
       " 'duration_of_stay',\n",
       " 'popScoreU_Count',\n",
       " 'popScoreSite_Count',\n",
       " 'season',\n",
       " 'is_alone',\n",
       " 'dest_feature_pc3',\n",
       " 'orig_destination_distance',\n",
       " 'dest_feature_pc1',\n",
       " 'bookHCRate',\n",
       " 'popScoreCityDest_Count',\n",
       " 'popScoreDest_Count',\n",
       " 'bookURate',\n",
       " 'is_package',\n",
       " 'hotel_market',\n",
       " 'popScoreHmc_Count',\n",
       " 'type_of_day',\n",
       " 'user_location_city']"
      ]
     },
     "execution_count": 109,
     "metadata": {},
     "output_type": "execute_result"
    }
   ],
   "source": [
    "# We will consider these features while training other models.\n",
    "IMPVarSet = list(set(impFeatureSet1 + impFeatureSet2 + impfeatureSet3 + fatureEng1 + popularityVar))\n",
    "IMPVarSet"
   ]
  }
 ],
 "metadata": {
  "anaconda-cloud": {},
  "kernelspec": {
   "display_name": "Python [conda root]",
   "language": "python",
   "name": "conda-root-py"
  },
  "language_info": {
   "codemirror_mode": {
    "name": "ipython",
    "version": 2
   },
   "file_extension": ".py",
   "mimetype": "text/x-python",
   "name": "python",
   "nbconvert_exporter": "python",
   "pygments_lexer": "ipython2",
   "version": "2.7.12"
  }
 },
 "nbformat": 4,
 "nbformat_minor": 1
}
