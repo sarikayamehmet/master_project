{
 "cells": [
  {
   "cell_type": "markdown",
   "metadata": {},
   "source": [
    "# Analysis of original train and test data on kaggle Expedia recommendation \n",
    "\n",
    "This scripts help to analyse how Kaggle generated their original train and test set for generation for \n",
    "generation new train and test to match the competition enviornment\n"
   ]
  },
  {
   "cell_type": "code",
   "execution_count": 1,
   "metadata": {
    "collapsed": false
   },
   "outputs": [
    {
     "name": "stdout",
     "output_type": "stream",
     "text": [
      "imported libraries . . . \n"
     ]
    }
   ],
   "source": [
    "import pandas as pd\n",
    "import numpy as np\n",
    "import matplotlib.pyplot as plt\n",
    "import seaborn as sns\n",
    "import gc\n",
    "%matplotlib inline\n",
    "print(\"imported libraries . . . \")"
   ]
  },
  {
   "cell_type": "code",
   "execution_count": 2,
   "metadata": {
    "collapsed": true
   },
   "outputs": [],
   "source": [
    "originalTrain = pd.read_csv(\"/home/smita/MP/train.csv\")"
   ]
  },
  {
   "cell_type": "code",
   "execution_count": 4,
   "metadata": {
    "collapsed": false
   },
   "outputs": [
    {
     "data": {
      "text/plain": [
       "(37670293, 24)"
      ]
     },
     "execution_count": 4,
     "metadata": {},
     "output_type": "execute_result"
    }
   ],
   "source": [
    "originalTrain.shape"
   ]
  },
  {
   "cell_type": "code",
   "execution_count": 11,
   "metadata": {
    "collapsed": false
   },
   "outputs": [
    {
     "name": "stdout",
     "output_type": "stream",
     "text": [
      "Columns and corresponsing values for a single row:\n"
     ]
    },
    {
     "data": {
      "text/plain": [
       "site_name                             2\n",
       "posa_continent                        3\n",
       "user_location_country                66\n",
       "user_location_region                348\n",
       "user_location_city                48862\n",
       "orig_destination_distance       2234.26\n",
       "user_id                              12\n",
       "is_mobile                             0\n",
       "is_package                            1\n",
       "channel                               9\n",
       "srch_ci                      2014-08-29\n",
       "srch_co                      2014-09-02\n",
       "srch_adults_cnt                       2\n",
       "srch_children_cnt                     0\n",
       "srch_rm_cnt                           1\n",
       "srch_destination_id                8250\n",
       "srch_destination_type_id              1\n",
       "is_booking                            1\n",
       "cnt                                   1\n",
       "hotel_continent                       2\n",
       "hotel_country                        50\n",
       "hotel_market                        628\n",
       "hotel_cluster                         1\n",
       "Name: 1, dtype: object"
      ]
     },
     "execution_count": 11,
     "metadata": {},
     "output_type": "execute_result"
    }
   ],
   "source": [
    "print(\"Columns and corresponsing values for a single row:\")\n",
    "originalTrain.iloc[1, 1:24]"
   ]
  },
  {
   "cell_type": "code",
   "execution_count": 15,
   "metadata": {
    "collapsed": false,
    "scrolled": false
   },
   "outputs": [
    {
     "name": "stdout",
     "output_type": "stream",
     "text": [
      "Unique values for  date_time is:  25419546\n",
      "-----------------------------------------------------------------------------\n",
      "Unique values for  site_name is:  45\n",
      "-----------------------------------------------------------------------------\n",
      "Unique values for  posa_continent is:  5\n",
      "-----------------------------------------------------------------------------\n",
      "Unique values for  user_location_country is:  237\n",
      "-----------------------------------------------------------------------------\n",
      "Unique values for  user_location_region is:  1008\n",
      "-----------------------------------------------------------------------------\n",
      "Unique values for  user_location_city is:  50447\n",
      "-----------------------------------------------------------------------------\n",
      "Unique values for  orig_destination_distance is:  8495290\n",
      "-----------------------------------------------------------------------------\n",
      "Unique values for  user_id is:  1198786\n",
      "-----------------------------------------------------------------------------\n",
      "Unique values for  is_mobile is:  2\n",
      "-----------------------------------------------------------------------------\n",
      "Unique values for  is_package is:  2\n",
      "-----------------------------------------------------------------------------\n",
      "Unique values for  channel is:  11\n",
      "-----------------------------------------------------------------------------\n",
      "Unique values for  srch_ci is:  1270\n",
      "-----------------------------------------------------------------------------\n",
      "Unique values for  srch_co is:  1263\n",
      "-----------------------------------------------------------------------------\n",
      "Unique values for  srch_adults_cnt is:  10\n",
      "-----------------------------------------------------------------------------\n",
      "Unique values for  srch_children_cnt is:  10\n",
      "-----------------------------------------------------------------------------\n",
      "Unique values for  srch_rm_cnt is:  9\n",
      "-----------------------------------------------------------------------------\n",
      "Unique values for  srch_destination_id is:  59455\n",
      "-----------------------------------------------------------------------------\n",
      "Unique values for  srch_destination_type_id is:  10\n",
      "-----------------------------------------------------------------------------\n",
      "Unique values for  is_booking is:  2\n",
      "-----------------------------------------------------------------------------\n",
      "Unique values for  cnt is:  104\n",
      "-----------------------------------------------------------------------------\n",
      "Unique values for  hotel_continent is:  7\n",
      "-----------------------------------------------------------------------------\n",
      "Unique values for  hotel_country is:  213\n",
      "-----------------------------------------------------------------------------\n",
      "Unique values for  hotel_market is:  2118\n",
      "-----------------------------------------------------------------------------\n",
      "Unique values for  hotel_cluster is:  100\n",
      "-----------------------------------------------------------------------------\n"
     ]
    }
   ],
   "source": [
    "for col in originalTrain:\n",
    "    length = len(originalTrain[col].unique())\n",
    "    print(\"Unique values for \", col, \"is: \", length)\n",
    "    print(\"-----------------------------------------------------------------------------\")  "
   ]
  },
  {
   "cell_type": "code",
   "execution_count": 27,
   "metadata": {
    "collapsed": true
   },
   "outputs": [],
   "source": [
    "originalTest = pd.read_csv(\"/home/smita/MP/test.csv\")"
   ]
  },
  {
   "cell_type": "code",
   "execution_count": 29,
   "metadata": {
    "collapsed": false
   },
   "outputs": [
    {
     "name": "stdout",
     "output_type": "stream",
     "text": [
      "Unique values for Original Test Set: \n",
      "***************************************************************************\n",
      "Unique values for id is:  2528243\n",
      "-----------------------------------------------------------------------------\n",
      "Unique values for date_time is:  2399366\n",
      "-----------------------------------------------------------------------------\n",
      "Unique values for site_name is:  53\n",
      "-----------------------------------------------------------------------------\n",
      "Unique values for posa_continent is:  5\n",
      "-----------------------------------------------------------------------------\n",
      "Unique values for user_location_country is:  236\n",
      "-----------------------------------------------------------------------------\n",
      "Unique values for user_location_region is:  988\n",
      "-----------------------------------------------------------------------------\n",
      "Unique values for user_location_city is:  36722\n",
      "-----------------------------------------------------------------------------\n",
      "Unique values for orig_destination_distance is:  1344827\n",
      "-----------------------------------------------------------------------------\n",
      "Unique values for user_id is:  1181577\n",
      "-----------------------------------------------------------------------------\n",
      "Unique values for is_mobile is:  2\n",
      "-----------------------------------------------------------------------------\n",
      "Unique values for is_package is:  2\n",
      "-----------------------------------------------------------------------------\n",
      "Unique values for channel is:  11\n",
      "-----------------------------------------------------------------------------\n",
      "Unique values for srch_ci is:  779\n",
      "-----------------------------------------------------------------------------\n",
      "Unique values for srch_co is:  773\n",
      "-----------------------------------------------------------------------------\n",
      "Unique values for srch_adults_cnt is:  10\n",
      "-----------------------------------------------------------------------------\n",
      "Unique values for srch_children_cnt is:  10\n",
      "-----------------------------------------------------------------------------\n",
      "Unique values for srch_rm_cnt is:  9\n",
      "-----------------------------------------------------------------------------\n",
      "Unique values for srch_destination_id is:  40718\n",
      "-----------------------------------------------------------------------------\n",
      "Unique values for srch_destination_type_id is:  8\n",
      "-----------------------------------------------------------------------------\n",
      "Unique values for hotel_continent is:  7\n",
      "-----------------------------------------------------------------------------\n",
      "Unique values for hotel_country is:  206\n",
      "-----------------------------------------------------------------------------\n",
      "Unique values for hotel_market is:  2115\n",
      "-----------------------------------------------------------------------------\n"
     ]
    }
   ],
   "source": [
    "print(\"Unique values for Original Test Set: \")\n",
    "print(\"***************************************************************************\")\n",
    "for col in originalTest:\n",
    "    length = len(originalTest[col].unique())\n",
    "    print(\"Unique values for\", col, \"is: \", length)\n",
    "    print(\"-----------------------------------------------------------------------------\") "
   ]
  },
  {
   "cell_type": "code",
   "execution_count": 36,
   "metadata": {
    "collapsed": false
   },
   "outputs": [
    {
     "data": {
      "text/plain": [
       "array(['id', 'date_time', 'site_name', 'posa_continent',\n",
       "       'user_location_country', 'user_location_region',\n",
       "       'user_location_city', 'orig_destination_distance', 'user_id',\n",
       "       'is_mobile', 'is_package', 'channel', 'srch_ci', 'srch_co',\n",
       "       'srch_adults_cnt', 'srch_children_cnt', 'srch_rm_cnt',\n",
       "       'srch_destination_id', 'srch_destination_type_id',\n",
       "       'hotel_continent', 'hotel_country', 'hotel_market'], dtype=object)"
      ]
     },
     "execution_count": 36,
     "metadata": {},
     "output_type": "execute_result"
    }
   ],
   "source": [
    "originalTest.columns.values"
   ]
  },
  {
   "cell_type": "code",
   "execution_count": 50,
   "metadata": {
    "collapsed": true
   },
   "outputs": [],
   "source": [
    "cols = ['user_id','site_name', 'posa_continent','user_location_country', \n",
    "'user_location_region', 'user_location_city', 'srch_destination_id', 'srch_destination_type_id',\n",
    "'hotel_country', 'hotel_continent', 'hotel_market']"
   ]
  },
  {
   "cell_type": "code",
   "execution_count": 39,
   "metadata": {
    "collapsed": false
   },
   "outputs": [],
   "source": [
    "cols = ['user_id']"
   ]
  },
  {
   "cell_type": "code",
   "execution_count": 44,
   "metadata": {
    "collapsed": false
   },
   "outputs": [
    {
     "data": {
      "text/plain": [
       "'user_id'"
      ]
     },
     "execution_count": 44,
     "metadata": {},
     "output_type": "execute_result"
    }
   ],
   "source": [
    "cols[0]"
   ]
  },
  {
   "cell_type": "code",
   "execution_count": 47,
   "metadata": {
    "collapsed": false
   },
   "outputs": [
    {
     "name": "stdout",
     "output_type": "stream",
     "text": [
      "user_id\n"
     ]
    }
   ],
   "source": [
    "for col in cols:\n",
    "    print(col)"
   ]
  },
  {
   "cell_type": "code",
   "execution_count": null,
   "metadata": {
    "collapsed": true
   },
   "outputs": [],
   "source": [
    "col = 'user_id'"
   ]
  },
  {
   "cell_type": "code",
   "execution_count": 48,
   "metadata": {
    "collapsed": false
   },
   "outputs": [
    {
     "data": {
      "text/plain": [
       "1198786"
      ]
     },
     "execution_count": 48,
     "metadata": {},
     "output_type": "execute_result"
    }
   ],
   "source": [
    "len(originalTrain[col].unique())"
   ]
  },
  {
   "cell_type": "markdown",
   "metadata": {},
   "source": [
    "#### Do we have any new users, cities, continents, destinations, hotel countries, continent, hotel_market in the original test set"
   ]
  },
  {
   "cell_type": "code",
   "execution_count": 55,
   "metadata": {
    "collapsed": false
   },
   "outputs": [
    {
     "name": "stdout",
     "output_type": "stream",
     "text": [
      "All ids for user_id overlap with train set ids\n",
      "Test test contains new 9 for site_name\n",
      "All ids for posa_continent overlap with train set ids\n",
      "Test test contains new 3 for user_location_country\n",
      "Test test contains new 20 for user_location_region\n",
      "Test test contains new 6063 for user_location_city\n",
      "Test test contains new 6326 for srch_destination_id\n",
      "All ids for srch_destination_type_id overlap with train set ids\n",
      "All ids for hotel_country overlap with train set ids\n",
      "All ids for hotel_continent overlap with train set ids\n",
      "All ids for hotel_market overlap with train set ids\n"
     ]
    }
   ],
   "source": [
    "for col in cols:\n",
    "   \n",
    "    idtrain = set(originalTrain[col].unique())\n",
    "    idtest = set(originalTest[col].unique())\n",
    "    commonID = len(idtrain & idtest)\n",
    "    if commonID == len(idtest):\n",
    "        print(\"All ids for\", col, \"overlap with train set ids\")\n",
    "    else:\n",
    "        newids = len(idtest) - commonID\n",
    "        print(\"Test test contains new\", newids, \"for\", col)"
   ]
  }
 ],
 "metadata": {
  "anaconda-cloud": {},
  "kernelspec": {
   "display_name": "Python [conda root]",
   "language": "python",
   "name": "conda-root-py"
  },
  "language_info": {
   "codemirror_mode": {
    "name": "ipython",
    "version": 3
   },
   "file_extension": ".py",
   "mimetype": "text/x-python",
   "name": "python",
   "nbconvert_exporter": "python",
   "pygments_lexer": "ipython3",
   "version": "3.5.2"
  }
 },
 "nbformat": 4,
 "nbformat_minor": 1
}
