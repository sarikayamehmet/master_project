{
 "cells": [
  {
   "cell_type": "markdown",
   "metadata": {},
   "source": [
    "### Data Preparation for model"
   ]
  },
  {
   "cell_type": "code",
   "execution_count": 5,
   "metadata": {
    "collapsed": true
   },
   "outputs": [],
   "source": [
    "import pandas as pd\n",
    "import matplotlib.pyplot as plt\n",
    "import numpy as np"
   ]
  },
  {
   "cell_type": "markdown",
   "metadata": {
    "collapsed": true
   },
   "source": [
    "### Load the 2013 data"
   ]
  },
  {
   "cell_type": "code",
   "execution_count": 32,
   "metadata": {
    "collapsed": false
   },
   "outputs": [
    {
     "name": "stdout",
     "output_type": "stream",
     "text": [
      "Initially, we have 11186881 and 24 variables in our data including the response.\n"
     ]
    }
   ],
   "source": [
    "data  = pd.read_csv(\"/home/smita/MP/train_all_2013.csv\")\n",
    "del data['year']\n",
    "del data['Unnamed: 0']\n",
    "print(\"Initially, we have\", data.shape[0], \"and\", data.shape[1],\"variables in our data including the response.\")"
   ]
  },
  {
   "cell_type": "markdown",
   "metadata": {},
   "source": [
    "We create our downsampled data, we first spilt the data by booking and clicks event. Rationale behind this is our data is highyly\n",
    "imbalanced in terms of booking data. We only 10 % booking data.\n"
   ]
  },
  {
   "cell_type": "code",
   "execution_count": 33,
   "metadata": {
    "collapsed": false
   },
   "outputs": [
    {
     "name": "stdout",
     "output_type": "stream",
     "text": [
      "size of the booking data (1024389, 24)\n",
      "We have data for 387825 users who booked the hotels\n"
     ]
    }
   ],
   "source": [
    "data1 = data[data.is_booking==1] # separate booking data\n",
    "print(\"size of the booking data\", data1.shape)\n",
    "unique_users = data1.user_id.unique()\n",
    "print(\"We have data for\", len(unique_users), \"users who booked the hotels\")"
   ]
  },
  {
   "cell_type": "code",
   "execution_count": 34,
   "metadata": {
    "collapsed": false
   },
   "outputs": [
    {
     "name": "stdout",
     "output_type": "stream",
     "text": [
      "size of the click data (10162492, 24)\n",
      "We have data for 634903 users who only cliked the hotels\n"
     ]
    }
   ],
   "source": [
    "data0 = data[data.is_booking==0] # separate click data\n",
    "print(\"size of the click data\", data0.shape)\n",
    "unique_users = data0.user_id.unique()\n",
    "print(\"We have data for\", len(unique_users), \"users who only cliked the hotels\")"
   ]
  },
  {
   "cell_type": "markdown",
   "metadata": {},
   "source": [
    "#### This block of code randomly select booking data for 1,93,912 unique users"
   ]
  },
  {
   "cell_type": "code",
   "execution_count": 20,
   "metadata": {
    "collapsed": false
   },
   "outputs": [
    {
     "name": "stdout",
     "output_type": "stream",
     "text": [
      "We have data for 387825 users\n",
      "new sample contains 512950 rows and 26 columns\n"
     ]
    }
   ],
   "source": [
    "import random\n",
    "random.seed(8)\n",
    "unique_users = data1.user_id.unique()\n",
    "print(\"We have data for\", len(unique_users), \"users\")\n",
    "sel_user_ids = [unique_users[i] for i in sorted(random.sample(range(len(unique_users)), 193912)) ]\n",
    "train1 = data1[data1.user_id.isin(sel_user_ids)]\n",
    "print(\"new sample contains\", train1.shape[0], \"rows and\", train1.shape[1], \"columns\")"
   ]
  },
  {
   "cell_type": "markdown",
   "metadata": {},
   "source": [
    "### This block of code randomly select click data for 60000 unique users"
   ]
  },
  {
   "cell_type": "code",
   "execution_count": 23,
   "metadata": {
    "collapsed": false
   },
   "outputs": [
    {
     "name": "stdout",
     "output_type": "stream",
     "text": [
      "We have data for 634903 users\n",
      "new sample contains 958461 rows and 26 columns\n"
     ]
    }
   ],
   "source": [
    "import random\n",
    "random.seed(8)\n",
    "unique_users = data0.user_id.unique()\n",
    "print(\"We have data for\", len(unique_users), \"users\")\n",
    "sel_user_ids = [unique_users[i] for i in sorted(random.sample(range(len(unique_users)), 60000)) ]\n",
    "train2 = data0[data0.user_id.isin(sel_user_ids)]\n",
    "print(\"new sample contains\", train2.shape[0], \"rows and\", train2.shape[1], \"columns\")"
   ]
  },
  {
   "cell_type": "code",
   "execution_count": 36,
   "metadata": {
    "collapsed": false
   },
   "outputs": [
    {
     "name": "stdout",
     "output_type": "stream",
     "text": [
      "training set constitute 1471411 rows\n"
     ]
    }
   ],
   "source": [
    "# Combine click and booking data\n",
    "train = train1.append(train2)\n",
    "print(\"training set constitute\", train.shape[0], \"rows\")"
   ]
  },
  {
   "cell_type": "markdown",
   "metadata": {},
   "source": [
    "### Test Set up"
   ]
  },
  {
   "cell_type": "code",
   "execution_count": 27,
   "metadata": {
    "collapsed": true
   },
   "outputs": [],
   "source": [
    "data  = pd.read_csv(\"/home/smita/MP/train_all_2014.csv\")"
   ]
  },
  {
   "cell_type": "code",
   "execution_count": 30,
   "metadata": {
    "collapsed": false
   },
   "outputs": [
    {
     "name": "stdout",
     "output_type": "stream",
     "text": [
      "We have 235750 unique users in the training set\n",
      "new test contains 123506 rows and 26 columns\n"
     ]
    }
   ],
   "source": [
    "# This block of code randomly select 2014 booking data for 50000 unique users in 2013\n",
    "import random\n",
    "random.seed(12)\n",
    "unique_users = train.user_id.unique()\n",
    "print(\"We have\", len(unique_users), \"unique users in the training set\")\n",
    "sel_user_ids = [unique_users[i] for i in sorted(random.sample(range(len(unique_users)), 50000)) ]\n",
    "test = data[data.user_id.isin(sel_user_ids)]\n",
    "test = test[test.is_booking ==1]\n",
    "print(\"new test contains\", test.shape[0], \"rows and\", test.shape[1], \"columns\")"
   ]
  },
  {
   "cell_type": "code",
   "execution_count": 37,
   "metadata": {
    "collapsed": false
   },
   "outputs": [
    {
     "data": {
      "text/plain": [
       "array(['Unnamed: 0', 'date_time', 'site_name', 'posa_continent',\n",
       "       'user_location_country', 'user_location_region',\n",
       "       'user_location_city', 'orig_destination_distance', 'user_id',\n",
       "       'is_mobile', 'is_package', 'channel', 'srch_ci', 'srch_co',\n",
       "       'srch_adults_cnt', 'srch_children_cnt', 'srch_rm_cnt',\n",
       "       'srch_destination_id', 'srch_destination_type_id', 'is_booking',\n",
       "       'cnt', 'hotel_continent', 'hotel_country', 'hotel_market',\n",
       "       'hotel_cluster', 'year'], dtype=object)"
      ]
     },
     "execution_count": 37,
     "metadata": {},
     "output_type": "execute_result"
    }
   ],
   "source": [
    "test.columns.values"
   ]
  },
  {
   "cell_type": "code",
   "execution_count": 39,
   "metadata": {
    "collapsed": false
   },
   "outputs": [
    {
     "data": {
      "text/plain": [
       "(123506, 24)"
      ]
     },
     "execution_count": 39,
     "metadata": {},
     "output_type": "execute_result"
    }
   ],
   "source": [
    "test.shape"
   ]
  },
  {
   "cell_type": "code",
   "execution_count": 40,
   "metadata": {
    "collapsed": true
   },
   "outputs": [],
   "source": [
    "## save this state for later use\n",
    "#train.to_csv(\"/home/smita/Final/Sampledtrain2013.csv\")\n",
    "#test.to_csv(\"/home/smita/Final/test2014.csv\")"
   ]
  },
  {
   "cell_type": "markdown",
   "metadata": {},
   "source": [
    "Next, we use '~/Final/data_generation_script1.R' to create feature using discretization process."
   ]
  },
  {
   "cell_type": "code",
   "execution_count": 44,
   "metadata": {
    "collapsed": true
   },
   "outputs": [],
   "source": [
    "train = pd.read_csv(\"~/Final/Sampledtrain2013Stage1.csv\")\n",
    "test = pd.read_csv(\"~/Final/test2014Stage1.csv\")"
   ]
  },
  {
   "cell_type": "code",
   "execution_count": 64,
   "metadata": {
    "collapsed": false
   },
   "outputs": [
    {
     "data": {
      "text/html": [
       "<div>\n",
       "<table border=\"1\" class=\"dataframe\">\n",
       "  <thead>\n",
       "    <tr style=\"text-align: right;\">\n",
       "      <th></th>\n",
       "      <th>hotel_cluster</th>\n",
       "      <th>year</th>\n",
       "      <th>month</th>\n",
       "      <th>day</th>\n",
       "      <th>hour</th>\n",
       "      <th>type_of_day</th>\n",
       "      <th>season</th>\n",
       "      <th>is_alone</th>\n",
       "      <th>dest_feature_pc1</th>\n",
       "      <th>dest_feature_pc2</th>\n",
       "      <th>dest_feature_pc3</th>\n",
       "    </tr>\n",
       "  </thead>\n",
       "  <tbody>\n",
       "    <tr>\n",
       "      <th>1</th>\n",
       "      <td>30</td>\n",
       "      <td>2013</td>\n",
       "      <td>3</td>\n",
       "      <td>31</td>\n",
       "      <td>22</td>\n",
       "      <td>0</td>\n",
       "      <td>1</td>\n",
       "      <td>1.0</td>\n",
       "      <td>1.153878</td>\n",
       "      <td>0.303059</td>\n",
       "      <td>0.92731</td>\n",
       "    </tr>\n",
       "    <tr>\n",
       "      <th>2</th>\n",
       "      <td>20</td>\n",
       "      <td>2013</td>\n",
       "      <td>4</td>\n",
       "      <td>3</td>\n",
       "      <td>0</td>\n",
       "      <td>1</td>\n",
       "      <td>1</td>\n",
       "      <td>0.0</td>\n",
       "      <td>1.153878</td>\n",
       "      <td>0.303059</td>\n",
       "      <td>0.92731</td>\n",
       "    </tr>\n",
       "  </tbody>\n",
       "</table>\n",
       "</div>"
      ],
      "text/plain": [
       "   hotel_cluster  year  month  day  hour  type_of_day  season  is_alone  \\\n",
       "1             30  2013      3   31    22            0       1       1.0   \n",
       "2             20  2013      4    3     0            1       1       0.0   \n",
       "\n",
       "   dest_feature_pc1  dest_feature_pc2  dest_feature_pc3  \n",
       "1          1.153878          0.303059           0.92731  \n",
       "2          1.153878          0.303059           0.92731  "
      ]
     },
     "execution_count": 64,
     "metadata": {},
     "output_type": "execute_result"
    }
   ],
   "source": [
    "newVar = [26, 27, 28, 29, 30, 32, 33, 34, 36, 37, 38]\n",
    "train.iloc[1:3, newVar]"
   ]
  },
  {
   "cell_type": "code",
   "execution_count": 65,
   "metadata": {
    "collapsed": false,
    "scrolled": true
   },
   "outputs": [
    {
     "data": {
      "text/html": [
       "<div>\n",
       "<table border=\"1\" class=\"dataframe\">\n",
       "  <thead>\n",
       "    <tr style=\"text-align: right;\">\n",
       "      <th></th>\n",
       "      <th>year</th>\n",
       "      <th>month</th>\n",
       "      <th>day</th>\n",
       "      <th>hour</th>\n",
       "      <th>part_of_day</th>\n",
       "      <th>season</th>\n",
       "      <th>duration_of_stay</th>\n",
       "      <th>is_alone</th>\n",
       "      <th>dest_feature_pc1</th>\n",
       "      <th>dest_feature_pc2</th>\n",
       "      <th>dest_feature_pc3</th>\n",
       "    </tr>\n",
       "  </thead>\n",
       "  <tbody>\n",
       "    <tr>\n",
       "      <th>1</th>\n",
       "      <td>2014</td>\n",
       "      <td>8</td>\n",
       "      <td>13</td>\n",
       "      <td>13</td>\n",
       "      <td>2.0</td>\n",
       "      <td>2</td>\n",
       "      <td>4</td>\n",
       "      <td>1.0</td>\n",
       "      <td>-3.727968</td>\n",
       "      <td>-0.584871</td>\n",
       "      <td>0.403375</td>\n",
       "    </tr>\n",
       "    <tr>\n",
       "      <th>2</th>\n",
       "      <td>2014</td>\n",
       "      <td>12</td>\n",
       "      <td>28</td>\n",
       "      <td>7</td>\n",
       "      <td>1.0</td>\n",
       "      <td>4</td>\n",
       "      <td>2</td>\n",
       "      <td>1.0</td>\n",
       "      <td>-3.727968</td>\n",
       "      <td>-0.584871</td>\n",
       "      <td>0.403375</td>\n",
       "    </tr>\n",
       "  </tbody>\n",
       "</table>\n",
       "</div>"
      ],
      "text/plain": [
       "   year  month  day  hour  part_of_day  season  duration_of_stay  is_alone  \\\n",
       "1  2014      8   13    13          2.0       2                 4       1.0   \n",
       "2  2014     12   28     7          1.0       4                 2       1.0   \n",
       "\n",
       "   dest_feature_pc1  dest_feature_pc2  dest_feature_pc3  \n",
       "1         -3.727968         -0.584871          0.403375  \n",
       "2         -3.727968         -0.584871          0.403375  "
      ]
     },
     "execution_count": 65,
     "metadata": {},
     "output_type": "execute_result"
    }
   ],
   "source": [
    "test.iloc[1:3, newVar]"
   ]
  },
  {
   "cell_type": "code",
   "execution_count": 66,
   "metadata": {
    "collapsed": false
   },
   "outputs": [
    {
     "data": {
      "text/plain": [
       "271"
      ]
     },
     "execution_count": 66,
     "metadata": {},
     "output_type": "execute_result"
    }
   ],
   "source": [
    "del train\n",
    "del test \n",
    "gc.collect()"
   ]
  },
  {
   "cell_type": "markdown",
   "metadata": {},
   "source": [
    "Next, we create features using books clicks using script \"~/Final/data_preprationBookclicks.R\""
   ]
  },
  {
   "cell_type": "code",
   "execution_count": 87,
   "metadata": {
    "collapsed": true
   },
   "outputs": [],
   "source": [
    "train = pd.read_csv(\"~/Final/sampleTrain2013stage2.csv\")\n",
    "test = pd.read_csv(\"~/Final/test2014stage2.csv\")"
   ]
  },
  {
   "cell_type": "code",
   "execution_count": 91,
   "metadata": {
    "collapsed": false
   },
   "outputs": [],
   "source": [
    "#del indice column\n",
    "selectCols = ['user_location_country', 'hotel_cluster',\n",
    "       'user_location_region', 'user_location_city', 'hotel_country',\n",
    "       'hotel_market', 'srch_destination_id',\n",
    "       'date_time', 'site_name', 'posa_continent',\n",
    "       'orig_destination_distance', 'user_id', 'is_mobile', 'is_package',\n",
    "       'channel', 'srch_ci', 'srch_co', 'srch_adults_cnt',\n",
    "       'srch_children_cnt', 'srch_rm_cnt', 'srch_destination_type_id',\n",
    "       'is_booking', 'cnt', 'hotel_continent', 'year', 'month', 'day',\n",
    "       'hour', 'part_of_day', 'type_of_day', 'season', 'is_alone',\n",
    "       'dest_feature_pc1', 'dest_feature_pc2', 'dest_feature_pc3',\n",
    "       'clickRate', 'bookRate', 'clickMRate', 'bookMRate', 'clickHCRate',\n",
    "       'bookHCRate', 'clickURate', 'bookURate', 'clickUCRRate',\n",
    "       'bookUCRRate', 'clickUCRate', 'bookUCRate']"
   ]
  },
  {
   "cell_type": "code",
   "execution_count": 95,
   "metadata": {
    "collapsed": false
   },
   "outputs": [],
   "source": [
    "train = train[selectCols]\n",
    "test = test[selectCols]"
   ]
  },
  {
   "cell_type": "code",
   "execution_count": 97,
   "metadata": {
    "collapsed": false
   },
   "outputs": [
    {
     "data": {
      "text/plain": [
       "(1471411, 47)"
      ]
     },
     "execution_count": 97,
     "metadata": {},
     "output_type": "execute_result"
    }
   ],
   "source": [
    "train.shape"
   ]
  },
  {
   "cell_type": "code",
   "execution_count": 98,
   "metadata": {
    "collapsed": false
   },
   "outputs": [
    {
     "data": {
      "text/plain": [
       "(123506, 47)"
      ]
     },
     "execution_count": 98,
     "metadata": {},
     "output_type": "execute_result"
    }
   ],
   "source": [
    "test.shape"
   ]
  },
  {
   "cell_type": "markdown",
   "metadata": {},
   "source": [
    "##### Stage 3"
   ]
  },
  {
   "cell_type": "code",
   "execution_count": 2,
   "metadata": {
    "collapsed": true
   },
   "outputs": [],
   "source": [
    "train = pd.read_csv(\"~/cleantrain2013Stage3.csv\")\n",
    "test = pd.read_csv(\"~/cleantest2014Stage3.csv\")"
   ]
  },
  {
   "cell_type": "code",
   "execution_count": 3,
   "metadata": {
    "collapsed": true
   },
   "outputs": [],
   "source": [
    "del train['Unnamed: 0']\n",
    "del test['Unnamed: 0']"
   ]
  },
  {
   "cell_type": "code",
   "execution_count": 4,
   "metadata": {
    "collapsed": false
   },
   "outputs": [
    {
     "data": {
      "text/plain": [
       "(1471411, 47)"
      ]
     },
     "execution_count": 4,
     "metadata": {},
     "output_type": "execute_result"
    }
   ],
   "source": [
    "train.shape"
   ]
  },
  {
   "cell_type": "code",
   "execution_count": 5,
   "metadata": {
    "collapsed": false
   },
   "outputs": [
    {
     "data": {
      "text/plain": [
       "(123506, 47)"
      ]
     },
     "execution_count": 5,
     "metadata": {},
     "output_type": "execute_result"
    }
   ],
   "source": [
    "test.shape"
   ]
  },
  {
   "cell_type": "code",
   "execution_count": 14,
   "metadata": {
    "collapsed": false
   },
   "outputs": [
    {
     "name": "stdout",
     "output_type": "stream",
     "text": [
      "('We have', 235750, 'unique users in the training set')\n"
     ]
    }
   ],
   "source": [
    "unique_users = train.user_id.unique()\n",
    "print(\"We have\", len(unique_users), \"unique users in the training set\")"
   ]
  },
  {
   "cell_type": "markdown",
   "metadata": {},
   "source": [
    "### Add new features using books click weightage"
   ]
  },
  {
   "cell_type": "code",
   "execution_count": 6,
   "metadata": {
    "collapsed": true
   },
   "outputs": [],
   "source": [
    "\n",
    "\"Create book and click Scores:\"\n",
    "    \n",
    "#Get the book/click rate by hotel attributes and  month. This is in a hope we willl capture \n",
    "#which hotels popular in a particular month\"\"\n",
    "\n",
    "columns = ['month', 'hotel_continent','hotel_country','is_booking']\n",
    "grps = ['month', 'hotel_continent','hotel_country']\n",
    "data = train[columns]\n",
    "l = data.groupby(grps)['is_booking'].agg(['sum', 'count'])\n",
    "l['popScoreHmc'] = l['sum']+0.25*0.75 + l['count']*0.40  # We give some random weight. However, we give booking always a high weight\n",
    "del l['sum']\n",
    "del l['count']\n",
    "l = l.add_suffix('_Count').reset_index()\n",
    "\n",
    "train = train.merge(l, how='left', left_on=grps, right_on=grps)\n",
    "test = test.merge(l, how='left', left_on=grps, right_on=grps)\n",
    "\n",
    "\n",
    "# Get the clicks and booking score bu user attributes\n",
    "columns = ['user_location_country', 'user_location_region','user_location_city','is_booking']\n",
    "grps = ['user_location_country', 'user_location_region','user_location_city']\n",
    "data = train[columns]\n",
    "l = data.groupby(grps)['is_booking'].agg(['sum', 'count'])\n",
    "l['popScoreU'] = l['sum']+0.25*0.75 + l['count']*0.40\n",
    "del l['sum']\n",
    "del l['count']\n",
    "l = l.add_suffix('_Count').reset_index()\n",
    "\n",
    "train = train.merge(l, how='left', left_on=grps, right_on=grps)\n",
    "test = test.merge(l, how='left', left_on=grps, right_on=grps)\n",
    "\n",
    "\n",
    "# Get the clicks and booking site and cotinent like .com \n",
    "\n",
    "columns = ['posa_continent', 'site_name','hotel_market','is_booking']\n",
    "grps = ['posa_continent', 'site_name','hotel_market']\n",
    "data = train[columns]\n",
    "l = data.groupby(grps)['is_booking'].agg(['sum', 'count'])\n",
    "l['popScoreSite'] = l['sum']+0.15*0.75 + l['count']*0.45\n",
    "del l['sum']\n",
    "del l['count']\n",
    "l = l.add_suffix('_Count').reset_index()\n",
    "train = train.merge(l, how='left', left_on=grps, right_on=grps)\n",
    "test = test.merge(l, how='left', left_on=grps, right_on=grps)\n",
    "\n",
    "\n",
    "# Get the scores by search dest and type\n",
    "\n",
    "columns = ['srch_destination_id', 'srch_destination_type_id','is_booking']\n",
    "grps = ['srch_destination_id', 'srch_destination_type_id']\n",
    "data = train[columns]\n",
    "l = data.groupby(grps)['is_booking'].agg(['sum', 'count'])\n",
    "l['popScoreDest'] = l['sum']+0.1*0.50 + l['count']*0.30\n",
    "del l['sum']\n",
    "del l['count']\n",
    "l = l.add_suffix('_Count').reset_index()\n",
    "\n",
    "train = train.merge(l, how='left', left_on=grps, right_on=grps)\n",
    "test = test.merge(l, how='left', left_on=grps, right_on=grps)\n",
    "\n",
    "# Get the clicks and booking based on destination and user city\n",
    "\n",
    "columns = ['srch_destination_id', 'user_location_city','is_booking']\n",
    "grps = ['srch_destination_id', 'user_location_city']\n",
    "data = train[columns]\n",
    "l = data.groupby(grps)['is_booking'].agg(['sum', 'count'])\n",
    "l['popScoreCityDest'] = l['sum']+0.2*0.70 + l['count']*0.40\n",
    "del l['sum']\n",
    "del l['count']\n",
    "l = l.add_suffix('_Count').reset_index()\n",
    "\n",
    "train = train.merge(l, how='left', left_on=grps, right_on=grps)\n",
    "test = test.merge(l, how='left', left_on=grps, right_on=grps)\n",
    "\n",
    "# Get the clicks and booking based on destination and user city\n",
    "\n",
    "columns = ['user_location_region', 'user_location_country', 'hotel_country','is_booking']\n",
    "grps =  ['user_location_region', 'user_location_country', 'hotel_country']\n",
    "data = train[columns]\n",
    "l = data.groupby(grps)['is_booking'].agg(['sum', 'count'])\n",
    "l['popScoreCityH'] = l['sum']+0.3*0.65 + l['count']*0.50\n",
    "del l['sum']\n",
    "del l['count']\n",
    "l = l.add_suffix('_Count').reset_index()\n",
    "train = train.merge(l, how='left', left_on=grps, right_on=grps)\n",
    "test = test.merge(l, how='left', left_on=grps, right_on=grps)\n",
    "\n"
   ]
  },
  {
   "cell_type": "code",
   "execution_count": 7,
   "metadata": {
    "collapsed": false
   },
   "outputs": [
    {
     "data": {
      "text/plain": [
       "(1471411, 53)"
      ]
     },
     "execution_count": 7,
     "metadata": {},
     "output_type": "execute_result"
    }
   ],
   "source": [
    "train.shape"
   ]
  },
  {
   "cell_type": "code",
   "execution_count": 8,
   "metadata": {
    "collapsed": false
   },
   "outputs": [
    {
     "data": {
      "text/plain": [
       "(123506, 53)"
      ]
     },
     "execution_count": 8,
     "metadata": {},
     "output_type": "execute_result"
    }
   ],
   "source": [
    "test.shape"
   ]
  },
  {
   "cell_type": "code",
   "execution_count": 10,
   "metadata": {
    "collapsed": false
   },
   "outputs": [
    {
     "data": {
      "text/plain": [
       "array(['user_location_country', 'hotel_cluster', 'user_location_region',\n",
       "       'user_location_city', 'hotel_country', 'hotel_market',\n",
       "       'srch_destination_id', 'date_time', 'site_name', 'posa_continent',\n",
       "       'orig_destination_distance', 'user_id', 'is_mobile', 'is_package',\n",
       "       'channel', 'srch_ci', 'srch_co', 'srch_adults_cnt',\n",
       "       'srch_children_cnt', 'srch_rm_cnt', 'srch_destination_type_id',\n",
       "       'is_booking', 'cnt', 'hotel_continent', 'year', 'month', 'day',\n",
       "       'hour', 'part_of_day', 'type_of_day', 'season', 'is_alone',\n",
       "       'dest_feature_pc1', 'dest_feature_pc2', 'dest_feature_pc3',\n",
       "       'clickRate', 'bookRate', 'clickMRate', 'bookMRate', 'clickHCRate',\n",
       "       'bookHCRate', 'clickURate', 'bookURate', 'clickUCRRate',\n",
       "       'bookUCRRate', 'clickUCRate', 'bookUCRate', 'popScoreHmc_Count',\n",
       "       'popScoreU_Count', 'popScoreSite_Count', 'popScoreDest_Count',\n",
       "       'popScoreCityDest_Count', 'popScoreCityH_Count'], dtype=object)"
      ]
     },
     "execution_count": 10,
     "metadata": {},
     "output_type": "execute_result"
    }
   ],
   "source": [
    "train.columns.values"
   ]
  },
  {
   "cell_type": "code",
   "execution_count": 12,
   "metadata": {
    "collapsed": false
   },
   "outputs": [
    {
     "data": {
      "text/html": [
       "<div>\n",
       "<table border=\"1\" class=\"dataframe\">\n",
       "  <thead>\n",
       "    <tr style=\"text-align: right;\">\n",
       "      <th></th>\n",
       "      <th>popScoreHmc_Count</th>\n",
       "      <th>popScoreU_Count</th>\n",
       "      <th>popScoreSite_Count</th>\n",
       "      <th>popScoreDest_Count</th>\n",
       "      <th>popScoreCityDest_Count</th>\n",
       "      <th>popScoreCityH_Count</th>\n",
       "    </tr>\n",
       "  </thead>\n",
       "  <tbody>\n",
       "    <tr>\n",
       "      <th>1</th>\n",
       "      <td>7281.5875</td>\n",
       "      <td>884.1875</td>\n",
       "      <td>1.5625</td>\n",
       "      <td>529.95</td>\n",
       "      <td>1.54</td>\n",
       "      <td>10.695</td>\n",
       "    </tr>\n",
       "    <tr>\n",
       "      <th>2</th>\n",
       "      <td>52363.9875</td>\n",
       "      <td>3.5875</td>\n",
       "      <td>12.4125</td>\n",
       "      <td>6686.35</td>\n",
       "      <td>1.34</td>\n",
       "      <td>164.695</td>\n",
       "    </tr>\n",
       "  </tbody>\n",
       "</table>\n",
       "</div>"
      ],
      "text/plain": [
       "   popScoreHmc_Count  popScoreU_Count  popScoreSite_Count  popScoreDest_Count  \\\n",
       "1          7281.5875         884.1875              1.5625              529.95   \n",
       "2         52363.9875           3.5875             12.4125             6686.35   \n",
       "\n",
       "   popScoreCityDest_Count  popScoreCityH_Count  \n",
       "1                    1.54               10.695  \n",
       "2                    1.34              164.695  "
      ]
     },
     "execution_count": 12,
     "metadata": {},
     "output_type": "execute_result"
    }
   ],
   "source": [
    "train.iloc[1:3, 47:]"
   ]
  },
  {
   "cell_type": "code",
   "execution_count": 13,
   "metadata": {
    "collapsed": false
   },
   "outputs": [
    {
     "data": {
      "text/html": [
       "<div>\n",
       "<table border=\"1\" class=\"dataframe\">\n",
       "  <thead>\n",
       "    <tr style=\"text-align: right;\">\n",
       "      <th></th>\n",
       "      <th>popScoreHmc_Count</th>\n",
       "      <th>popScoreU_Count</th>\n",
       "      <th>popScoreSite_Count</th>\n",
       "      <th>popScoreDest_Count</th>\n",
       "      <th>popScoreCityDest_Count</th>\n",
       "      <th>popScoreCityH_Count</th>\n",
       "    </tr>\n",
       "  </thead>\n",
       "  <tbody>\n",
       "    <tr>\n",
       "      <th>1</th>\n",
       "      <td>839.7875</td>\n",
       "      <td>295.5875</td>\n",
       "      <td>86.5625</td>\n",
       "      <td>5307.35</td>\n",
       "      <td>1.54</td>\n",
       "      <td>34.195</td>\n",
       "    </tr>\n",
       "    <tr>\n",
       "      <th>2</th>\n",
       "      <td>693.9875</td>\n",
       "      <td>901.7875</td>\n",
       "      <td>4020.7625</td>\n",
       "      <td>835.25</td>\n",
       "      <td>0.94</td>\n",
       "      <td>34.195</td>\n",
       "    </tr>\n",
       "  </tbody>\n",
       "</table>\n",
       "</div>"
      ],
      "text/plain": [
       "   popScoreHmc_Count  popScoreU_Count  popScoreSite_Count  popScoreDest_Count  \\\n",
       "1           839.7875         295.5875             86.5625             5307.35   \n",
       "2           693.9875         901.7875           4020.7625              835.25   \n",
       "\n",
       "   popScoreCityDest_Count  popScoreCityH_Count  \n",
       "1                    1.54               34.195  \n",
       "2                    0.94               34.195  "
      ]
     },
     "execution_count": 13,
     "metadata": {},
     "output_type": "execute_result"
    }
   ],
   "source": [
    "test.iloc[1:3, 47:]"
   ]
  },
  {
   "cell_type": "code",
   "execution_count": 14,
   "metadata": {
    "collapsed": true
   },
   "outputs": [],
   "source": [
    "### Save this stage:\n",
    "train.to_csv(\"~/cleantrain2013Stage4.csv\")\n",
    "test.to_csv(\"~/cleantest2014Stage4.csv\")"
   ]
  },
  {
   "cell_type": "markdown",
   "metadata": {},
   "source": [
    "cleantrain2013Stage4 and cleantest2014Stage4 contains features created discretization, PCA, historic book/click rates"
   ]
  },
  {
   "cell_type": "markdown",
   "metadata": {},
   "source": [
    "### Data Cleaning"
   ]
  },
  {
   "cell_type": "markdown",
   "metadata": {},
   "source": [
    "This script takes care of imputing the missing values."
   ]
  },
  {
   "cell_type": "code",
   "execution_count": 6,
   "metadata": {
    "collapsed": true
   },
   "outputs": [],
   "source": [
    "train = pd.read_csv(\"~/cleantrain2013Stage4.csv\")\n",
    "test = pd.read_csv(\"~/cleantest2014Stage4.csv\")"
   ]
  },
  {
   "cell_type": "code",
   "execution_count": 12,
   "metadata": {
    "collapsed": true
   },
   "outputs": [],
   "source": [
    "## duration_of_stay in both train and test set\n",
    "train[\"srch_ci\"] = pd.to_datetime(train[\"srch_ci\"], format='%Y-%m-%d', errors=\"coerce\")\n",
    "train[\"srch_co\"] = pd.to_datetime(train[\"srch_co\"], format='%Y-%m-%d', errors=\"coerce\")\n",
    "train[\"duration_of_stay\"] = (train[\"srch_co\"]-train[\"srch_ci\"]).astype('timedelta64[h]')\n",
    "train[\"duration_of_stay\"] = train[\"duration_of_stay\"]/24\n",
    "\n",
    "test[\"srch_ci\"] = pd.to_datetime(test[\"srch_ci\"], format='%Y-%m-%d', errors=\"coerce\")\n",
    "test[\"srch_co\"] = pd.to_datetime(test[\"srch_co\"], format='%Y-%m-%d', errors=\"coerce\")\n",
    "test[\"duration_of_stay\"] = (test[\"srch_co\"]-test[\"srch_ci\"]).astype('timedelta64[h]')\n",
    "test[\"duration_of_stay\"] = test[\"duration_of_stay\"]/24"
   ]
  },
  {
   "cell_type": "code",
   "execution_count": 13,
   "metadata": {
    "collapsed": false
   },
   "outputs": [],
   "source": [
    "missing_count = train.count(axis=0)\n",
    "missing_count = train.count(axis=0)\n",
    "missing = pd.DataFrame(missing_count)\n"
   ]
  },
  {
   "cell_type": "code",
   "execution_count": 10,
   "metadata": {
    "collapsed": false
   },
   "outputs": [
    {
     "data": {
      "text/html": [
       "<div>\n",
       "<table border=\"1\" class=\"dataframe\">\n",
       "  <thead>\n",
       "    <tr style=\"text-align: right;\">\n",
       "      <th></th>\n",
       "      <th>user_location_country</th>\n",
       "      <th>hotel_cluster</th>\n",
       "      <th>user_location_region</th>\n",
       "      <th>user_location_city</th>\n",
       "      <th>hotel_country</th>\n",
       "      <th>hotel_market</th>\n",
       "      <th>srch_destination_id</th>\n",
       "      <th>date_time</th>\n",
       "      <th>site_name</th>\n",
       "    </tr>\n",
       "  </thead>\n",
       "  <tbody>\n",
       "    <tr>\n",
       "      <th>0</th>\n",
       "      <td>1471411</td>\n",
       "      <td>1471411</td>\n",
       "      <td>1471411</td>\n",
       "      <td>1471411</td>\n",
       "      <td>1471411</td>\n",
       "      <td>1471411</td>\n",
       "      <td>1471411</td>\n",
       "      <td>1471411</td>\n",
       "      <td>1471411</td>\n",
       "    </tr>\n",
       "  </tbody>\n",
       "</table>\n",
       "</div>"
      ],
      "text/plain": [
       "   user_location_country  hotel_cluster  user_location_region  \\\n",
       "0                1471411        1471411               1471411   \n",
       "\n",
       "   user_location_city  hotel_country  hotel_market  srch_destination_id  \\\n",
       "0             1471411        1471411       1471411              1471411   \n",
       "\n",
       "   date_time  site_name  \n",
       "0    1471411    1471411  "
      ]
     },
     "execution_count": 10,
     "metadata": {},
     "output_type": "execute_result"
    }
   ],
   "source": [
    "missing.transpose().iloc[0:3, 1:10]"
   ]
  },
  {
   "cell_type": "code",
   "execution_count": 14,
   "metadata": {
    "collapsed": false
   },
   "outputs": [
    {
     "data": {
      "text/html": [
       "<div>\n",
       "<table border=\"1\" class=\"dataframe\">\n",
       "  <thead>\n",
       "    <tr style=\"text-align: right;\">\n",
       "      <th></th>\n",
       "      <th>orig_destination_distance</th>\n",
       "      <th>user_id</th>\n",
       "      <th>is_mobile</th>\n",
       "      <th>is_package</th>\n",
       "      <th>channel</th>\n",
       "      <th>srch_ci</th>\n",
       "      <th>srch_co</th>\n",
       "      <th>srch_adults_cnt</th>\n",
       "      <th>srch_children_cnt</th>\n",
       "    </tr>\n",
       "  </thead>\n",
       "  <tbody>\n",
       "    <tr>\n",
       "      <th>0</th>\n",
       "      <td>947444</td>\n",
       "      <td>1471411</td>\n",
       "      <td>1471411</td>\n",
       "      <td>1471411</td>\n",
       "      <td>1471411</td>\n",
       "      <td>1467879</td>\n",
       "      <td>1467879</td>\n",
       "      <td>1471411</td>\n",
       "      <td>1471411</td>\n",
       "    </tr>\n",
       "  </tbody>\n",
       "</table>\n",
       "</div>"
      ],
      "text/plain": [
       "   orig_destination_distance  user_id  is_mobile  is_package  channel  \\\n",
       "0                     947444  1471411    1471411     1471411  1471411   \n",
       "\n",
       "   srch_ci  srch_co  srch_adults_cnt  srch_children_cnt  \n",
       "0  1467879  1467879          1471411            1471411  "
      ]
     },
     "execution_count": 14,
     "metadata": {},
     "output_type": "execute_result"
    }
   ],
   "source": [
    "missing.transpose().iloc[0:3, 11:20]"
   ]
  },
  {
   "cell_type": "markdown",
   "metadata": {},
   "source": [
    "We have many missing values in the origin_destination_distance. We do not have any better way to impute these missing value\n",
    "Therefore, we will simply impute it by -1"
   ]
  },
  {
   "cell_type": "code",
   "execution_count": 15,
   "metadata": {
    "collapsed": true
   },
   "outputs": [],
   "source": [
    "train['orig_destination_distance'].fillna(-1, inplace=True)\n",
    "test['orig_destination_distance'].fillna(-1, inplace=True)"
   ]
  },
  {
   "cell_type": "code",
   "execution_count": 16,
   "metadata": {
    "collapsed": false
   },
   "outputs": [
    {
     "data": {
      "text/html": [
       "<div>\n",
       "<table border=\"1\" class=\"dataframe\">\n",
       "  <thead>\n",
       "    <tr style=\"text-align: right;\">\n",
       "      <th></th>\n",
       "      <th>srch_destination_type_id</th>\n",
       "      <th>is_booking</th>\n",
       "      <th>cnt</th>\n",
       "      <th>hotel_continent</th>\n",
       "      <th>year</th>\n",
       "      <th>month</th>\n",
       "      <th>day</th>\n",
       "      <th>hour</th>\n",
       "      <th>part_of_day</th>\n",
       "    </tr>\n",
       "  </thead>\n",
       "  <tbody>\n",
       "    <tr>\n",
       "      <th>0</th>\n",
       "      <td>1471411</td>\n",
       "      <td>1471411</td>\n",
       "      <td>1471411</td>\n",
       "      <td>1471411</td>\n",
       "      <td>1471411</td>\n",
       "      <td>1471411</td>\n",
       "      <td>1471411</td>\n",
       "      <td>1471411</td>\n",
       "      <td>1444348</td>\n",
       "    </tr>\n",
       "  </tbody>\n",
       "</table>\n",
       "</div>"
      ],
      "text/plain": [
       "   srch_destination_type_id  is_booking      cnt  hotel_continent     year  \\\n",
       "0                   1471411     1471411  1471411          1471411  1471411   \n",
       "\n",
       "     month      day     hour  part_of_day  \n",
       "0  1471411  1471411  1471411      1444348  "
      ]
     },
     "execution_count": 16,
     "metadata": {},
     "output_type": "execute_result"
    }
   ],
   "source": [
    "missing.transpose().iloc[0:3, 21:30]"
   ]
  },
  {
   "cell_type": "code",
   "execution_count": 19,
   "metadata": {
    "collapsed": true
   },
   "outputs": [],
   "source": [
    "## We impute part_of_day by 3 i.e. evening\n",
    "train['part_of_day'].fillna(3, inplace=True)\n",
    "test['part_of_day'].fillna(3, inplace=True)"
   ]
  },
  {
   "cell_type": "code",
   "execution_count": 20,
   "metadata": {
    "collapsed": false
   },
   "outputs": [
    {
     "data": {
      "text/html": [
       "<div>\n",
       "<table border=\"1\" class=\"dataframe\">\n",
       "  <thead>\n",
       "    <tr style=\"text-align: right;\">\n",
       "      <th></th>\n",
       "      <th>season</th>\n",
       "      <th>is_alone</th>\n",
       "      <th>dest_feature_pc1</th>\n",
       "      <th>dest_feature_pc2</th>\n",
       "      <th>dest_feature_pc3</th>\n",
       "      <th>clickRate</th>\n",
       "      <th>bookRate</th>\n",
       "      <th>clickMRate</th>\n",
       "      <th>bookMRate</th>\n",
       "    </tr>\n",
       "  </thead>\n",
       "  <tbody>\n",
       "    <tr>\n",
       "      <th>0</th>\n",
       "      <td>1471411</td>\n",
       "      <td>1468454</td>\n",
       "      <td>1467156</td>\n",
       "      <td>1467156</td>\n",
       "      <td>1467156</td>\n",
       "      <td>1460844</td>\n",
       "      <td>1460059</td>\n",
       "      <td>1471273</td>\n",
       "      <td>1471133</td>\n",
       "    </tr>\n",
       "  </tbody>\n",
       "</table>\n",
       "</div>"
      ],
      "text/plain": [
       "    season  is_alone  dest_feature_pc1  dest_feature_pc2  dest_feature_pc3  \\\n",
       "0  1471411   1468454           1467156           1467156           1467156   \n",
       "\n",
       "   clickRate  bookRate  clickMRate  bookMRate  \n",
       "0    1460844   1460059     1471273    1471133  "
      ]
     },
     "execution_count": 20,
     "metadata": {},
     "output_type": "execute_result"
    }
   ],
   "source": [
    "missing.transpose().iloc[0:3, 31:40]"
   ]
  },
  {
   "cell_type": "code",
   "execution_count": 21,
   "metadata": {
    "collapsed": true
   },
   "outputs": [],
   "source": [
    "## We impute is_alone by 1\n",
    "train['is_alone'].fillna(1, inplace=True)\n",
    "test['is_alone'].fillna(1, inplace=True)"
   ]
  },
  {
   "cell_type": "code",
   "execution_count": 22,
   "metadata": {
    "collapsed": true
   },
   "outputs": [],
   "source": [
    "## We impute dest_feature_pc1 by -1\n",
    "train['dest_feature_pc1'].fillna(-1, inplace=True)\n",
    "test['dest_feature_pc1'].fillna(-1, inplace=True)\n",
    "\n",
    "train['dest_feature_pc2'].fillna(-1, inplace=True)\n",
    "test['dest_feature_pc2'].fillna(-1, inplace=True)\n",
    "\n",
    "train['dest_feature_pc3'].fillna(-1, inplace=True)\n",
    "test['dest_feature_pc3'].fillna(-1, inplace=True)\n"
   ]
  },
  {
   "cell_type": "code",
   "execution_count": 25,
   "metadata": {
    "collapsed": false
   },
   "outputs": [],
   "source": [
    "# Replace all the missing rates by 0.0\n",
    "ratesVar = ['clickRate', 'bookRate', 'clickMRate',\n",
    "       'bookMRate', 'clickHCRate', 'bookHCRate', 'clickURate', 'bookURate',\n",
    "       'clickUCRRate', 'bookUCRRate', 'clickUCRate', 'bookUCRate']\n",
    "for col in ratesVar:\n",
    "    train[col].fillna(0.0, inplace=True)\n",
    "    test[col].fillna(0.0, inplace=True)\n"
   ]
  },
  {
   "cell_type": "code",
   "execution_count": 41,
   "metadata": {
    "collapsed": true
   },
   "outputs": [],
   "source": [
    "# Replace all the missing rates by 0.0\n",
    "popScore = ['popScoreHmc_Count', 'popScoreU_Count', 'popScoreSite_Count',\n",
    "           'popScoreDest_Count', 'popScoreCityDest_Count',\n",
    "              'popScoreCityH_Count']\n",
    "for col in popScore:\n",
    "    train[col].fillna(0.0, inplace=True)\n",
    "    test[col].fillna(0.0, inplace=True)"
   ]
  },
  {
   "cell_type": "code",
   "execution_count": 29,
   "metadata": {
    "collapsed": false
   },
   "outputs": [
    {
     "data": {
      "text/html": [
       "<div>\n",
       "<table border=\"1\" class=\"dataframe\">\n",
       "  <thead>\n",
       "    <tr style=\"text-align: right;\">\n",
       "      <th></th>\n",
       "      <th>popScoreHmc_Count</th>\n",
       "      <th>popScoreU_Count</th>\n",
       "      <th>popScoreSite_Count</th>\n",
       "      <th>popScoreDest_Count</th>\n",
       "      <th>popScoreCityDest_Count</th>\n",
       "      <th>popScoreCityH_Count</th>\n",
       "      <th>duration_of_stay</th>\n",
       "    </tr>\n",
       "  </thead>\n",
       "  <tbody>\n",
       "    <tr>\n",
       "      <th>0</th>\n",
       "      <td>1471411</td>\n",
       "      <td>1471411</td>\n",
       "      <td>1471411</td>\n",
       "      <td>1471411</td>\n",
       "      <td>1471411</td>\n",
       "      <td>1471411</td>\n",
       "      <td>1467879</td>\n",
       "    </tr>\n",
       "  </tbody>\n",
       "</table>\n",
       "</div>"
      ],
      "text/plain": [
       "   popScoreHmc_Count  popScoreU_Count  popScoreSite_Count  popScoreDest_Count  \\\n",
       "0            1471411          1471411             1471411             1471411   \n",
       "\n",
       "   popScoreCityDest_Count  popScoreCityH_Count  duration_of_stay  \n",
       "0                 1471411              1471411           1467879  "
      ]
     },
     "execution_count": 29,
     "metadata": {},
     "output_type": "execute_result"
    }
   ],
   "source": [
    "missing.transpose().iloc[0:3, 48:]\n"
   ]
  },
  {
   "cell_type": "code",
   "execution_count": 30,
   "metadata": {
    "collapsed": true
   },
   "outputs": [],
   "source": [
    "# duration of stay by 1\n",
    "train['duration_of_stay'].fillna(1, inplace=True)\n",
    "test['duration_of_stay'].fillna(1, inplace=True)"
   ]
  },
  {
   "cell_type": "markdown",
   "metadata": {},
   "source": [
    "Verify Missing Data Again:"
   ]
  },
  {
   "cell_type": "code",
   "execution_count": 42,
   "metadata": {
    "collapsed": true
   },
   "outputs": [],
   "source": [
    "missing_count = train.count(axis=0)\n",
    "missing_count = train.count(axis=0)\n",
    "missing = pd.DataFrame(missing_count)\n"
   ]
  },
  {
   "cell_type": "code",
   "execution_count": 43,
   "metadata": {
    "collapsed": false
   },
   "outputs": [
    {
     "data": {
      "text/plain": [
       "Unnamed: 0                   1471411\n",
       "user_location_country        1471411\n",
       "hotel_cluster                1471411\n",
       "user_location_region         1471411\n",
       "user_location_city           1471411\n",
       "hotel_country                1471411\n",
       "hotel_market                 1471411\n",
       "srch_destination_id          1471411\n",
       "date_time                    1471411\n",
       "site_name                    1471411\n",
       "posa_continent               1471411\n",
       "orig_destination_distance    1471411\n",
       "user_id                      1471411\n",
       "is_mobile                    1471411\n",
       "is_package                   1471411\n",
       "channel                      1471411\n",
       "srch_ci                      1467879\n",
       "srch_co                      1467879\n",
       "srch_adults_cnt              1471411\n",
       "srch_children_cnt            1471411\n",
       "srch_rm_cnt                  1471411\n",
       "srch_destination_type_id     1471411\n",
       "is_booking                   1471411\n",
       "cnt                          1471411\n",
       "hotel_continent              1471411\n",
       "year                         1471411\n",
       "month                        1471411\n",
       "day                          1471411\n",
       "hour                         1471411\n",
       "part_of_day                  1471411\n",
       "type_of_day                  1471411\n",
       "season                       1471411\n",
       "is_alone                     1471411\n",
       "dest_feature_pc1             1471411\n",
       "dest_feature_pc2             1471411\n",
       "dest_feature_pc3             1471411\n",
       "clickRate                    1471411\n",
       "bookRate                     1471411\n",
       "clickMRate                   1471411\n",
       "bookMRate                    1471411\n",
       "clickHCRate                  1471411\n",
       "bookHCRate                   1471411\n",
       "clickURate                   1471411\n",
       "bookURate                    1471411\n",
       "clickUCRRate                 1471411\n",
       "bookUCRRate                  1471411\n",
       "clickUCRate                  1471411\n",
       "bookUCRate                   1471411\n",
       "popScoreHmc_Count            1471411\n",
       "popScoreU_Count              1471411\n",
       "popScoreSite_Count           1471411\n",
       "popScoreDest_Count           1471411\n",
       "popScoreCityDest_Count       1471411\n",
       "popScoreCityH_Count          1471411\n",
       "duration_of_stay             1471411\n",
       "dtype: int64"
      ]
     },
     "execution_count": 43,
     "metadata": {},
     "output_type": "execute_result"
    }
   ],
   "source": [
    "missing_count"
   ]
  },
  {
   "cell_type": "code",
   "execution_count": 44,
   "metadata": {
    "collapsed": false,
    "scrolled": true
   },
   "outputs": [
    {
     "data": {
      "text/html": [
       "<div>\n",
       "<table border=\"1\" class=\"dataframe\">\n",
       "  <thead>\n",
       "    <tr style=\"text-align: right;\">\n",
       "      <th></th>\n",
       "      <th>0</th>\n",
       "    </tr>\n",
       "  </thead>\n",
       "  <tbody>\n",
       "    <tr>\n",
       "      <th>Unnamed: 0</th>\n",
       "      <td>123506</td>\n",
       "    </tr>\n",
       "    <tr>\n",
       "      <th>user_location_country</th>\n",
       "      <td>123506</td>\n",
       "    </tr>\n",
       "    <tr>\n",
       "      <th>hotel_cluster</th>\n",
       "      <td>123506</td>\n",
       "    </tr>\n",
       "    <tr>\n",
       "      <th>user_location_region</th>\n",
       "      <td>123506</td>\n",
       "    </tr>\n",
       "    <tr>\n",
       "      <th>user_location_city</th>\n",
       "      <td>123506</td>\n",
       "    </tr>\n",
       "    <tr>\n",
       "      <th>hotel_country</th>\n",
       "      <td>123506</td>\n",
       "    </tr>\n",
       "    <tr>\n",
       "      <th>hotel_market</th>\n",
       "      <td>123506</td>\n",
       "    </tr>\n",
       "    <tr>\n",
       "      <th>srch_destination_id</th>\n",
       "      <td>123506</td>\n",
       "    </tr>\n",
       "    <tr>\n",
       "      <th>date_time</th>\n",
       "      <td>123506</td>\n",
       "    </tr>\n",
       "    <tr>\n",
       "      <th>site_name</th>\n",
       "      <td>123506</td>\n",
       "    </tr>\n",
       "    <tr>\n",
       "      <th>posa_continent</th>\n",
       "      <td>123506</td>\n",
       "    </tr>\n",
       "    <tr>\n",
       "      <th>orig_destination_distance</th>\n",
       "      <td>123506</td>\n",
       "    </tr>\n",
       "    <tr>\n",
       "      <th>user_id</th>\n",
       "      <td>123506</td>\n",
       "    </tr>\n",
       "    <tr>\n",
       "      <th>is_mobile</th>\n",
       "      <td>123506</td>\n",
       "    </tr>\n",
       "    <tr>\n",
       "      <th>is_package</th>\n",
       "      <td>123506</td>\n",
       "    </tr>\n",
       "    <tr>\n",
       "      <th>channel</th>\n",
       "      <td>123506</td>\n",
       "    </tr>\n",
       "    <tr>\n",
       "      <th>srch_ci</th>\n",
       "      <td>123506</td>\n",
       "    </tr>\n",
       "    <tr>\n",
       "      <th>srch_co</th>\n",
       "      <td>123506</td>\n",
       "    </tr>\n",
       "    <tr>\n",
       "      <th>srch_adults_cnt</th>\n",
       "      <td>123506</td>\n",
       "    </tr>\n",
       "    <tr>\n",
       "      <th>srch_children_cnt</th>\n",
       "      <td>123506</td>\n",
       "    </tr>\n",
       "    <tr>\n",
       "      <th>srch_rm_cnt</th>\n",
       "      <td>123506</td>\n",
       "    </tr>\n",
       "    <tr>\n",
       "      <th>srch_destination_type_id</th>\n",
       "      <td>123506</td>\n",
       "    </tr>\n",
       "    <tr>\n",
       "      <th>is_booking</th>\n",
       "      <td>123506</td>\n",
       "    </tr>\n",
       "    <tr>\n",
       "      <th>cnt</th>\n",
       "      <td>123506</td>\n",
       "    </tr>\n",
       "    <tr>\n",
       "      <th>hotel_continent</th>\n",
       "      <td>123506</td>\n",
       "    </tr>\n",
       "    <tr>\n",
       "      <th>year</th>\n",
       "      <td>123506</td>\n",
       "    </tr>\n",
       "    <tr>\n",
       "      <th>month</th>\n",
       "      <td>123506</td>\n",
       "    </tr>\n",
       "    <tr>\n",
       "      <th>day</th>\n",
       "      <td>123506</td>\n",
       "    </tr>\n",
       "    <tr>\n",
       "      <th>hour</th>\n",
       "      <td>123506</td>\n",
       "    </tr>\n",
       "    <tr>\n",
       "      <th>part_of_day</th>\n",
       "      <td>123506</td>\n",
       "    </tr>\n",
       "    <tr>\n",
       "      <th>type_of_day</th>\n",
       "      <td>123506</td>\n",
       "    </tr>\n",
       "    <tr>\n",
       "      <th>season</th>\n",
       "      <td>123506</td>\n",
       "    </tr>\n",
       "    <tr>\n",
       "      <th>is_alone</th>\n",
       "      <td>123506</td>\n",
       "    </tr>\n",
       "    <tr>\n",
       "      <th>dest_feature_pc1</th>\n",
       "      <td>123506</td>\n",
       "    </tr>\n",
       "    <tr>\n",
       "      <th>dest_feature_pc2</th>\n",
       "      <td>123506</td>\n",
       "    </tr>\n",
       "    <tr>\n",
       "      <th>dest_feature_pc3</th>\n",
       "      <td>123506</td>\n",
       "    </tr>\n",
       "    <tr>\n",
       "      <th>clickRate</th>\n",
       "      <td>123506</td>\n",
       "    </tr>\n",
       "    <tr>\n",
       "      <th>bookRate</th>\n",
       "      <td>123506</td>\n",
       "    </tr>\n",
       "    <tr>\n",
       "      <th>clickMRate</th>\n",
       "      <td>123506</td>\n",
       "    </tr>\n",
       "    <tr>\n",
       "      <th>bookMRate</th>\n",
       "      <td>123506</td>\n",
       "    </tr>\n",
       "    <tr>\n",
       "      <th>clickHCRate</th>\n",
       "      <td>123506</td>\n",
       "    </tr>\n",
       "    <tr>\n",
       "      <th>bookHCRate</th>\n",
       "      <td>123506</td>\n",
       "    </tr>\n",
       "    <tr>\n",
       "      <th>clickURate</th>\n",
       "      <td>123506</td>\n",
       "    </tr>\n",
       "    <tr>\n",
       "      <th>bookURate</th>\n",
       "      <td>123506</td>\n",
       "    </tr>\n",
       "    <tr>\n",
       "      <th>clickUCRRate</th>\n",
       "      <td>123506</td>\n",
       "    </tr>\n",
       "    <tr>\n",
       "      <th>bookUCRRate</th>\n",
       "      <td>123506</td>\n",
       "    </tr>\n",
       "    <tr>\n",
       "      <th>clickUCRate</th>\n",
       "      <td>123506</td>\n",
       "    </tr>\n",
       "    <tr>\n",
       "      <th>bookUCRate</th>\n",
       "      <td>123506</td>\n",
       "    </tr>\n",
       "    <tr>\n",
       "      <th>popScoreHmc_Count</th>\n",
       "      <td>123506</td>\n",
       "    </tr>\n",
       "    <tr>\n",
       "      <th>popScoreU_Count</th>\n",
       "      <td>123506</td>\n",
       "    </tr>\n",
       "    <tr>\n",
       "      <th>popScoreSite_Count</th>\n",
       "      <td>123506</td>\n",
       "    </tr>\n",
       "    <tr>\n",
       "      <th>popScoreDest_Count</th>\n",
       "      <td>123506</td>\n",
       "    </tr>\n",
       "    <tr>\n",
       "      <th>popScoreCityDest_Count</th>\n",
       "      <td>123506</td>\n",
       "    </tr>\n",
       "    <tr>\n",
       "      <th>popScoreCityH_Count</th>\n",
       "      <td>123506</td>\n",
       "    </tr>\n",
       "    <tr>\n",
       "      <th>duration_of_stay</th>\n",
       "      <td>123506</td>\n",
       "    </tr>\n",
       "  </tbody>\n",
       "</table>\n",
       "</div>"
      ],
      "text/plain": [
       "                                0\n",
       "Unnamed: 0                 123506\n",
       "user_location_country      123506\n",
       "hotel_cluster              123506\n",
       "user_location_region       123506\n",
       "user_location_city         123506\n",
       "hotel_country              123506\n",
       "hotel_market               123506\n",
       "srch_destination_id        123506\n",
       "date_time                  123506\n",
       "site_name                  123506\n",
       "posa_continent             123506\n",
       "orig_destination_distance  123506\n",
       "user_id                    123506\n",
       "is_mobile                  123506\n",
       "is_package                 123506\n",
       "channel                    123506\n",
       "srch_ci                    123506\n",
       "srch_co                    123506\n",
       "srch_adults_cnt            123506\n",
       "srch_children_cnt          123506\n",
       "srch_rm_cnt                123506\n",
       "srch_destination_type_id   123506\n",
       "is_booking                 123506\n",
       "cnt                        123506\n",
       "hotel_continent            123506\n",
       "year                       123506\n",
       "month                      123506\n",
       "day                        123506\n",
       "hour                       123506\n",
       "part_of_day                123506\n",
       "type_of_day                123506\n",
       "season                     123506\n",
       "is_alone                   123506\n",
       "dest_feature_pc1           123506\n",
       "dest_feature_pc2           123506\n",
       "dest_feature_pc3           123506\n",
       "clickRate                  123506\n",
       "bookRate                   123506\n",
       "clickMRate                 123506\n",
       "bookMRate                  123506\n",
       "clickHCRate                123506\n",
       "bookHCRate                 123506\n",
       "clickURate                 123506\n",
       "bookURate                  123506\n",
       "clickUCRRate               123506\n",
       "bookUCRRate                123506\n",
       "clickUCRate                123506\n",
       "bookUCRate                 123506\n",
       "popScoreHmc_Count          123506\n",
       "popScoreU_Count            123506\n",
       "popScoreSite_Count         123506\n",
       "popScoreDest_Count         123506\n",
       "popScoreCityDest_Count     123506\n",
       "popScoreCityH_Count        123506\n",
       "duration_of_stay           123506"
      ]
     },
     "execution_count": 44,
     "metadata": {},
     "output_type": "execute_result"
    }
   ],
   "source": [
    "missing_count = test.count(axis=0)\n",
    "missing_count = test.count(axis=0)\n",
    "missing = pd.DataFrame(missing_count)\n",
    "missing"
   ]
  },
  {
   "cell_type": "code",
   "execution_count": 45,
   "metadata": {
    "collapsed": false
   },
   "outputs": [
    {
     "data": {
      "text/plain": [
       "(1471411, 55)"
      ]
     },
     "execution_count": 45,
     "metadata": {},
     "output_type": "execute_result"
    }
   ],
   "source": [
    "train.shape"
   ]
  },
  {
   "cell_type": "code",
   "execution_count": 46,
   "metadata": {
    "collapsed": false
   },
   "outputs": [
    {
     "data": {
      "text/plain": [
       "(123506, 55)"
      ]
     },
     "execution_count": 46,
     "metadata": {},
     "output_type": "execute_result"
    }
   ],
   "source": [
    "test.shape"
   ]
  },
  {
   "cell_type": "code",
   "execution_count": null,
   "metadata": {
    "collapsed": true
   },
   "outputs": [],
   "source": []
  },
  {
   "cell_type": "markdown",
   "metadata": {},
   "source": [
    "We again downsample data as we have to use evaluate performance of multiple algorithm:\n",
    "    "
   ]
  },
  {
   "cell_type": "code",
   "execution_count": 49,
   "metadata": {
    "collapsed": false
   },
   "outputs": [
    {
     "name": "stdout",
     "output_type": "stream",
     "text": [
      "('We have data for', 235750, 'users')\n",
      "('new sample contains', 495745, 'rows and', 55, 'columns')\n"
     ]
    }
   ],
   "source": [
    "import random\n",
    "random.seed(24)\n",
    "unique_users = train.user_id.unique()\n",
    "print(\"We have data for\", len(unique_users), \"users\")\n",
    "sel_user_ids = [unique_users[i] for i in sorted(random.sample(range(len(unique_users)), 80000)) ]\n",
    "train_sample = train[train.user_id.isin(sel_user_ids)]\n",
    "print(\"new sample contains\", train_sample.shape[0], \"rows and\", train_sample.shape[1], \"columns\")"
   ]
  },
  {
   "cell_type": "code",
   "execution_count": 50,
   "metadata": {
    "collapsed": true
   },
   "outputs": [],
   "source": [
    "#Select data for selected user from test set\n",
    "test_sample = test[test.user_id.isin(sel_user_ids)]"
   ]
  },
  {
   "cell_type": "code",
   "execution_count": 51,
   "metadata": {
    "collapsed": false
   },
   "outputs": [
    {
     "data": {
      "text/plain": [
       "(41597, 55)"
      ]
     },
     "execution_count": 51,
     "metadata": {},
     "output_type": "execute_result"
    }
   ],
   "source": [
    "test_sample.shape"
   ]
  },
  {
   "cell_type": "code",
   "execution_count": 52,
   "metadata": {
    "collapsed": false
   },
   "outputs": [
    {
     "data": {
      "text/plain": [
       "100"
      ]
     },
     "execution_count": 52,
     "metadata": {},
     "output_type": "execute_result"
    }
   ],
   "source": [
    "len(train.hotel_cluster.unique())"
   ]
  },
  {
   "cell_type": "code",
   "execution_count": 53,
   "metadata": {
    "collapsed": false
   },
   "outputs": [
    {
     "data": {
      "text/plain": [
       "(173973, 55)"
      ]
     },
     "execution_count": 53,
     "metadata": {},
     "output_type": "execute_result"
    }
   ],
   "source": [
    "data = train_sample[train_sample.is_booking==1]\n",
    "data.shape"
   ]
  },
  {
   "cell_type": "code",
   "execution_count": 54,
   "metadata": {
    "collapsed": false
   },
   "outputs": [
    {
     "data": {
      "text/plain": [
       "(321772, 55)"
      ]
     },
     "execution_count": 54,
     "metadata": {},
     "output_type": "execute_result"
    }
   ],
   "source": [
    "data = train_sample[train_sample.is_booking==0]\n",
    "data.shape"
   ]
  },
  {
   "cell_type": "code",
   "execution_count": null,
   "metadata": {
    "collapsed": true
   },
   "outputs": [],
   "source": [
    "We have a good balance of clicks and booking events in our final set."
   ]
  },
  {
   "cell_type": "code",
   "execution_count": 55,
   "metadata": {
    "collapsed": true
   },
   "outputs": [],
   "source": [
    "train_sample.to_csv(\"~/FinalTrainingSet.csv\")\n",
    "test_sample.to_csv(\"~/FinalTestSet.csv\")"
   ]
  }
 ],
 "metadata": {
  "anaconda-cloud": {},
  "kernelspec": {
   "display_name": "Python [conda root]",
   "language": "python",
   "name": "conda-root-py"
  },
  "language_info": {
   "codemirror_mode": {
    "name": "ipython",
    "version": 2
   },
   "file_extension": ".py",
   "mimetype": "text/x-python",
   "name": "python",
   "nbconvert_exporter": "python",
   "pygments_lexer": "ipython2",
   "version": "2.7.12"
  }
 },
 "nbformat": 4,
 "nbformat_minor": 1
}
