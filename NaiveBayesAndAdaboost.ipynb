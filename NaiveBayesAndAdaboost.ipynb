{
 "cells": [
  {
   "cell_type": "markdown",
   "metadata": {},
   "source": [
    "#  Naive Bayes + AdaBoost, And Logistic Regression"
   ]
  },
  {
   "cell_type": "code",
   "execution_count": 1,
   "metadata": {
    "collapsed": false
   },
   "outputs": [
    {
     "name": "stdout",
     "output_type": "stream",
     "text": [
      "imported libraries . . . \n"
     ]
    }
   ],
   "source": [
    "import numpy as np\n",
    "import pandas as pd\n",
    "import seaborn as sns\n",
    "%matplotlib inline\n",
    "print(\"imported libraries . . . \")"
   ]
  },
  {
   "cell_type": "code",
   "execution_count": 2,
   "metadata": {
    "collapsed": false,
    "scrolled": true
   },
   "outputs": [
    {
     "name": "stdout",
     "output_type": "stream",
     "text": [
      "('size of train', (495745, 56))\n",
      "('size of train', (41597, 56))\n"
     ]
    },
    {
     "data": {
      "text/plain": [
       "array(['user_location_country', 'hotel_cluster', 'user_location_region',\n",
       "       'user_location_city', 'hotel_country', 'hotel_market',\n",
       "       'srch_destination_id', 'date_time', 'site_name', 'posa_continent',\n",
       "       'orig_destination_distance', 'user_id', 'is_mobile', 'is_package',\n",
       "       'channel', 'srch_ci', 'srch_co', 'srch_adults_cnt',\n",
       "       'srch_children_cnt', 'srch_rm_cnt', 'srch_destination_type_id',\n",
       "       'is_booking', 'cnt', 'hotel_continent', 'year', 'month', 'day',\n",
       "       'hour', 'part_of_day', 'type_of_day', 'season', 'is_alone',\n",
       "       'dest_feature_pc1', 'dest_feature_pc2', 'dest_feature_pc3',\n",
       "       'clickRate', 'bookRate', 'clickMRate', 'bookMRate', 'clickHCRate',\n",
       "       'bookHCRate', 'clickURate', 'bookURate', 'clickUCRRate',\n",
       "       'bookUCRRate', 'clickUCRate', 'bookUCRate', 'popScoreHmc_Count',\n",
       "       'popScoreU_Count', 'popScoreSite_Count', 'popScoreDest_Count',\n",
       "       'popScoreCityDest_Count', 'popScoreCityH_Count', 'duration_of_stay'], dtype=object)"
      ]
     },
     "execution_count": 2,
     "metadata": {},
     "output_type": "execute_result"
    }
   ],
   "source": [
    "trainPath = \"~/Final/FinalTrainingSet.csv\"\n",
    "testPath = \"~/Final/FinalTestSet.csv\"\n",
    "train = pd.read_csv(trainPath)\n",
    "test = pd.read_csv(testPath)\n",
    "print(\"size of train\", train.shape)\n",
    "print(\"size of train\", test.shape)\n",
    "train.columns.values[2:]"
   ]
  },
  {
   "cell_type": "code",
   "execution_count": 7,
   "metadata": {
    "collapsed": false,
    "scrolled": true
   },
   "outputs": [
    {
     "data": {
      "text/plain": [
       "54"
      ]
     },
     "execution_count": 7,
     "metadata": {},
     "output_type": "execute_result"
    }
   ],
   "source": [
    "len(test.columns.values[2:]) ## 53 Features"
   ]
  },
  {
   "cell_type": "markdown",
   "metadata": {},
   "source": [
    "# Naive Bayes"
   ]
  },
  {
   "cell_type": "code",
   "execution_count": 8,
   "metadata": {
    "collapsed": false
   },
   "outputs": [
    {
     "data": {
      "text/plain": [
       "array([ 8.56563864,  8.86724343,  8.97318232,  8.78982305,  8.09629996])"
      ]
     },
     "execution_count": 8,
     "metadata": {},
     "output_type": "execute_result"
    }
   ],
   "source": [
    "### encode the categorical variable to numberic before fitting the model\n",
    "from sklearn.preprocessing import LabelEncoder\n",
    "le = LabelEncoder()\n",
    "transForm = ['season', 'hotel_continent', 'hotel_country','hotel_market', 'is_alone', 'type_of_day']\n",
    "for col in transForm:\n",
    "    test[col] = le.fit_transform(test[col])\n",
    "    train[col] = le.fit_transform(train[col])\n",
    "\n",
    "final_set = [ 'user_location_region', 'season', 'hotel_continent', 'hotel_country','hotel_market', \n",
    "              'type_of_day', 'is_alone','dest_feature_pc1',\n",
    "              'dest_feature_pc2','dest_feature_pc3','duration_of_stay', 'orig_destination_distance']\n",
    "\n",
    "from sklearn.naive_bayes import GaussianNB\n",
    "from sklearn import cross_validation\n",
    "model4_NB = GaussianNB()\n",
    "scorescvNB = cross_validation.cross_val_score(model4_NB, train[final_set], train['hotel_cluster'], cv=5)\n",
    "scorescvNB*100"
   ]
  },
  {
   "cell_type": "code",
   "execution_count": 9,
   "metadata": {
    "collapsed": false
   },
   "outputs": [
    {
     "name": "stdout",
     "output_type": "stream",
     "text": [
      "('Naive Bayes Test score:', 7.1880183667091382)\n"
     ]
    }
   ],
   "source": [
    "model4_NB.fit(train[final_set], train['hotel_cluster'])\n",
    "NBScore = model4_NB.score(test[final_set], test['hotel_cluster'])\n",
    "print(\"Naive Bayes Test score:\", NBScore*100)"
   ]
  },
  {
   "cell_type": "code",
   "execution_count": 10,
   "metadata": {
    "collapsed": false
   },
   "outputs": [
    {
     "data": {
      "text/plain": [
       "8.6584374805790993"
      ]
     },
     "execution_count": 10,
     "metadata": {},
     "output_type": "execute_result"
    }
   ],
   "source": [
    "scorescvNB.mean()*100"
   ]
  },
  {
   "cell_type": "markdown",
   "metadata": {},
   "source": [
    "# Multinomial Naive Bayes"
   ]
  },
  {
   "cell_type": "code",
   "execution_count": 11,
   "metadata": {
    "collapsed": true
   },
   "outputs": [],
   "source": [
    "setnonNeg = ['user_location_region', 'season', 'hotel_continent', 'hotel_country','hotel_market', \n",
    "              'type_of_day', 'is_alone', 'user_location_country',\n",
    "               'user_location_region', 'user_location_city']"
   ]
  },
  {
   "cell_type": "code",
   "execution_count": 12,
   "metadata": {
    "collapsed": false
   },
   "outputs": [
    {
     "data": {
      "text/plain": [
       "array([ 1.17454908,  1.22612782,  0.95611744,  0.87161794,  0.86169494])"
      ]
     },
     "execution_count": 12,
     "metadata": {},
     "output_type": "execute_result"
    }
   ],
   "source": [
    "from sklearn.naive_bayes import MultinomialNB\n",
    "from sklearn import cross_validation\n",
    "model5_MNB = MultinomialNB()\n",
    "scorescvMNB = cross_validation.cross_val_score(model5_MNB, train[setnonNeg], train['hotel_cluster'], cv=5)\n",
    "scorescvMNB*100"
   ]
  },
  {
   "cell_type": "code",
   "execution_count": 13,
   "metadata": {
    "collapsed": false
   },
   "outputs": [
    {
     "data": {
      "text/plain": [
       "1.0180214426862177"
      ]
     },
     "execution_count": 13,
     "metadata": {},
     "output_type": "execute_result"
    }
   ],
   "source": [
    "scorescvMNB.mean()*100"
   ]
  },
  {
   "cell_type": "markdown",
   "metadata": {},
   "source": [
    "# Adaboost Classifier"
   ]
  },
  {
   "cell_type": "markdown",
   "metadata": {},
   "source": [
    "Adaboost Model 1"
   ]
  },
  {
   "cell_type": "code",
   "execution_count": 14,
   "metadata": {
    "collapsed": false
   },
   "outputs": [
    {
     "name": "stdout",
     "output_type": "stream",
     "text": [
      "('CV Score of Adaboost:', array([ 8.28939276,  7.20854256,  6.25308872,  7.89903759,  7.44548821]))\n",
      "('Adaboost Test score:', 7.3851479674014957)\n"
     ]
    }
   ],
   "source": [
    "final_set = [ 'user_location_region', 'season', 'hotel_continent', 'hotel_country','hotel_market', \n",
    "              'type_of_day', 'is_alone','dest_feature_pc1',\n",
    "              'dest_feature_pc2','dest_feature_pc3','duration_of_stay', 'orig_destination_distance']\n",
    "\n",
    "from sklearn.ensemble import AdaBoostClassifier\n",
    "model7_AB = AdaBoostClassifier()\n",
    "scorescvAB = cross_validation.cross_val_score(model7_AB, train[final_set], train['hotel_cluster'], cv=5)\n",
    "print(\"CV Score of Adaboost:\",scorescvAB*100)\n",
    "model7_AB.fit(train[final_set], train['hotel_cluster'])\n",
    "adaboostTestScore = model7_AB.score(test[final_set], test['hotel_cluster'])\n",
    "print(\"Adaboost Test score:\", adaboostTestScore*100)"
   ]
  },
  {
   "cell_type": "markdown",
   "metadata": {},
   "source": [
    "##### Adaboost Model 2"
   ]
  },
  {
   "cell_type": "code",
   "execution_count": 17,
   "metadata": {
    "collapsed": false
   },
   "outputs": [
    {
     "name": "stdout",
     "output_type": "stream",
     "text": [
      "('CV Score of Adaboost:', array([ 6.25888473,  3.66830016,  4.04131073,  3.60349454,  2.93722946]))\n",
      "('Adaboost Test score:', 4.632545616270404)\n"
     ]
    }
   ],
   "source": [
    "popScore = ['popScoreHmc_Count', 'popScoreU_Count', 'popScoreSite_Count',\n",
    "           'popScoreDest_Count', 'popScoreCityDest_Count',\n",
    "              'popScoreCityH_Count']\n",
    "\n",
    "from sklearn.ensemble import AdaBoostClassifier\n",
    "model8_AB = AdaBoostClassifier()\n",
    "scorescvAB = cross_validation.cross_val_score(model8_AB, train[popScore], train['hotel_cluster'], cv=5)\n",
    "print(\"CV Score of Adaboost:\",scorescvAB*100)\n",
    "model8_AB.fit(train[popScore], train['hotel_cluster'])\n",
    "adaboostTestScore = model8_AB.score(test[popScore], test['hotel_cluster'])\n",
    "print(\"Adaboost Test score:\", adaboostTestScore*100)"
   ]
  },
  {
   "cell_type": "markdown",
   "metadata": {},
   "source": [
    "# Logistic Regression"
   ]
  },
  {
   "cell_type": "markdown",
   "metadata": {},
   "source": [
    "### Binomial Logistic Regression"
   ]
  },
  {
   "cell_type": "code",
   "execution_count": 21,
   "metadata": {
    "collapsed": false
   },
   "outputs": [
    {
     "name": "stdout",
     "output_type": "stream",
     "text": [
      "('CV Score of Logistic Regression:', array([ 8.96488451,  9.78381431,  9.65093645,  9.62310595,  9.08513021]))\n",
      "('Binary Logistic Regression Test score:', 9.0751736904103666)\n"
     ]
    }
   ],
   "source": [
    "final_set = [ 'user_location_region', 'season', 'hotel_continent', 'hotel_country','hotel_market', \n",
    "              'type_of_day', 'is_alone','dest_feature_pc1',\n",
    "              'dest_feature_pc2','dest_feature_pc3','duration_of_stay', 'orig_destination_distance']\n",
    "\n",
    "from sklearn.linear_model import LogisticRegression\n",
    "model5_LR = LogisticRegression(penalty = 'l2', max_iter = 100, random_state = 3, multi_class = 'ovr',\n",
    "                               n_jobs=-1)\n",
    "cv_LR = cross_validation.cross_val_score(model5_LR, train[final_set], train['hotel_cluster'], cv=5)\n",
    " \n",
    "\n",
    "print(\"CV Score of Logistic Regression:\",cv_LR*100)\n",
    "model5_LR.fit(train[final_set], train['hotel_cluster'])\n",
    "testScoreLr = model5_LR.score(test[final_set], test['hotel_cluster'])\n",
    "print(\"Binary Logistic Regression Test score:\", testScoreLr*100)\n"
   ]
  },
  {
   "cell_type": "markdown",
   "metadata": {},
   "source": [
    "### Multinomial Logistic Regression"
   ]
  },
  {
   "cell_type": "code",
   "execution_count": null,
   "metadata": {
    "collapsed": false
   },
   "outputs": [],
   "source": [
    "final_set = [ 'user_location_region', 'season', 'hotel_continent', 'hotel_country','hotel_market', \n",
    "              'type_of_day', 'is_alone','dest_feature_pc1',\n",
    "              'dest_feature_pc2','dest_feature_pc3','duration_of_stay', 'orig_destination_distance']\n",
    "\n",
    "from sklearn.linear_model import LogisticRegression\n",
    "from sklearn import cross_validation\n",
    "\n",
    "model6_LR = LogisticRegression(max_iter = 100, solver = 'newton-cg', random_state = 3, multi_class = 'multinomial',\n",
    "                               n_jobs=-1)\n",
    "cv_LR = cross_validation.cross_val_score(model6_LR, train[final_set], train['hotel_cluster'], cv=5)\n",
    " \n",
    "\n",
    "print(\"CV Score of Multinomial logistic Regression:\",cv_LR*100)\n",
    "model6_LR.fit(train[final_set], train['hotel_cluster'])\n",
    "testScoreLr = model6_LR.score(test[final_set], test['hotel_cluster'])\n",
    "print(\"Multinomial Logistic Regression Test score:\", testScoreLr*100)\n"
   ]
  },
  {
   "cell_type": "code",
   "execution_count": null,
   "metadata": {
    "collapsed": true
   },
   "outputs": [],
   "source": [
    "print(\"Multinomial Logistic Regression Test score:\", testScoreLr*100)"
   ]
  },
  {
   "cell_type": "markdown",
   "metadata": {},
   "source": [
    "### Ensemble Of Naive Bayes and Adaboost"
   ]
  },
  {
   "cell_type": "code",
   "execution_count": 27,
   "metadata": {
    "collapsed": false
   },
   "outputs": [
    {
     "data": {
      "text/plain": [
       "6.0274664439307708"
      ]
     },
     "execution_count": 27,
     "metadata": {},
     "output_type": "execute_result"
    }
   ],
   "source": [
    "from sklearn.ensemble import VotingClassifier\n",
    "NaiveBayesModel = GaussianNB()\n",
    "adaboost  = AdaBoostClassifier()\n",
    "nb_adaboot = VotingClassifier(estimators=[('M1',NaiveBayesModel), ('M2', adaboost)], voting='soft')\n",
    "                              \n",
    "nb_adaboot.fit(train[final_set], train['hotel_cluster'])       \n",
    "nb_adabootScore = nb_adaboot.score(test[final_set], test['hotel_cluster']) \n",
    "nb_adabootScore = nb_adaboot.score(test[final_set], test['hotel_cluster'])  \n",
    "nb_adabootScore"
   ]
  }
 ],
 "metadata": {
  "anaconda-cloud": {},
  "kernelspec": {
   "display_name": "Python [conda root]",
   "language": "python",
   "name": "conda-root-py"
  },
  "language_info": {
   "codemirror_mode": {
    "name": "ipython",
    "version": 2
   },
   "file_extension": ".py",
   "mimetype": "text/x-python",
   "name": "python",
   "nbconvert_exporter": "python",
   "pygments_lexer": "ipython2",
   "version": "2.7.12"
  }
 },
 "nbformat": 4,
 "nbformat_minor": 1
}
